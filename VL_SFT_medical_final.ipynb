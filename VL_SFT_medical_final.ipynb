{
 "cells": [
  {
   "cell_type": "code",
   "execution_count": null,
   "metadata": {},
   "outputs": [],
   "source": [
    "!pip install unsloth unsloth_zoo 'peft==0.15.2' 'transformers==4.52.4'\n",
    "!pip install --pre --upgrade --no-cache-dir torchvision --extra-index-url https://download.pytorch.org/whl/nightly/cu128"
   ]
  },
  {
   "cell_type": "code",
   "execution_count": 2,
   "metadata": {},
   "outputs": [
    {
     "data": {
      "text/plain": [
       "'4.52.4'"
      ]
     },
     "execution_count": 2,
     "metadata": {},
     "output_type": "execute_result"
    }
   ],
   "source": [
    "import transformers\n",
    "transformers.__version__"
   ]
  },
  {
   "cell_type": "code",
   "execution_count": 15,
   "metadata": {
    "colab": {
     "base_uri": "https://localhost:8080/"
    },
    "id": "pXvwzohcrcnM",
    "outputId": "18b34b95-03b8-4ff0-91b9-418e6c89b0c1"
   },
   "outputs": [
    {
     "name": "stdout",
     "output_type": "stream",
     "text": [
      "==((====))==  Unsloth 2025.6.12: Fast Qwen2_5_Vl patching. Transformers: 4.52.4.\n",
      "   \\\\   /|    NVIDIA GeForce RTX 4090. Num GPUs = 1. Max memory: 23.643 GB. Platform: Linux.\n",
      "O^O/ \\_/ \\    Torch: 2.6.0+cu124. CUDA: 8.9. CUDA Toolkit: 12.4. Triton: 3.2.0\n",
      "\\        /    Bfloat16 = TRUE. FA [Xformers = 0.0.29.post3. FA2 = False]\n",
      " \"-____-\"     Free license: http://github.com/unslothai/unsloth\n",
      "Unsloth: Fast downloading is enabled - ignore downloading bars which are red colored!\n"
     ]
    }
   ],
   "source": [
    "from unsloth import FastVisionModel # FastLanguageModel for LLMs\n",
    "import torch\n",
    "\n",
    "model, tokenizer = FastVisionModel.from_pretrained(\n",
    "    \"unsloth/Qwen2.5-VL-7B-Instruct-bnb-4bit\",\n",
    "    # \"Cherran/grpo_ckpt_75_bs_4_VL_medical_qwen2point5_7b\",\n",
    "    load_in_4bit = True, # Use 4bit to reduce memory use. False for 16bit LoRA.\n",
    "    use_gradient_checkpointing = \"unsloth\", # True or \"unsloth\" for long context\n",
    ")"
   ]
  },
  {
   "cell_type": "code",
   "execution_count": 16,
   "metadata": {
    "colab": {
     "base_uri": "https://localhost:8080/"
    },
    "id": "0hyajIZ-roRg",
    "outputId": "90a297ed-bfe9-4c5b-f9b8-4105b4ada074",
    "scrolled": true
   },
   "outputs": [
    {
     "data": {
      "text/plain": [
       "Dataset({\n",
       "    features: ['image', 'prompt', 'summary'],\n",
       "    num_rows: 732\n",
       "})"
      ]
     },
     "execution_count": 16,
     "metadata": {},
     "output_type": "execute_result"
    }
   ],
   "source": [
    "from datasets import load_dataset\n",
    "\n",
    "dataset = load_dataset(\"Cherran/train_orig_medical_summaries\", split = 'train')\n",
    "dataset"
   ]
  },
  {
   "cell_type": "code",
   "execution_count": 17,
   "metadata": {
    "id": "JSm7c868sR88"
   },
   "outputs": [],
   "source": [
    "\n",
    "def convert_to_conversation(sample):\n",
    "    \"\"\"\n",
    "    Converts a sample with a list of images into the Unsloth VLM conversation format.\n",
    "    \"\"\"\n",
    "    user_content = [\n",
    "        {\"type\": \"text\", \"text\": sample['prompt']}\n",
    "    ]\n",
    "\n",
    "    for image_object in sample[\"image\"]:\n",
    "        user_content.append(\n",
    "            {\"type\": \"image\", \"image\": image_object}\n",
    "        )\n",
    "\n",
    "    assistant_response = sample['summary']\n",
    "\n",
    "    conversation = [\n",
    "        {\n",
    "            \"role\": \"user\",\n",
    "            \"content\": user_content  # Use the dynamically built list here\n",
    "        },\n",
    "        {\n",
    "            \"role\": \"assistant\",\n",
    "            \"content\": [\n",
    "                {\"type\": \"text\", \"text\": assistant_response}\n",
    "            ]\n",
    "        },\n",
    "    ]\n",
    "    return {\"messages\": conversation}"
   ]
  },
  {
   "cell_type": "code",
   "execution_count": null,
   "metadata": {
    "id": "b0LE0UFhvUxn"
   },
   "outputs": [],
   "source": [
    "dataset = dataset.shuffle(seed = 42)"
   ]
  },
  {
   "cell_type": "code",
   "execution_count": null,
   "metadata": {
    "id": "tSQ83v8ky-aC"
   },
   "outputs": [],
   "source": [
    "converted_dataset = [convert_to_conversation(sample) for sample in dataset]"
   ]
  },
  {
   "cell_type": "code",
   "execution_count": 20,
   "metadata": {
    "colab": {
     "base_uri": "https://localhost:8080/"
    },
    "id": "PUpnyf6AzBaX",
    "outputId": "8ceaad53-7d77-45c2-e200-ad8762877a79"
   },
   "outputs": [
    {
     "data": {
      "text/plain": [
       "{'messages': [{'role': 'user',\n",
       "   'content': [{'type': 'text',\n",
       "     'text': 'You are an excellent medical paragraph generator. I have drug names and Adverse Drug reactions Keywords. Consolidate all information in one paragrah without adding any extra knowledge or text.\\n  drug_names: herceptin\\n  physical_adverse_effects: joint pain, knee pain, hip pain, back pain\\n\\n  Strcitly output the paragraph no explanations.\\n'}]},\n",
       "  {'role': 'assistant',\n",
       "   'content': [{'type': 'text',\n",
       "     'text': 'Herceptin may cause several physical adverse effects including joint pain, knee pain, hip pain, and back pain.'}]}]}"
      ]
     },
     "execution_count": 20,
     "metadata": {},
     "output_type": "execute_result"
    }
   ],
   "source": [
    "converted_dataset[0]"
   ]
  },
  {
   "cell_type": "code",
   "execution_count": 21,
   "metadata": {
    "id": "yGQOFFfSy1aI"
   },
   "outputs": [],
   "source": [
    "model = FastVisionModel.get_peft_model(\n",
    "    model,\n",
    "    finetune_vision_layers     = True, # False if not finetuning vision layers\n",
    "    finetune_language_layers   = True, # False if not finetuning language layers\n",
    "    finetune_attention_modules = True, # False if not finetuning attention layers\n",
    "    finetune_mlp_modules       = True, # False if not finetuning MLP layers\n",
    "\n",
    "    r = 32,\n",
    "    lora_alpha = 32,\n",
    "    lora_dropout = 0,\n",
    "    bias = \"none\",\n",
    "    random_state = 3407,\n",
    "    use_rslora = False,\n",
    "    loftq_config = None, # And LoftQ\n",
    "    # target_modules = \"all-linear\", # Optional now! Can specify a list if needed\n",
    ")"
   ]
  },
  {
   "cell_type": "markdown",
   "metadata": {},
   "source": [
    "### This is optional, i added dummy image in places where images is not present"
   ]
  },
  {
   "cell_type": "code",
   "execution_count": null,
   "metadata": {
    "colab": {
     "base_uri": "https://localhost:8080/",
     "height": 49,
     "referenced_widgets": [
      "83a9358040184b788dfe75c18248232c",
      "ff1979990f60488ab3a7dd840419c36b",
      "f2281c844a6f496e82b4940d3ae00636",
      "a640fe20d4b9430e93da02e3ef899ef4",
      "393eff095bca4868bfe26a4eb5dc01fb",
      "7138e587d2ed425d98ffac3af1e26f5c",
      "a1fb98a52721452f869390c4aacbf0cb",
      "d9235fcbe51a4286abff5d30385ba51b",
      "6e0e517537834770985e4c6538981b07",
      "0988703d75354ea09807cdef56f0b085",
      "aa1fe859894d45eaad84239fd5c59d5a"
     ]
    },
    "id": "gkMmFYy18YHY",
    "outputId": "db9e8cee-2a36-4e2b-999e-e679f2aefbde"
   },
   "outputs": [],
   "source": [
    "from PIL import Image\n",
    "\n",
    "dummy_image = Image.new('RGB', (512, 512), color = 'black')\n",
    "\n",
    "def add_dummy_image(example):\n",
    "    if not example[\"image\"]:  \n",
    "        example[\"image\"] = [dummy_image] \n",
    "    return example\n",
    "\n",
    "dataset_with_dummies = dataset.map(add_dummy_image)"
   ]
  },
  {
   "cell_type": "code",
   "execution_count": 28,
   "metadata": {
    "colab": {
     "base_uri": "https://localhost:8080/"
    },
    "id": "MkfzU8Zr-LLH",
    "outputId": "c9b0dbd2-6f31-4af6-e4c0-b437af657cd8"
   },
   "outputs": [
    {
     "data": {
      "text/plain": [
       "{'messages': [{'role': 'user',\n",
       "   'content': [{'type': 'text',\n",
       "     'text': 'You are an excellent medical paragraph generator. I have drug names and Adverse Drug reactions Keywords. Consolidate all information in one paragrah without adding any extra knowledge or text.\\n  drug_names: herceptin\\n  physical_adverse_effects: joint pain, knee pain, hip pain, back pain\\n\\n  Strcitly output the paragraph no explanations.\\n'},\n",
       "    {'type': 'image',\n",
       "     'image': <PIL.PngImagePlugin.PngImageFile image mode=RGB size=512x512>}]},\n",
       "  {'role': 'assistant',\n",
       "   'content': [{'type': 'text',\n",
       "     'text': 'Herceptin may cause several physical adverse effects including joint pain, knee pain, hip pain, and back pain.'}]}]}"
      ]
     },
     "execution_count": 28,
     "metadata": {},
     "output_type": "execute_result"
    }
   ],
   "source": [
    "converted_dataset = [convert_to_conversation(sample) for sample in dataset_with_dummies]\n",
    "converted_dataset[0]"
   ]
  },
  {
   "cell_type": "markdown",
   "metadata": {},
   "source": [
    "#### traning"
   ]
  },
  {
   "cell_type": "code",
   "execution_count": null,
   "metadata": {
    "colab": {
     "base_uri": "https://localhost:8080/"
    },
    "id": "mvl-xd0pydl5",
    "outputId": "6626cdcf-ef4e-4e5e-adc5-8125649c04d8"
   },
   "outputs": [
    {
     "name": "stdout",
     "output_type": "stream",
     "text": [
      "Unsloth: Model does not have a default image size - using 512\n"
     ]
    }
   ],
   "source": [
    "from unsloth.trainer import UnslothVisionDataCollator\n",
    "from trl import SFTTrainer, SFTConfig\n",
    "\n",
    "FastVisionModel.for_training(model) # Enable for training!\n",
    "\n",
    "trainer = SFTTrainer(\n",
    "    model = model,\n",
    "    tokenizer = tokenizer,\n",
    "    data_collator = UnslothVisionDataCollator(model, tokenizer), # Must use!\n",
    "    train_dataset = converted_dataset,\n",
    "    args = SFTConfig(\n",
    "        per_device_train_batch_size = 8,\n",
    "        gradient_accumulation_steps = 2,\n",
    "        warmup_steps = 5,\n",
    "        # max_steps = 30,\n",
    "        num_train_epochs = 1, # Set this instead of max_steps for full training runs\n",
    "        learning_rate = 5e-4,\n",
    "        logging_steps = 1,\n",
    "        optim = \"adamw_8bit\",\n",
    "        weight_decay = 0.01,\n",
    "        lr_scheduler_type = \"cosine\",\n",
    "        seed = 3407,\n",
    "        output_dir = \"outputs\",\n",
    "        report_to = \"none\",     # you can use Weights and Biases\n",
    "\n",
    "        # You MUST put the below items for vision finetuning:\n",
    "        remove_unused_columns = False,\n",
    "        dataset_text_field = \"\",\n",
    "        dataset_kwargs = {\"skip_prepare_dataset\": True},\n",
    "        dataset_num_proc = 4,\n",
    "        max_seq_length = 1024,\n",
    "    ),\n",
    ")"
   ]
  },
  {
   "cell_type": "code",
   "execution_count": 30,
   "metadata": {
    "colab": {
     "base_uri": "https://localhost:8080/",
     "height": 1000
    },
    "id": "IxMtex3TyucY",
    "outputId": "80a84be7-f294-4264-992c-022ed55fcc9d",
    "scrolled": true
   },
   "outputs": [
    {
     "name": "stderr",
     "output_type": "stream",
     "text": [
      "==((====))==  Unsloth - 2x faster free finetuning | Num GPUs used = 1\n",
      "   \\\\   /|    Num examples = 732 | Num Epochs = 1 | Total steps = 46\n",
      "O^O/ \\_/ \\    Batch size per device = 8 | Gradient accumulation steps = 2\n",
      "\\        /    Data Parallel GPUs = 1 | Total batch size (8 x 2 x 1) = 16\n",
      " \"-____-\"     Trainable parameters = 103,043,072 of 7,000,000,000 (1.47% trained)\n",
      "`use_cache=True` is incompatible with gradient checkpointing. Setting `use_cache=False`...\n"
     ]
    },
    {
     "name": "stdout",
     "output_type": "stream",
     "text": [
      "Unsloth: Will smartly offload gradients to save VRAM!\n"
     ]
    },
    {
     "data": {
      "text/html": [
       "\n",
       "    <div>\n",
       "      \n",
       "      <progress value='46' max='46' style='width:300px; height:20px; vertical-align: middle;'></progress>\n",
       "      [46/46 04:01, Epoch 1/1]\n",
       "    </div>\n",
       "    <table border=\"1\" class=\"dataframe\">\n",
       "  <thead>\n",
       " <tr style=\"text-align: left;\">\n",
       "      <th>Step</th>\n",
       "      <th>Training Loss</th>\n",
       "    </tr>\n",
       "  </thead>\n",
       "  <tbody>\n",
       "    <tr>\n",
       "      <td>1</td>\n",
       "      <td>8.057000</td>\n",
       "    </tr>\n",
       "    <tr>\n",
       "      <td>2</td>\n",
       "      <td>7.873800</td>\n",
       "    </tr>\n",
       "    <tr>\n",
       "      <td>3</td>\n",
       "      <td>7.150800</td>\n",
       "    </tr>\n",
       "    <tr>\n",
       "      <td>4</td>\n",
       "      <td>4.207000</td>\n",
       "    </tr>\n",
       "    <tr>\n",
       "      <td>5</td>\n",
       "      <td>3.082700</td>\n",
       "    </tr>\n",
       "    <tr>\n",
       "      <td>6</td>\n",
       "      <td>2.749000</td>\n",
       "    </tr>\n",
       "    <tr>\n",
       "      <td>7</td>\n",
       "      <td>2.038200</td>\n",
       "    </tr>\n",
       "    <tr>\n",
       "      <td>8</td>\n",
       "      <td>1.532800</td>\n",
       "    </tr>\n",
       "    <tr>\n",
       "      <td>9</td>\n",
       "      <td>1.081500</td>\n",
       "    </tr>\n",
       "    <tr>\n",
       "      <td>10</td>\n",
       "      <td>0.768600</td>\n",
       "    </tr>\n",
       "    <tr>\n",
       "      <td>11</td>\n",
       "      <td>0.609800</td>\n",
       "    </tr>\n",
       "    <tr>\n",
       "      <td>12</td>\n",
       "      <td>0.721300</td>\n",
       "    </tr>\n",
       "    <tr>\n",
       "      <td>13</td>\n",
       "      <td>0.687300</td>\n",
       "    </tr>\n",
       "    <tr>\n",
       "      <td>14</td>\n",
       "      <td>0.566700</td>\n",
       "    </tr>\n",
       "    <tr>\n",
       "      <td>15</td>\n",
       "      <td>0.645000</td>\n",
       "    </tr>\n",
       "    <tr>\n",
       "      <td>16</td>\n",
       "      <td>0.747800</td>\n",
       "    </tr>\n",
       "    <tr>\n",
       "      <td>17</td>\n",
       "      <td>0.678600</td>\n",
       "    </tr>\n",
       "    <tr>\n",
       "      <td>18</td>\n",
       "      <td>0.598100</td>\n",
       "    </tr>\n",
       "    <tr>\n",
       "      <td>19</td>\n",
       "      <td>0.530700</td>\n",
       "    </tr>\n",
       "    <tr>\n",
       "      <td>20</td>\n",
       "      <td>0.681800</td>\n",
       "    </tr>\n",
       "    <tr>\n",
       "      <td>21</td>\n",
       "      <td>0.468900</td>\n",
       "    </tr>\n",
       "    <tr>\n",
       "      <td>22</td>\n",
       "      <td>0.494500</td>\n",
       "    </tr>\n",
       "    <tr>\n",
       "      <td>23</td>\n",
       "      <td>0.542200</td>\n",
       "    </tr>\n",
       "    <tr>\n",
       "      <td>24</td>\n",
       "      <td>0.516700</td>\n",
       "    </tr>\n",
       "    <tr>\n",
       "      <td>25</td>\n",
       "      <td>0.558100</td>\n",
       "    </tr>\n",
       "    <tr>\n",
       "      <td>26</td>\n",
       "      <td>0.447100</td>\n",
       "    </tr>\n",
       "    <tr>\n",
       "      <td>27</td>\n",
       "      <td>0.537600</td>\n",
       "    </tr>\n",
       "    <tr>\n",
       "      <td>28</td>\n",
       "      <td>0.510800</td>\n",
       "    </tr>\n",
       "    <tr>\n",
       "      <td>29</td>\n",
       "      <td>0.426000</td>\n",
       "    </tr>\n",
       "    <tr>\n",
       "      <td>30</td>\n",
       "      <td>0.476000</td>\n",
       "    </tr>\n",
       "    <tr>\n",
       "      <td>31</td>\n",
       "      <td>0.506700</td>\n",
       "    </tr>\n",
       "    <tr>\n",
       "      <td>32</td>\n",
       "      <td>0.503100</td>\n",
       "    </tr>\n",
       "    <tr>\n",
       "      <td>33</td>\n",
       "      <td>0.537400</td>\n",
       "    </tr>\n",
       "    <tr>\n",
       "      <td>34</td>\n",
       "      <td>0.430400</td>\n",
       "    </tr>\n",
       "    <tr>\n",
       "      <td>35</td>\n",
       "      <td>0.572100</td>\n",
       "    </tr>\n",
       "    <tr>\n",
       "      <td>36</td>\n",
       "      <td>0.458800</td>\n",
       "    </tr>\n",
       "    <tr>\n",
       "      <td>37</td>\n",
       "      <td>0.456200</td>\n",
       "    </tr>\n",
       "    <tr>\n",
       "      <td>38</td>\n",
       "      <td>0.500300</td>\n",
       "    </tr>\n",
       "    <tr>\n",
       "      <td>39</td>\n",
       "      <td>0.529400</td>\n",
       "    </tr>\n",
       "    <tr>\n",
       "      <td>40</td>\n",
       "      <td>0.592500</td>\n",
       "    </tr>\n",
       "    <tr>\n",
       "      <td>41</td>\n",
       "      <td>0.529200</td>\n",
       "    </tr>\n",
       "    <tr>\n",
       "      <td>42</td>\n",
       "      <td>0.444600</td>\n",
       "    </tr>\n",
       "    <tr>\n",
       "      <td>43</td>\n",
       "      <td>0.383000</td>\n",
       "    </tr>\n",
       "    <tr>\n",
       "      <td>44</td>\n",
       "      <td>0.492500</td>\n",
       "    </tr>\n",
       "    <tr>\n",
       "      <td>45</td>\n",
       "      <td>0.458800</td>\n",
       "    </tr>\n",
       "    <tr>\n",
       "      <td>46</td>\n",
       "      <td>0.518000</td>\n",
       "    </tr>\n",
       "  </tbody>\n",
       "</table><p>"
      ],
      "text/plain": [
       "<IPython.core.display.HTML object>"
      ]
     },
     "metadata": {},
     "output_type": "display_data"
    }
   ],
   "source": [
    "trainer_stats = trainer.train()"
   ]
  },
  {
   "cell_type": "code",
   "execution_count": null,
   "metadata": {},
   "outputs": [
    {
     "data": {
      "application/vnd.jupyter.widget-view+json": {
       "model_id": "5804e76b88af40a895959a63e303da08",
       "version_major": 2,
       "version_minor": 0
      },
      "text/plain": [
       "  0%|          | 0/6 [00:00<?, ?it/s]"
      ]
     },
     "metadata": {},
     "output_type": "display_data"
    },
    {
     "data": {
      "application/vnd.jupyter.widget-view+json": {
       "model_id": "ceb42f11133e4e69b5ae19b969ea05da",
       "version_major": 2,
       "version_minor": 0
      },
      "text/plain": [
       "adapter_model.safetensors:   0%|          | 0.00/412M [00:00<?, ?B/s]"
      ]
     },
     "metadata": {},
     "output_type": "display_data"
    },
    {
     "data": {
      "application/vnd.jupyter.widget-view+json": {
       "model_id": "166ae9d496d149d791cf7b8b12e72d7e",
       "version_major": 2,
       "version_minor": 0
      },
      "text/plain": [
       "optimizer.pt:   0%|          | 0.00/164M [00:00<?, ?B/s]"
      ]
     },
     "metadata": {},
     "output_type": "display_data"
    },
    {
     "data": {
      "application/vnd.jupyter.widget-view+json": {
       "model_id": "f4ee646ca12d4da097258e43c1e73439",
       "version_major": 2,
       "version_minor": 0
      },
      "text/plain": [
       "rng_state.pth:   0%|          | 0.00/14.2k [00:00<?, ?B/s]"
      ]
     },
     "metadata": {},
     "output_type": "display_data"
    },
    {
     "data": {
      "application/vnd.jupyter.widget-view+json": {
       "model_id": "1d63e326421f4a25923d5386dd418cd3",
       "version_major": 2,
       "version_minor": 0
      },
      "text/plain": [
       "scheduler.pt:   0%|          | 0.00/1.06k [00:00<?, ?B/s]"
      ]
     },
     "metadata": {},
     "output_type": "display_data"
    },
    {
     "data": {
      "application/vnd.jupyter.widget-view+json": {
       "model_id": "8a85af9245084b82be5ad741d8c44ff0",
       "version_major": 2,
       "version_minor": 0
      },
      "text/plain": [
       "tokenizer.json:   0%|          | 0.00/11.4M [00:00<?, ?B/s]"
      ]
     },
     "metadata": {},
     "output_type": "display_data"
    },
    {
     "data": {
      "application/vnd.jupyter.widget-view+json": {
       "model_id": "f072838a7e9f4fcb94ff94072ae1cf48",
       "version_major": 2,
       "version_minor": 0
      },
      "text/plain": [
       "training_args.bin:   0%|          | 0.00/5.62k [00:00<?, ?B/s]"
      ]
     },
     "metadata": {},
     "output_type": "display_data"
    },
    {
     "data": {
      "text/plain": [
       "CommitInfo(commit_url='https://huggingface.co/Cherran/VL_medical_qwen2point5_7b/commit/2b0f0d27596f15207d80e31f94bac5e5a40e51f5', commit_message='Upload folder using huggingface_hub', commit_description='', oid='2b0f0d27596f15207d80e31f94bac5e5a40e51f5', pr_url=None, repo_url=RepoUrl('https://huggingface.co/Cherran/VL_medical_qwen2point5_7b', endpoint='https://huggingface.co', repo_type='model', repo_id='Cherran/VL_medical_qwen2point5_7b'), pr_revision=None, pr_num=None)"
      ]
     },
     "execution_count": 25,
     "metadata": {},
     "output_type": "execute_result"
    }
   ],
   "source": [
    "from huggingface_hub import HfApi\n",
    "\n",
    "model_path = \"outputs/checkpoint-46\"\n",
    "username = \"Cherran\"\n",
    "MODEL_NAME = \"VL_lr_5e4_medical_qwen2point5_7b\"\n",
    "api = HfApi(token=  \"HF_key\")\n",
    "\n",
    "api.create_repo(\n",
    "    repo_id = f\"{username}/{MODEL_NAME}\",\n",
    "    repo_type=\"model\"\n",
    ")\n",
    "\n",
    "api.upload_folder(\n",
    "    repo_id = f\"{username}/{MODEL_NAME}\",\n",
    "    folder_path = model_path\n",
    ")"
   ]
  },
  {
   "cell_type": "code",
   "execution_count": 56,
   "metadata": {
    "id": "FVbCwIbPCZrd"
   },
   "outputs": [],
   "source": [
    "input_prompt = \"You are an excellent medical paragraph generator. I have drug names and Adverse Drug reactions Keywords. Consolidate all information in one paragrah without adding any extra knowledge or text.\\n  drug_names: Taxol\\n  physical_adverse_effects: Pain in left hand/thumb, port protruding through skin, brace on hand\\n\\n  Strcitly output the paragraph no explanations.\\n\""
   ]
  },
  {
   "cell_type": "code",
   "execution_count": 57,
   "metadata": {
    "colab": {
     "base_uri": "https://localhost:8080/"
    },
    "id": "ry70vhAJBjDF",
    "outputId": "07340453-2166-4313-903b-1246b7024b50"
   },
   "outputs": [
    {
     "name": "stdout",
     "output_type": "stream",
     "text": [
      "Taxol has been associated with several adverse effects, including pain in the left hand/thumb, a port that protrudes through the skin, and a brace on the hand. These symptoms may indicate a range of issues related to its use or administration.<|im_end|>\n"
     ]
    }
   ],
   "source": [
    "FastVisionModel.for_inference(model) # Enable for inference!\n",
    "\n",
    "messages = [\n",
    "    {\"role\": \"user\", \"content\": [\n",
    "        {\"type\": \"image\"},\n",
    "        {\"type\": \"text\", \"text\": input_prompt, }\n",
    "    ]}\n",
    "]\n",
    "input_text = tokenizer.apply_chat_template(messages, add_generation_prompt = True)\n",
    "inputs = tokenizer(\n",
    "    text = input_text,\n",
    "    add_special_tokens = False,\n",
    "    return_tensors = \"pt\",\n",
    ").to(\"cuda\")\n",
    "\n",
    "from transformers import TextStreamer\n",
    "text_streamer = TextStreamer(tokenizer, skip_prompt = True)\n",
    "_ = model.generate(**inputs, streamer = text_streamer, max_new_tokens = 128,\n",
    "                   use_cache = True, temperature = 1 , min_p = 0.1)"
   ]
  },
  {
   "cell_type": "markdown",
   "metadata": {},
   "source": [
    "### validation"
   ]
  },
  {
   "cell_type": "code",
   "execution_count": 10,
   "metadata": {
    "id": "kD6Uc_J1BqfO",
    "scrolled": true
   },
   "outputs": [
    {
     "data": {
      "text/html": [
       "<div>\n",
       "<style scoped>\n",
       "    .dataframe tbody tr th:only-of-type {\n",
       "        vertical-align: middle;\n",
       "    }\n",
       "\n",
       "    .dataframe tbody tr th {\n",
       "        vertical-align: top;\n",
       "    }\n",
       "\n",
       "    .dataframe thead th {\n",
       "        text-align: right;\n",
       "    }\n",
       "</style>\n",
       "<table border=\"1\" class=\"dataframe\">\n",
       "  <thead>\n",
       "    <tr style=\"text-align: right;\">\n",
       "      <th></th>\n",
       "      <th>Unnamed: 0</th>\n",
       "      <th>Links</th>\n",
       "      <th>Posts</th>\n",
       "      <th>Preprocessed Posts</th>\n",
       "      <th>drug_names</th>\n",
       "      <th>adverse_effects</th>\n",
       "      <th>severity</th>\n",
       "      <th>physical_adverse_effects</th>\n",
       "      <th>non_physical_adverse_effects</th>\n",
       "      <th>side_harmful_effects</th>\n",
       "      <th>image_description_with_phyadv</th>\n",
       "      <th>phy_summary</th>\n",
       "      <th>non_phy_summary</th>\n",
       "      <th>VL_qwen_phy_sum_sft</th>\n",
       "      <th>VL_qwen_non_phy_sum_sft</th>\n",
       "      <th>VL_qwen_phy_sum_zs</th>\n",
       "      <th>VL_qwen_non_phy_sum_zs</th>\n",
       "    </tr>\n",
       "  </thead>\n",
       "  <tbody>\n",
       "    <tr>\n",
       "      <th>0</th>\n",
       "      <td>0</td>\n",
       "      <td>https://csn.cancer.org/discussion/comment/1239...</td>\n",
       "      <td>Xeloda on the Web.. Awesome website\\n  I switc...</td>\n",
       "      <td>xeloda on the web awesome website i switched o...</td>\n",
       "      <td>Xeloda</td>\n",
       "      <td>Yes</td>\n",
       "      <td>Mild</td>\n",
       "      <td>HandFoot syndrome</td>\n",
       "      <td>NaN</td>\n",
       "      <td>NaN</td>\n",
       "      <td>The image shows a hand with a visible silver b...</td>\n",
       "      <td>Xeloda is associated with adverse drug reactio...</td>\n",
       "      <td>NaN</td>\n",
       "      <td>Xeloda (5-FU) is associated with potential adv...</td>\n",
       "      <td>NaN</td>\n",
       "      <td>Xeloda is associated with a significant advers...</td>\n",
       "      <td>NaN</td>\n",
       "    </tr>\n",
       "  </tbody>\n",
       "</table>\n",
       "</div>"
      ],
      "text/plain": [
       "   Unnamed: 0                                              Links  \\\n",
       "0           0  https://csn.cancer.org/discussion/comment/1239...   \n",
       "\n",
       "                                               Posts  \\\n",
       "0  Xeloda on the Web.. Awesome website\\n  I switc...   \n",
       "\n",
       "                                  Preprocessed Posts drug_names  \\\n",
       "0  xeloda on the web awesome website i switched o...     Xeloda   \n",
       "\n",
       "  adverse_effects severity physical_adverse_effects  \\\n",
       "0             Yes     Mild        HandFoot syndrome   \n",
       "\n",
       "  non_physical_adverse_effects side_harmful_effects  \\\n",
       "0                          NaN                  NaN   \n",
       "\n",
       "                       image_description_with_phyadv  \\\n",
       "0  The image shows a hand with a visible silver b...   \n",
       "\n",
       "                                         phy_summary non_phy_summary  \\\n",
       "0  Xeloda is associated with adverse drug reactio...             NaN   \n",
       "\n",
       "                                 VL_qwen_phy_sum_sft VL_qwen_non_phy_sum_sft  \\\n",
       "0  Xeloda (5-FU) is associated with potential adv...                     NaN   \n",
       "\n",
       "                                  VL_qwen_phy_sum_zs VL_qwen_non_phy_sum_zs  \n",
       "0  Xeloda is associated with a significant advers...                    NaN  "
      ]
     },
     "execution_count": 10,
     "metadata": {},
     "output_type": "execute_result"
    }
   ],
   "source": [
    "import pandas as pd\n",
    "df_val = pd.read_csv('val_VL_medical_qwen_zs_sft.csv')\n",
    "df_val.head(1)"
   ]
  },
  {
   "cell_type": "code",
   "execution_count": 2,
   "metadata": {},
   "outputs": [
    {
     "data": {
      "text/plain": [
       "Dataset({\n",
       "    features: ['image', 'phy_prompt', 'non_phy_prompt', 'phy_summary', 'non_phy_summary'],\n",
       "    num_rows: 300\n",
       "})"
      ]
     },
     "execution_count": 2,
     "metadata": {},
     "output_type": "execute_result"
    }
   ],
   "source": [
    "from datasets import load_dataset\n",
    "\n",
    "dataset = load_dataset(\"Cherran/draft_medical_summaries\", split = 'train')\n",
    "dataset"
   ]
  },
  {
   "cell_type": "code",
   "execution_count": null,
   "metadata": {},
   "outputs": [],
   "source": [
    "def generate_response(sample, prompt_type='phy_prompt', temperature=1.0):\n",
    "\n",
    "    # start with the text prompt\n",
    "    user_content = [\n",
    "        {\"type\": \"text\", \"text\": sample[prompt_type]}\n",
    "    ]\n",
    "\n",
    "    images = sample.get(\"image\", [])\n",
    "    if images and not isinstance(images, list):\n",
    "        images = [images]\n",
    "\n",
    "    for image_object in images:\n",
    "        user_content.append(\n",
    "            {\"type\": \"image\"} \n",
    "        )\n",
    "        \n",
    "    conversation = [\n",
    "        {\n",
    "            \"role\": \"user\",\n",
    "            \"content\": user_content  \n",
    "        }\n",
    "    ]\n",
    "    \n",
    "    # apply the chat template\n",
    "    final_prompt_string = tokenizer.apply_chat_template(\n",
    "        conversation, \n",
    "        tokenize=False, \n",
    "        add_generation_prompt=True\n",
    "    )\n",
    "    \n",
    "    if images:\n",
    "        print(\"Processing with text and images...\")\n",
    "        inputs = tokenizer(\n",
    "            text=final_prompt_string,\n",
    "            images=images,\n",
    "            return_tensors=\"pt\"\n",
    "        ).to(\"cuda\")\n",
    "    else:\n",
    "\n",
    "        print(\"Processing with text only...\")\n",
    "        inputs = tokenizer(\n",
    "            text=final_prompt_string,\n",
    "            return_tensors=\"pt\"\n",
    "        ).to(\"cuda\")\n",
    "\n",
    "    output_ids = model.generate(**inputs, max_new_tokens=128, use_cache=True, temperature=temperature, min_p=0.1)\n",
    "    \n",
    "    input_ids_length = inputs[\"input_ids\"].shape[1]\n",
    "    newly_generated_ids = output_ids[:, input_ids_length:]\n",
    "    \n",
    "    response_text = tokenizer.batch_decode(newly_generated_ids, skip_special_tokens=True)[0]\n",
    "    \n",
    "    return response_text.strip()"
   ]
  },
  {
   "cell_type": "code",
   "execution_count": null,
   "metadata": {
    "scrolled": true
   },
   "outputs": [
    {
     "name": "stdout",
     "output_type": "stream",
     "text": [
      "4\n"
     ]
    }
   ],
   "source": [
    "# FastVisionModel.for_inference(model) # not required"
   ]
  },
  {
   "cell_type": "code",
   "execution_count": null,
   "metadata": {
    "scrolled": true
   },
   "outputs": [
    {
     "name": "stderr",
     "output_type": "stream",
     "text": [
      "  0%|          | 0/300 [00:00<?, ?it/s]"
     ]
    },
    {
     "name": "stdout",
     "output_type": "stream",
     "text": [
      "Processing with text only...\n"
     ]
    },
    {
     "name": "stderr",
     "output_type": "stream",
     "text": [
      "  0%|          | 1/300 [00:12<1:00:50, 12.21s/it]"
     ]
    },
    {
     "name": "stdout",
     "output_type": "stream",
     "text": [
      "The adverse drug reaction associated with Xeloda is Hand Foot syndrome.\n",
      "Processing with text only...\n"
     ]
    },
    {
     "name": "stderr",
     "output_type": "stream",
     "text": [
      "  1%|          | 2/300 [00:18<43:40,  8.79s/it]  "
     ]
    },
    {
     "name": "stdout",
     "output_type": "stream",
     "text": [
      "The adverse drug reactions associated with Xeloda, Ibuprophen, Voltaren, Ibrance, Xegeva, and Immpower are bone pain, rib pain, back pain, nausea, and touchy stomach.\n",
      "Processing with text only...\n"
     ]
    },
    {
     "name": "stderr",
     "output_type": "stream",
     "text": [
      "  1%|          | 3/300 [00:21<30:56,  6.25s/it]"
     ]
    },
    {
     "name": "stdout",
     "output_type": "stream",
     "text": [
      "The adverse effects associated with the use of Tamoxifen and aromatase inhibitors include severe bone pain and bleeding.\n",
      "Processing with text only...\n"
     ]
    },
    {
     "name": "stderr",
     "output_type": "stream",
     "text": [
      "  2%|▏         | 5/300 [00:24<16:50,  3.43s/it]"
     ]
    },
    {
     "name": "stdout",
     "output_type": "stream",
     "text": [
      "The adverse drug reaction associated with Eligard, lupron, and testosterone is hot flashes.\n",
      "Processing with text only...\n"
     ]
    },
    {
     "name": "stderr",
     "output_type": "stream",
     "text": [
      "  2%|▏         | 6/300 [00:34<26:12,  5.35s/it]"
     ]
    },
    {
     "name": "stdout",
     "output_type": "stream",
     "text": [
      "The adverse reactions associated with the use of Percoset and Taxotere include swelling in the legs and ankles, numbness in the feet, a loss of feeling in the fingers and the left side of the face, nausea, uncontrollable diarrhea, hair loss (resulting in bald patches), fallen off toenails and fingernails, stomach problems, and watery eyes.\n",
      "Processing with text only...\n"
     ]
    },
    {
     "name": "stderr",
     "output_type": "stream",
     "text": [
      "  2%|▏         | 7/300 [00:40<27:44,  5.68s/it]"
     ]
    },
    {
     "name": "stdout",
     "output_type": "stream",
     "text": [
      "The adverse drug reaction associated with Eligard, Casodex, Zoladex, Cyproterone, Abiraterone acetate, MDV3100, Ketoconazole, and Fosamax is bone loss.\n",
      "Processing with text only...\n"
     ]
    },
    {
     "name": "stderr",
     "output_type": "stream",
     "text": [
      "  3%|▎         | 8/300 [00:44<24:43,  5.08s/it]"
     ]
    },
    {
     "name": "stdout",
     "output_type": "stream",
     "text": [
      "The adverse reaction reported with the use of Augmentin was diarrhea and associated with significant weight loss amounting to 25 pounds.\n",
      "Processing with text and images...\n"
     ]
    },
    {
     "name": "stderr",
     "output_type": "stream",
     "text": [
      "  4%|▍         | 12/300 [00:58<19:38,  4.09s/it]"
     ]
    },
    {
     "name": "stdout",
     "output_type": "stream",
     "text": [
      "The image shows hoarseness, a swollen throat, neck burns, and weight loss (75 lbs) as adverse effects associated with the use of antibotics or Aquaphor. There is also a feeding tube insertion depicted, which could be related to the overall condition or another treatment.\n",
      "Processing with text only...\n"
     ]
    },
    {
     "name": "stderr",
     "output_type": "stream",
     "text": [
      "  4%|▍         | 13/300 [01:00<17:59,  3.76s/it]"
     ]
    },
    {
     "name": "stdout",
     "output_type": "stream",
     "text": [
      "The adverse drug reaction associated with Effexor is a craniotomy scar.\n",
      "Processing with text only...\n"
     ]
    },
    {
     "name": "stderr",
     "output_type": "stream",
     "text": [
      "  5%|▍         | 14/300 [01:06<19:37,  4.12s/it]"
     ]
    },
    {
     "name": "stdout",
     "output_type": "stream",
     "text": [
      "The adverse drug reactions associated with cisplatin, epirubicin, and 5-fluorouracil (5-FU) include mouth sores, dehydration, and dumping syndrome.\n",
      "Processing with text only...\n"
     ]
    },
    {
     "name": "stderr",
     "output_type": "stream",
     "text": [
      "  5%|▌         | 15/300 [01:09<18:05,  3.81s/it]"
     ]
    },
    {
     "name": "stdout",
     "output_type": "stream",
     "text": [
      "The adverse drug reaction associated with Erbitux is acne and pain from tonsillectomy.\n",
      "Processing with text only...\n"
     ]
    },
    {
     "name": "stderr",
     "output_type": "stream",
     "text": [
      "  5%|▌         | 16/300 [01:11<15:56,  3.37s/it]"
     ]
    },
    {
     "name": "stdout",
     "output_type": "stream",
     "text": [
      "The patient experienced significant pain as a result of hormone treatment or chemotherapy.\n",
      "Processing with text only...\n"
     ]
    },
    {
     "name": "stderr",
     "output_type": "stream",
     "text": [
      "  6%|▌         | 17/300 [01:14<15:50,  3.36s/it]"
     ]
    },
    {
     "name": "stdout",
     "output_type": "stream",
     "text": [
      "The adverse reactions associated with carboplatin and Taxol include groin pain, a small nodule, and slight nausea.\n",
      "Processing with text only...\n"
     ]
    },
    {
     "name": "stderr",
     "output_type": "stream",
     "text": [
      "  6%|▌         | 18/300 [01:20<19:34,  4.17s/it]"
     ]
    },
    {
     "name": "stdout",
     "output_type": "stream",
     "text": [
      "The adverse reactions associated with avastin, leucovorin, fluorouracil, oxy, and regofenib include significant weight loss of approximately 110 pounds, pain, and difficulty eating properly.\n",
      "Processing with text only...\n"
     ]
    },
    {
     "name": "stderr",
     "output_type": "stream",
     "text": [
      "  7%|▋         | 20/300 [01:27<17:16,  3.70s/it]"
     ]
    },
    {
     "name": "stdout",
     "output_type": "stream",
     "text": [
      "The adverse drug reaction associated with Rotuxin and morphine includes congestive heart failure, damaged heart, chronic and severe arythmias, early osteoarthritis, fibromyalgia, fatigue, and nerve damage.\n",
      "Processing with text and images...\n"
     ]
    },
    {
     "name": "stderr",
     "output_type": "stream",
     "text": [
      "  7%|▋         | 22/300 [01:40<22:08,  4.78s/it]"
     ]
    },
    {
     "name": "stdout",
     "output_type": "stream",
     "text": [
      "The images depict the application of a topical treatment on a patient's scalp, which could be associated with the adverse reactions of tinnitus, mucositis, sore throat, nausea, vomiting, mouth sores, dry mouth, changes in taste, exterior burns, bloating, night cramps, or constipation. The drugs involved might include cisplatin, viscous lidocaine, sucralfate, Gelclair, or Nivolumab.\n",
      "Processing with text and images...\n"
     ]
    },
    {
     "name": "stderr",
     "output_type": "stream",
     "text": [
      "  8%|▊         | 24/300 [01:46<19:22,  4.21s/it]"
     ]
    },
    {
     "name": "stdout",
     "output_type": "stream",
     "text": [
      "The image shows oral mucositis with painful ulcerations, which can be associated with adverse effects such as fatigue and delayed wound healing following the administration of drugs like carboplatin and paclitaxel (Taxol).\n",
      "Processing with text only...\n"
     ]
    },
    {
     "name": "stderr",
     "output_type": "stream",
     "text": [
      "  8%|▊         | 25/300 [01:51<20:33,  4.49s/it]"
     ]
    },
    {
     "name": "stdout",
     "output_type": "stream",
     "text": [
      "The adverse reaction observed for the drugs Carboplatin and Paclitaxel is bone pain, which may be associated with Decadron, Neulasta, or Neupogen use as well.\n",
      "Processing with text only...\n"
     ]
    },
    {
     "name": "stderr",
     "output_type": "stream",
     "text": [
      "  9%|▉         | 27/300 [01:56<16:20,  3.59s/it]"
     ]
    },
    {
     "name": "stdout",
     "output_type": "stream",
     "text": [
      "The adverse drug reaction associated with 5 FU, Xeloda, Cisplatin, and Epirubicin is infection in incisions.\n",
      "Processing with text only...\n"
     ]
    },
    {
     "name": "stderr",
     "output_type": "stream",
     "text": [
      "  9%|▉         | 28/300 [01:58<14:55,  3.29s/it]"
     ]
    },
    {
     "name": "stdout",
     "output_type": "stream",
     "text": [
      "The adverse drug reaction associated with decadron is hair loss and sore ear.\n",
      "Processing with text only...\n"
     ]
    },
    {
     "name": "stderr",
     "output_type": "stream",
     "text": [
      " 10%|▉         | 29/300 [02:01<14:51,  3.29s/it]"
     ]
    },
    {
     "name": "stdout",
     "output_type": "stream",
     "text": [
      "The adverse drug reaction associated with Carbo, Gemzar, Avastin, and Miralax is Fatigue.\n",
      "Processing with text only...\n"
     ]
    },
    {
     "name": "stderr",
     "output_type": "stream",
     "text": [
      " 10%|█         | 30/300 [02:04<14:31,  3.23s/it]"
     ]
    },
    {
     "name": "stdout",
     "output_type": "stream",
     "text": [
      "Anastrozole is associated with adverse effects including restless leg syndrome, irritable bladder, and constipation.\n",
      "Processing with text only...\n"
     ]
    },
    {
     "name": "stderr",
     "output_type": "stream",
     "text": [
      " 10%|█         | 31/300 [02:10<17:25,  3.89s/it]"
     ]
    },
    {
     "name": "stdout",
     "output_type": "stream",
     "text": [
      "The adverse reaction associated with the use of paracetamol, tramadol, and oral morphine may manifest as waves of dizziness, flushing, pressure in the ears and jaw area, and painful trapped wind.\n",
      "Processing with text only...\n"
     ]
    },
    {
     "name": "stderr",
     "output_type": "stream",
     "text": [
      " 11%|█         | 32/300 [02:12<15:54,  3.56s/it]"
     ]
    },
    {
     "name": "stdout",
     "output_type": "stream",
     "text": [
      "The adverse reaction associated with tamoxifen is tiredness, headaches, and hot flushes.\n",
      "Processing with text only...\n"
     ]
    },
    {
     "name": "stderr",
     "output_type": "stream",
     "text": [
      " 11%|█         | 33/300 [02:17<17:00,  3.82s/it]"
     ]
    },
    {
     "name": "stdout",
     "output_type": "stream",
     "text": [
      "The adverse drug reaction associated with StrataXRT and Flaminal Forte is moist desquamation, weeping radiation burns, sore burns, and pus formation.\n",
      "Processing with text only...\n"
     ]
    },
    {
     "name": "stderr",
     "output_type": "stream",
     "text": [
      " 11%|█▏        | 34/300 [02:22<18:00,  4.06s/it]"
     ]
    },
    {
     "name": "stdout",
     "output_type": "stream",
     "text": [
      "The adverse reaction associated with Cisplatin is numbness in fingers and toes, a tingling sensation in fingers and toes, and coldness of the extremities.\n",
      "Processing with text only...\n"
     ]
    },
    {
     "name": "stderr",
     "output_type": "stream",
     "text": [
      " 12%|█▏        | 35/300 [02:26<18:48,  4.26s/it]"
     ]
    },
    {
     "name": "stdout",
     "output_type": "stream",
     "text": [
      "The image depicts potential adverse drug reactions associated with ipilimumab and nivolumab, which include symptoms such as red rash, pain, itching, and burning.\n",
      "Processing with text only...\n"
     ]
    },
    {
     "name": "stderr",
     "output_type": "stream",
     "text": [
      " 12%|█▏        | 36/300 [02:35<24:13,  5.50s/it]"
     ]
    },
    {
     "name": "stdout",
     "output_type": "stream",
     "text": [
      "The images depict adverse reactions to ipilimumab and nivolumab, resulting in a red, itchy, burning rash, especially noticeable on the face. The skin manifestations are also associated with the use of an antihistamine and application of Dermol 500 lotion and a steroid cream.\n",
      "Processing with text only...\n"
     ]
    },
    {
     "name": "stderr",
     "output_type": "stream",
     "text": [
      " 12%|█▏        | 37/300 [02:37<20:21,  4.65s/it]"
     ]
    },
    {
     "name": "stdout",
     "output_type": "stream",
     "text": [
      "The adverse reaction associated with AVBD is heartburn and a burning sensation in the chest.\n",
      "Processing with text only...\n"
     ]
    },
    {
     "name": "stderr",
     "output_type": "stream",
     "text": [
      " 13%|█▎        | 39/300 [02:46<17:21,  3.99s/it]"
     ]
    },
    {
     "name": "stdout",
     "output_type": "stream",
     "text": [
      "The adverse reactions associated with paracetamol, hydrocortisone, antihistamine, steroids, omeprazole, domperidone, and Rennie include high temperature, raised heart rate, severe body rigors, difficulty in breathing, and bad heartburn.\n",
      "Processing with text only...\n"
     ]
    },
    {
     "name": "stderr",
     "output_type": "stream",
     "text": [
      " 13%|█▎        | 40/300 [02:48<14:48,  3.42s/it]"
     ]
    },
    {
     "name": "stdout",
     "output_type": "stream",
     "text": [
      "The patient experienced extreme fatigue and breathing difficulties while taking tamoxifen.\n",
      "Processing with text only...\n"
     ]
    },
    {
     "name": "stderr",
     "output_type": "stream",
     "text": [
      " 14%|█▎        | 41/300 [02:51<14:04,  3.26s/it]"
     ]
    },
    {
     "name": "stdout",
     "output_type": "stream",
     "text": [
      "The adverse drug reaction associated with loperamide (Imodium) is electric shock effects and tiredness.\n",
      "Processing with text only...\n"
     ]
    },
    {
     "name": "stderr",
     "output_type": "stream",
     "text": [
      " 14%|█▍        | 42/300 [02:53<13:11,  3.07s/it]"
     ]
    },
    {
     "name": "stdout",
     "output_type": "stream",
     "text": [
      "The adverse reaction associated with zoladex is hot flushes and night sweats.\n",
      "Processing with text only...\n"
     ]
    },
    {
     "name": "stderr",
     "output_type": "stream",
     "text": [
      " 14%|█▍        | 43/300 [02:57<14:45,  3.45s/it]"
     ]
    },
    {
     "name": "stdout",
     "output_type": "stream",
     "text": [
      "The adverse drug reactions associated with zoladex and exemestane are hot flushes, night sweats, joint pain, and sore joints and muscles.\n",
      "Processing with text only...\n"
     ]
    },
    {
     "name": "stderr",
     "output_type": "stream",
     "text": [
      " 15%|█▍        | 44/300 [03:02<15:51,  3.72s/it]"
     ]
    },
    {
     "name": "stdout",
     "output_type": "stream",
     "text": [
      "The patient experienced adverse drug reactions manifesting as an all over body rash and curly hair following treatment with pembrolizumab and nivolumab.\n",
      "Processing with text only...\n"
     ]
    },
    {
     "name": "stderr",
     "output_type": "stream",
     "text": [
      " 15%|█▌        | 45/300 [03:06<16:01,  3.77s/it]"
     ]
    },
    {
     "name": "stdout",
     "output_type": "stream",
     "text": [
      "The image shows the adverse drug reaction associated with Nivolumab as joint ache, slight itchy rash, and vitiligo.\n",
      "Processing with text only...\n"
     ]
    },
    {
     "name": "stderr",
     "output_type": "stream",
     "text": [
      " 15%|█▌        | 46/300 [03:14<21:57,  5.19s/it]"
     ]
    },
    {
     "name": "stdout",
     "output_type": "stream",
     "text": [
      "The adverse drug reactions associated with ipilumumab, nivolumab, antihistamines, Imodium, and oral steroids include itchy rash, skin crawling sensation, diarrhoea, loss of appetite, significant weight loss (lost a stone and a half), and immunotherapy-induced colitis.\n",
      "Processing with text only...\n"
     ]
    },
    {
     "name": "stderr",
     "output_type": "stream",
     "text": [
      " 16%|█▌        | 47/300 [03:18<20:32,  4.87s/it]"
     ]
    },
    {
     "name": "stdout",
     "output_type": "stream",
     "text": [
      "The adverse reactions observed for EC, docetaxel, and zoladex include mild skin and nail reactions, muscle weakness, and breathlessness.\n",
      "Processing with text and images...\n"
     ]
    },
    {
     "name": "stderr",
     "output_type": "stream",
     "text": [
      " 16%|█▌        | 48/300 [03:23<20:18,  4.83s/it]"
     ]
    },
    {
     "name": "stdout",
     "output_type": "stream",
     "text": [
      "The image shows skin lesions consistent with an adverse reaction to docetaxel, which has been associated with water retention and puffiness in hands and feet as potential symptoms.\n",
      "Processing with text only...\n"
     ]
    },
    {
     "name": "stderr",
     "output_type": "stream",
     "text": [
      " 16%|█▋        | 49/300 [03:27<18:37,  4.45s/it]"
     ]
    },
    {
     "name": "stdout",
     "output_type": "stream",
     "text": [
      "The adverse drug reactions associated with EC, Paclitaxel, and docetaxel are hair loss and joint pain.\n",
      "Processing with text only...\n"
     ]
    },
    {
     "name": "stderr",
     "output_type": "stream",
     "text": [
      " 17%|█▋        | 50/300 [03:35<23:00,  5.52s/it]"
     ]
    },
    {
     "name": "stdout",
     "output_type": "stream",
     "text": [
      "The adverse effects observed with Docetaxel include a raised heart rate, rashes, pins and needles in the fingertips, loss of appetite, and a horrible taste sensation. Additionally, Filgrastim and Herceptin were noted to cause similar symptoms but were not specified in terms of exact reactions.\n",
      "Processing with text only...\n"
     ]
    },
    {
     "name": "stderr",
     "output_type": "stream",
     "text": [
      " 17%|█▋        | 51/300 [03:38<20:45,  5.00s/it]"
     ]
    },
    {
     "name": "stdout",
     "output_type": "stream",
     "text": [
      "The adverse drug reaction associated with Letrozole and Ribociclib is itching, skin sloughing, little bumps, and bleeding.\n",
      "Processing with text only...\n"
     ]
    },
    {
     "name": "stderr",
     "output_type": "stream",
     "text": [
      " 17%|█▋        | 52/300 [03:42<19:24,  4.69s/it]"
     ]
    },
    {
     "name": "stdout",
     "output_type": "stream",
     "text": [
      "The adverse reaction observed with the use of steroid cream and antihistamines included reddish skin, the appearance of little lumps, and itching.\n",
      "Processing with text only...\n"
     ]
    },
    {
     "name": "stderr",
     "output_type": "stream",
     "text": [
      " 18%|█▊        | 53/300 [03:47<19:29,  4.73s/it]"
     ]
    },
    {
     "name": "stdout",
     "output_type": "stream",
     "text": [
      "The adverse reactions reported for Fexofenadine Hydrochloride, Ribociclib, and Letrozole were grogginess, nausea, and thumping headache.\n",
      "Processing with text only...\n"
     ]
    },
    {
     "name": "stderr",
     "output_type": "stream",
     "text": [
      " 18%|█▊        | 55/300 [03:52<14:35,  3.57s/it]"
     ]
    },
    {
     "name": "stdout",
     "output_type": "stream",
     "text": [
      "The image depicts adverse reactions to the drugs Amnidex, Exmestane, and Toxamoxin, manifesting as swollen hands and swollen ankles.\n",
      "Processing with text only...\n"
     ]
    },
    {
     "name": "stderr",
     "output_type": "stream",
     "text": [
      " 19%|█▊        | 56/300 [04:07<26:03,  6.41s/it]"
     ]
    },
    {
     "name": "stdout",
     "output_type": "stream",
     "text": [
      "The adverse drug reactions associated with morphine include saddle anaesthesia, difficulty urinating, difficulty with bowel movements, decreased sensitivity, numbness, pins and needles, shooting pains, muscle wasting, spinal fluid leak, swelling and redness at the surgical site, and constipation. Adverse reactions to ibuprofen may manifest as pain, while antibiotic use can lead to physical effects such as pain, decreased sensitivity, numbness, pins and needles, shooting pains, muscle wasting, spinal fluid leak, swelling and redness at the surgical site, and constipation.\n",
      "Processing with text only...\n"
     ]
    },
    {
     "name": "stderr",
     "output_type": "stream",
     "text": [
      " 19%|█▉        | 57/300 [04:11<23:40,  5.85s/it]"
     ]
    },
    {
     "name": "stdout",
     "output_type": "stream",
     "text": [
      "The adverse drug reactions associated with the use of anti-sickness medications and steroids include hair loss, severe pain in bones and joints, and terrible constipation.\n",
      "Processing with text only...\n"
     ]
    },
    {
     "name": "stderr",
     "output_type": "stream",
     "text": [
      " 19%|█▉        | 58/300 [04:14<20:05,  4.98s/it]"
     ]
    },
    {
     "name": "stdout",
     "output_type": "stream",
     "text": [
      "The adverse drug reaction associated with zoladex and exemestane is hot flushes.\n",
      "Processing with text and images...\n"
     ]
    },
    {
     "name": "stderr",
     "output_type": "stream",
     "text": [
      " 20%|█▉        | 59/300 [04:19<20:11,  5.03s/it]"
     ]
    },
    {
     "name": "stdout",
     "output_type": "stream",
     "text": [
      "The patient is experiencing hot flushes, night sweats, stiffness, and soreness as adverse drug reactions related to zoladex, exemestane, and sage tablets.\n",
      "Processing with text and images...\n"
     ]
    },
    {
     "name": "stderr",
     "output_type": "stream",
     "text": [
      " 20%|██        | 60/300 [04:22<17:33,  4.39s/it]"
     ]
    },
    {
     "name": "stdout",
     "output_type": "stream",
     "text": [
      "The adverse reaction associated with zoladex is hot flushes and night sweats.\n",
      "Processing with text only...\n"
     ]
    },
    {
     "name": "stderr",
     "output_type": "stream",
     "text": [
      " 20%|██        | 61/300 [04:23<14:35,  3.66s/it]"
     ]
    },
    {
     "name": "stdout",
     "output_type": "stream",
     "text": [
      "The adverse reaction associated with tamoxifen is hot flushes.\n",
      "Processing with text only...\n"
     ]
    },
    {
     "name": "stderr",
     "output_type": "stream",
     "text": [
      " 21%|██        | 62/300 [04:25<12:37,  3.18s/it]"
     ]
    },
    {
     "name": "stdout",
     "output_type": "stream",
     "text": [
      "The adverse reaction reported for the medication Folfox is hair thinning.\n",
      "Processing with text only...\n"
     ]
    },
    {
     "name": "stderr",
     "output_type": "stream",
     "text": [
      " 21%|██        | 63/300 [04:32<16:35,  4.20s/it]"
     ]
    },
    {
     "name": "stdout",
     "output_type": "stream",
     "text": [
      "The adverse effects associated with Nystan include Fatigue, Neuropathy (numb tingling), Xerostomia (dry mouth), swollen tongue, sluggish swallowing, and Lymphedema (wobbly sack under chin).\n",
      "Processing with text only...\n"
     ]
    },
    {
     "name": "stderr",
     "output_type": "stream",
     "text": [
      " 21%|██▏       | 64/300 [04:36<16:12,  4.12s/it]"
     ]
    },
    {
     "name": "stdout",
     "output_type": "stream",
     "text": [
      "The adverse drug reactions associated with capox, capecitabine, and oxaliplatin include painful infusion and hot tingly feet.\n",
      "Processing with text only...\n"
     ]
    },
    {
     "name": "stderr",
     "output_type": "stream",
     "text": [
      " 22%|██▏       | 66/300 [04:39<11:19,  2.90s/it]"
     ]
    },
    {
     "name": "stdout",
     "output_type": "stream",
     "text": [
      "The adverse drug reaction associated with Xelox, Capox, and Folfiri is neuropathy.\n",
      "Processing with text only...\n"
     ]
    },
    {
     "name": "stderr",
     "output_type": "stream",
     "text": [
      " 22%|██▏       | 67/300 [04:43<12:34,  3.24s/it]"
     ]
    },
    {
     "name": "stdout",
     "output_type": "stream",
     "text": [
      "The image shows that the adverse drug reaction associated with the use of 5FU, Irovecan, and Panatumumab is rash.\n",
      "Processing with text only...\n"
     ]
    },
    {
     "name": "stderr",
     "output_type": "stream",
     "text": [
      " 23%|██▎       | 68/300 [04:50<16:29,  4.27s/it]"
     ]
    },
    {
     "name": "stdout",
     "output_type": "stream",
     "text": [
      "The patient experienced headaches as an adverse drug reaction related to the use of Epirubicin, cyclophosphamide, docetaxel, zoledronic acid, paracetamol, steroids, anti-sickness tablets, or filgrastin.\n",
      "Processing with text only...\n"
     ]
    },
    {
     "name": "stderr",
     "output_type": "stream",
     "text": [
      " 23%|██▎       | 69/300 [04:53<14:46,  3.84s/it]"
     ]
    },
    {
     "name": "stdout",
     "output_type": "stream",
     "text": [
      "The adverse reaction associated with Tagrisso is extensive bruising of the lung and repeated infections.\n",
      "Processing with text only...\n"
     ]
    },
    {
     "name": "stderr",
     "output_type": "stream",
     "text": [
      " 23%|██▎       | 70/300 [04:55<13:03,  3.41s/it]"
     ]
    },
    {
     "name": "stdout",
     "output_type": "stream",
     "text": [
      "The adverse reaction associated with tagrisso is wheezing and abnormal breathing.\n",
      "Processing with text only...\n"
     ]
    },
    {
     "name": "stderr",
     "output_type": "stream",
     "text": [
      " 24%|██▎       | 71/300 [04:59<13:39,  3.58s/it]"
     ]
    },
    {
     "name": "stdout",
     "output_type": "stream",
     "text": [
      "The adverse drug reactions associated with Tagrisso and Doxycycline include wheeze, worsened breathing, dry skin, and acne.\n",
      "Processing with text only...\n"
     ]
    },
    {
     "name": "stderr",
     "output_type": "stream",
     "text": [
      " 24%|██▍       | 73/300 [05:05<11:54,  3.15s/it]"
     ]
    },
    {
     "name": "stdout",
     "output_type": "stream",
     "text": [
      "The adverse drug reactions associated with oxaliplatin, Capox, and Capecitabine include neuropathy and numbness in the throat as well as prickling sensations in the hands.\n",
      "Processing with text and images...\n"
     ]
    },
    {
     "name": "stderr",
     "output_type": "stream",
     "text": [
      " 25%|██▍       | 74/300 [05:14<17:33,  4.66s/it]"
     ]
    },
    {
     "name": "stdout",
     "output_type": "stream",
     "text": [
      "The images depict examples of EGFR rash, which is a physical adverse reaction observed in patients treated with the chemotherapy drug oxaliplatin. The adverse reactions manifest as swelling of the throat, numbness in the jaw, numbness in the tongue, pins and needles in the feet, pins and needles in the hands, and a runny nose.\n",
      "Processing with text only...\n"
     ]
    },
    {
     "name": "stderr",
     "output_type": "stream",
     "text": [
      " 25%|██▌       | 75/300 [05:17<15:23,  4.10s/it]"
     ]
    },
    {
     "name": "stdout",
     "output_type": "stream",
     "text": [
      "The adverse reaction associated with palbociclib is tiredness and diarrhoea.\n",
      "Processing with text only...\n"
     ]
    },
    {
     "name": "stderr",
     "output_type": "stream",
     "text": [
      " 25%|██▌       | 76/300 [05:19<13:58,  3.74s/it]"
     ]
    },
    {
     "name": "stdout",
     "output_type": "stream",
     "text": [
      "The adverse drug reaction associated with Palbociclib is mouth ulcers and thinning hair.\n",
      "Processing with text only...\n"
     ]
    },
    {
     "name": "stderr",
     "output_type": "stream",
     "text": [
      " 26%|██▌       | 77/300 [05:21<12:07,  3.26s/it]"
     ]
    },
    {
     "name": "stdout",
     "output_type": "stream",
     "text": [
      "The adverse reaction associated with Palbociclib is hair loss.\n",
      "Processing with text only...\n"
     ]
    },
    {
     "name": "stderr",
     "output_type": "stream",
     "text": [
      " 26%|██▌       | 78/300 [05:25<12:20,  3.33s/it]"
     ]
    },
    {
     "name": "stdout",
     "output_type": "stream",
     "text": [
      "The adverse drug reaction associated with letrozole and morphine is dry skin, itchy skin, and mouth sores.\n",
      "Processing with text only...\n"
     ]
    },
    {
     "name": "stderr",
     "output_type": "stream",
     "text": [
      " 26%|██▋       | 79/300 [05:28<12:02,  3.27s/it]"
     ]
    },
    {
     "name": "stdout",
     "output_type": "stream",
     "text": [
      "The adverse reaction associated with Oromorph is sore skin, red skin, dry skin, itching, and burning.\n",
      "Processing with text only...\n"
     ]
    },
    {
     "name": "stderr",
     "output_type": "stream",
     "text": [
      " 27%|██▋       | 80/300 [05:32<12:28,  3.40s/it]"
     ]
    },
    {
     "name": "stdout",
     "output_type": "stream",
     "text": [
      "The adverse effects of tamoxifen and other over-the-counter drugs include joint pain, migraines, nasal drip, and sore throat.\n",
      "Processing with text only...\n"
     ]
    },
    {
     "name": "stderr",
     "output_type": "stream",
     "text": [
      " 27%|██▋       | 81/300 [05:38<15:49,  4.34s/it]"
     ]
    },
    {
     "name": "stdout",
     "output_type": "stream",
     "text": [
      "The adverse drug reactions associated with EC, Docetaxel, and Zoladex include vomiting, nausea, bad constipation, indigestion, hair loss, pain, chills, hot flushes, breathlessness, and fatigue.\n",
      "Processing with text and images...\n"
     ]
    },
    {
     "name": "stderr",
     "output_type": "stream",
     "text": [
      " 27%|██▋       | 82/300 [05:44<16:51,  4.64s/it]"
     ]
    },
    {
     "name": "stdout",
     "output_type": "stream",
     "text": [
      "The images show skin reactions associated with Letrozole therapy, presenting as hot flushes, cold chills, tiredness, hip pain, and aching thighs.\n",
      "Processing with text only...\n"
     ]
    },
    {
     "name": "stderr",
     "output_type": "stream",
     "text": [
      " 28%|██▊       | 83/300 [05:49<17:07,  4.74s/it]"
     ]
    },
    {
     "name": "stdout",
     "output_type": "stream",
     "text": [
      "The adverse reactions associated with the drugs Letrozole, Exemestane, and Loratadine include stiffness, aches, weight gain, sluggishness, and tiredness.\n",
      "Processing with text only...\n"
     ]
    },
    {
     "name": "stderr",
     "output_type": "stream",
     "text": [
      " 28%|██▊       | 84/300 [05:55<19:23,  5.39s/it]"
     ]
    },
    {
     "name": "stdout",
     "output_type": "stream",
     "text": [
      "The adverse drug reactions associated with exemestane, letrozole, magnesium, calcium, Vitamin D, Vitamin K, starflower oil, hemp oil, and sage tablets include sore hips, stiffness, mildly sore hands and feet, and sore feet after sitting.\n",
      "Processing with text only...\n"
     ]
    },
    {
     "name": "stderr",
     "output_type": "stream",
     "text": [
      " 28%|██▊       | 85/300 [05:59<17:03,  4.76s/it]"
     ]
    },
    {
     "name": "stdout",
     "output_type": "stream",
     "text": [
      "Pazopanib can cause adverse reactions including diarrhea, lower abdominal pain, and a bad taste in the mouth.\n",
      "Processing with text only...\n"
     ]
    },
    {
     "name": "stderr",
     "output_type": "stream",
     "text": [
      " 29%|██▊       | 86/300 [06:03<16:01,  4.49s/it]"
     ]
    },
    {
     "name": "stdout",
     "output_type": "stream",
     "text": [
      "The image shows two drugs, Sorafenib and Regorafenib, associated with the adverse reaction of extreme fatigue and callouses on feet.\n",
      "Processing with text only...\n"
     ]
    },
    {
     "name": "stderr",
     "output_type": "stream",
     "text": [
      " 29%|██▉       | 87/300 [06:05<13:43,  3.86s/it]"
     ]
    },
    {
     "name": "stdout",
     "output_type": "stream",
     "text": [
      "The adverse reaction associated with zolendronic acid is joint pain and muscle weakness.\n",
      "Processing with text only...\n"
     ]
    },
    {
     "name": "stderr",
     "output_type": "stream",
     "text": [
      " 29%|██▉       | 88/300 [06:08<12:39,  3.58s/it]"
     ]
    },
    {
     "name": "stdout",
     "output_type": "stream",
     "text": [
      "The adverse drug reaction associated with tamoxifen is exhaustion, headache, and discomfort in the lower abdomen.\n",
      "Processing with text only...\n"
     ]
    },
    {
     "name": "stderr",
     "output_type": "stream",
     "text": [
      " 30%|██▉       | 89/300 [06:10<10:47,  3.07s/it]"
     ]
    },
    {
     "name": "stdout",
     "output_type": "stream",
     "text": [
      "The adverse reaction associated with Tamoxifen is nausea and headaches.\n",
      "Processing with text only...\n"
     ]
    },
    {
     "name": "stderr",
     "output_type": "stream",
     "text": [
      " 30%|███       | 90/300 [06:12<09:28,  2.71s/it]"
     ]
    },
    {
     "name": "stdout",
     "output_type": "stream",
     "text": [
      "The adverse reaction associated with genesis is headache and flu-like symptoms.\n",
      "Processing with text only...\n"
     ]
    },
    {
     "name": "stderr",
     "output_type": "stream",
     "text": [
      " 30%|███       | 91/300 [06:14<09:19,  2.68s/it]"
     ]
    },
    {
     "name": "stdout",
     "output_type": "stream",
     "text": [
      "The adverse reaction associated with docetaxel is fatigue, diarrhea, and lack of appetite.\n",
      "Processing with text and images...\n"
     ]
    },
    {
     "name": "stderr",
     "output_type": "stream",
     "text": [
      " 31%|███       | 92/300 [06:20<12:29,  3.60s/it]"
     ]
    },
    {
     "name": "stdout",
     "output_type": "stream",
     "text": [
      "The images depict chemo-induced mucositis with chemo mouth, which is associated with docetaxel, pertuzumab, trastuzumab, and denosumab treatment.\n",
      "Processing with text only...\n"
     ]
    },
    {
     "name": "stderr",
     "output_type": "stream",
     "text": [
      " 31%|███       | 93/300 [06:24<12:28,  3.61s/it]"
     ]
    },
    {
     "name": "stdout",
     "output_type": "stream",
     "text": [
      "The adverse reaction reported for docetaxel, pertuzumab, and trastuzumab is a change in taste.\n",
      "Processing with text only...\n"
     ]
    },
    {
     "name": "stderr",
     "output_type": "stream",
     "text": [
      " 31%|███▏      | 94/300 [06:28<13:21,  3.89s/it]"
     ]
    },
    {
     "name": "stdout",
     "output_type": "stream",
     "text": [
      "The adverse drug reactions associated with paclitaxel, OnicoLife include hair loss, nail changes, neuropathy, dry skin, nausea, and constipation.\n",
      "Processing with text only...\n"
     ]
    },
    {
     "name": "stderr",
     "output_type": "stream",
     "text": [
      " 32%|███▏      | 95/300 [06:32<13:01,  3.81s/it]"
     ]
    },
    {
     "name": "stdout",
     "output_type": "stream",
     "text": [
      "The images show two adverse drug reactions associated with Keytruda and Pembro, which include rash, night sweats, and headache.\n",
      "Processing with text only...\n"
     ]
    },
    {
     "name": "stderr",
     "output_type": "stream",
     "text": [
      " 32%|███▏      | 96/300 [06:37<14:42,  4.32s/it]"
     ]
    },
    {
     "name": "stdout",
     "output_type": "stream",
     "text": [
      "The adverse reactions reported for Paclitaxel, carboplatin, and Niraparib include joint pain, muscle pain, tingling in fingers and toes, fatigue, and loss of body hair.\n",
      "Processing with text only...\n"
     ]
    },
    {
     "name": "stderr",
     "output_type": "stream",
     "text": [
      " 32%|███▏      | 97/300 [06:40<12:34,  3.72s/it]"
     ]
    },
    {
     "name": "stdout",
     "output_type": "stream",
     "text": [
      "The adverse reaction associated with Niraparib is low blood counts and nausea.\n",
      "Processing with text only...\n"
     ]
    },
    {
     "name": "stderr",
     "output_type": "stream",
     "text": [
      " 33%|███▎      | 98/300 [06:41<10:36,  3.15s/it]"
     ]
    },
    {
     "name": "stdout",
     "output_type": "stream",
     "text": [
      "The adverse reaction associated with taxol is tiredness and sickness.\n",
      "Processing with text only...\n"
     ]
    },
    {
     "name": "stderr",
     "output_type": "stream",
     "text": [
      " 33%|███▎      | 99/300 [06:46<11:33,  3.45s/it]"
     ]
    },
    {
     "name": "stdout",
     "output_type": "stream",
     "text": [
      "The adverse effects observed in patients using carboplatin and parp inhibitors include urine infections and the risk of blocked ureters with stenting being a complication.\n",
      "Processing with text only...\n"
     ]
    },
    {
     "name": "stderr",
     "output_type": "stream",
     "text": [
      " 33%|███▎      | 100/300 [06:54<16:26,  4.93s/it]"
     ]
    },
    {
     "name": "stdout",
     "output_type": "stream",
     "text": [
      "The patient experienced adverse reactions associated with Everolimus use, manifesting as constant itching, dry and flaky skin on the feet and legs, around the nose, and forehead; a rash on the arms; chesty cough; and pain from a femur fracture. The accompanying image shows the physical symptoms visually described.\n",
      "Processing with text only...\n"
     ]
    },
    {
     "name": "stderr",
     "output_type": "stream",
     "text": [
      " 34%|███▎      | 101/300 [07:01<18:19,  5.52s/it]"
     ]
    },
    {
     "name": "stdout",
     "output_type": "stream",
     "text": [
      "The image depicts adverse effects associated with the use of Everolimus and Cabozantinib, specifically showing symptoms such as foot-hand syndrome, cellulitis in the right foot and leg, thick dry skin on the feet, and cracked soles and heels.\n",
      "Processing with text only...\n"
     ]
    },
    {
     "name": "stderr",
     "output_type": "stream",
     "text": [
      " 34%|███▍      | 102/300 [07:04<15:23,  4.66s/it]"
     ]
    },
    {
     "name": "stdout",
     "output_type": "stream",
     "text": [
      "The patient experienced hard skin on hands/feet as an adverse reaction to Axitinib.\n",
      "Processing with text only...\n"
     ]
    },
    {
     "name": "stderr",
     "output_type": "stream",
     "text": [
      " 34%|███▍      | 103/300 [07:07<13:40,  4.16s/it]"
     ]
    },
    {
     "name": "stdout",
     "output_type": "stream",
     "text": [
      "The adverse drug reaction associated with Letrozole and Tamoxifen is hot flushes and achey ankles.\n",
      "Processing with text and images...\n"
     ]
    },
    {
     "name": "stderr",
     "output_type": "stream",
     "text": [
      " 35%|███▍      | 104/300 [07:12<14:55,  4.57s/it]"
     ]
    },
    {
     "name": "stdout",
     "output_type": "stream",
     "text": [
      "The image depicts a patient experiencing joint and muscle pain as adverse reactions to ixazomib, lenalidomide, dexamethasone, and isatuzumab treatments.\n",
      "Processing with text only...\n"
     ]
    },
    {
     "name": "stderr",
     "output_type": "stream",
     "text": [
      " 35%|███▌      | 106/300 [07:18<12:39,  3.92s/it]"
     ]
    },
    {
     "name": "stdout",
     "output_type": "stream",
     "text": [
      "The adverse drug reactions associated with Zoladex, Exemestane, and Emla cream include hot flushes, bad headaches, dizziness, aches and pains in joints, lack of energy, and nausea.\n",
      "Processing with text only...\n"
     ]
    },
    {
     "name": "stderr",
     "output_type": "stream",
     "text": [
      " 36%|███▌      | 107/300 [07:24<13:40,  4.25s/it]"
     ]
    },
    {
     "name": "stdout",
     "output_type": "stream",
     "text": [
      "The adverse reactions associated with zoladex, exemestane, and hemp oil include hot flushes, night sweats, joint pain, muscle pain, sore feet, and hip stiffness.\n",
      "Processing with text only...\n"
     ]
    },
    {
     "name": "stderr",
     "output_type": "stream",
     "text": [
      " 36%|███▌      | 108/300 [07:27<13:06,  4.10s/it]"
     ]
    },
    {
     "name": "stdout",
     "output_type": "stream",
     "text": [
      "The adverse reaction associated with Niraparib is stomach pain, along with bloating, loss of appetite, and occasional nausea.\n",
      "Processing with text only...\n"
     ]
    },
    {
     "name": "stderr",
     "output_type": "stream",
     "text": [
      " 36%|███▋      | 109/300 [07:31<12:32,  3.94s/it]"
     ]
    },
    {
     "name": "stdout",
     "output_type": "stream",
     "text": [
      "The adverse reactions associated with Capox, Xelox, and Folfox include diarrhea and fluid output from the stoma.\n",
      "Processing with text only...\n"
     ]
    },
    {
     "name": "stderr",
     "output_type": "stream",
     "text": [
      " 37%|███▋      | 110/300 [07:34<11:25,  3.61s/it]"
     ]
    },
    {
     "name": "stdout",
     "output_type": "stream",
     "text": [
      "The adverse drug reaction associated with Zoladex and Exemestane is hot flushes.\n",
      "Processing with text only...\n"
     ]
    },
    {
     "name": "stderr",
     "output_type": "stream",
     "text": [
      " 37%|███▋      | 112/300 [07:38<09:07,  2.91s/it]"
     ]
    },
    {
     "name": "stdout",
     "output_type": "stream",
     "text": [
      "The adverse drug reactions associated with zoladex and exemestane are hot flushes, joint pain, sore hips, and sore feet.\n",
      "Processing with text only...\n"
     ]
    },
    {
     "name": "stderr",
     "output_type": "stream",
     "text": [
      " 38%|███▊      | 113/300 [07:41<09:26,  3.03s/it]"
     ]
    },
    {
     "name": "stdout",
     "output_type": "stream",
     "text": [
      "The adverse drug reaction associated with Enzalutamide is dizziness, loss of balance, and night leg syndrome.\n",
      "Processing with text only...\n"
     ]
    },
    {
     "name": "stderr",
     "output_type": "stream",
     "text": [
      " 38%|███▊      | 114/300 [07:45<10:18,  3.33s/it]"
     ]
    },
    {
     "name": "stdout",
     "output_type": "stream",
     "text": [
      "The adverse reaction associated with the use of Letrozole and CBD oil was excessive watery discharge and a slight lime green tinge in urine.\n",
      "Processing with text only...\n"
     ]
    },
    {
     "name": "stderr",
     "output_type": "stream",
     "text": [
      " 38%|███▊      | 115/300 [07:49<10:40,  3.46s/it]"
     ]
    },
    {
     "name": "stdout",
     "output_type": "stream",
     "text": [
      "The adverse physical reaction associated with letrozole use includes urine discoloration and symptoms such as vaginal dryness and stiffness in the mornings.\n",
      "Processing with text only...\n"
     ]
    },
    {
     "name": "stderr",
     "output_type": "stream",
     "text": [
      " 39%|███▊      | 116/300 [07:52<10:32,  3.44s/it]"
     ]
    },
    {
     "name": "stdout",
     "output_type": "stream",
     "text": [
      "The adverse drug reaction associated with Letrazole is joint/bone pains and pain in the soles of the feet.\n",
      "Processing with text only...\n"
     ]
    },
    {
     "name": "stderr",
     "output_type": "stream",
     "text": [
      " 39%|███▉      | 117/300 [07:58<12:16,  4.02s/it]"
     ]
    },
    {
     "name": "stdout",
     "output_type": "stream",
     "text": [
      "The adverse drug reaction associated with pertuzamab, trastuzumab, Zoledronic acid, and Anastrozole was severe blisters under the breast and joint and leg pains.\n",
      "Processing with text only...\n"
     ]
    },
    {
     "name": "stderr",
     "output_type": "stream",
     "text": [
      " 39%|███▉      | 118/300 [08:00<10:27,  3.45s/it]"
     ]
    },
    {
     "name": "stdout",
     "output_type": "stream",
     "text": [
      "The adverse reaction associated with anastrozole is hot flushes.\n",
      "Processing with text only...\n"
     ]
    },
    {
     "name": "stderr",
     "output_type": "stream",
     "text": [
      " 40%|███▉      | 119/300 [08:05<11:24,  3.78s/it]"
     ]
    },
    {
     "name": "stdout",
     "output_type": "stream",
     "text": [
      "The adverse drug reactions associated with docetaxel, filgrastim, and paracetamol include sore throat, flu-like symptoms, and heavy head.\n",
      "Processing with text and images...\n"
     ]
    },
    {
     "name": "stderr",
     "output_type": "stream",
     "text": [
      " 40%|████      | 120/300 [08:19<20:31,  6.84s/it]"
     ]
    },
    {
     "name": "stdout",
     "output_type": "stream",
     "text": [
      "The image shows a close-up of a mouth with slightly parted lips. There is no visible physical adverse reaction such as headache, diarrhoea, vomiting, nausea, tiredness, or sore mouth related to filgrastim or paracetamol administration.\n",
      "Processing with text only...\n"
     ]
    },
    {
     "name": "stderr",
     "output_type": "stream",
     "text": [
      " 41%|████      | 122/300 [08:22<12:53,  4.34s/it]"
     ]
    },
    {
     "name": "stdout",
     "output_type": "stream",
     "text": [
      "The adverse drug reaction associated with Doxorubicin and gemcitabine is lung collapse.\n",
      "Processing with text only...\n"
     ]
    },
    {
     "name": "stderr",
     "output_type": "stream",
     "text": [
      " 41%|████▏     | 124/300 [08:26<10:23,  3.54s/it]"
     ]
    },
    {
     "name": "stdout",
     "output_type": "stream",
     "text": [
      "Exemestane and letrozole have been associated with adverse effects including extreme joint pain, bone spurs, inflammatory osteoarthritis, and reduced mobility.\n",
      "Processing with text only...\n"
     ]
    },
    {
     "name": "stderr",
     "output_type": "stream",
     "text": [
      " 42%|████▏     | 125/300 [08:29<10:00,  3.43s/it]"
     ]
    },
    {
     "name": "stdout",
     "output_type": "stream",
     "text": [
      "The adverse drug reactions associated with letrozole and anastrozole include painful joints and bone spurs.\n",
      "Processing with text only...\n"
     ]
    },
    {
     "name": "stderr",
     "output_type": "stream",
     "text": [
      " 42%|████▏     | 126/300 [08:37<12:46,  4.41s/it]"
     ]
    },
    {
     "name": "stdout",
     "output_type": "stream",
     "text": [
      "The adverse reaction associated with capecitabine is a sore right hand with symptoms including a tingly sensation, a prickly sensation, swollen fingertips, slightly inflamed and red knuckles, as well as difficulty bending fingers and difficulty closing the hand to make a fist.\n",
      "Processing with text only...\n"
     ]
    },
    {
     "name": "stderr",
     "output_type": "stream",
     "text": [
      " 42%|████▏     | 127/300 [08:40<11:44,  4.07s/it]"
     ]
    },
    {
     "name": "stdout",
     "output_type": "stream",
     "text": [
      "The adverse reaction associated with capecitabine is skin peeling and palmar-plantar effects.\n",
      "Processing with text only...\n"
     ]
    },
    {
     "name": "stderr",
     "output_type": "stream",
     "text": [
      " 43%|████▎     | 128/300 [08:43<11:21,  3.96s/it]"
     ]
    },
    {
     "name": "stdout",
     "output_type": "stream",
     "text": [
      "The adverse drug reaction associated with Capecitabine is soreness, redness, and peeling of hands and feet.\n",
      "Processing with text only...\n"
     ]
    },
    {
     "name": "stderr",
     "output_type": "stream",
     "text": [
      " 43%|████▎     | 129/300 [08:50<13:40,  4.80s/it]"
     ]
    },
    {
     "name": "stdout",
     "output_type": "stream",
     "text": [
      "The adverse reaction observed is a tingly feeling in toes, redness and flakiness on the soles of feet, and fingers side effects possibly indicative of neuropathy, associated with the use of Capecitabine and Oxaliplatin.\n",
      "Processing with text only...\n"
     ]
    },
    {
     "name": "stderr",
     "output_type": "stream",
     "text": [
      " 44%|████▎     | 131/300 [08:55<10:18,  3.66s/it]"
     ]
    },
    {
     "name": "stdout",
     "output_type": "stream",
     "text": [
      "Vinorelbine, carboplatin, and steroids may cause adverse reactions including anti-sickness effects and physical symptoms such as hair loss and extreme tiredness.\n",
      "Processing with text only...\n"
     ]
    },
    {
     "name": "stderr",
     "output_type": "stream",
     "text": [
      " 44%|████▍     | 132/300 [08:57<09:08,  3.26s/it]"
     ]
    },
    {
     "name": "stdout",
     "output_type": "stream",
     "text": [
      "The adverse drug reaction associated with docetaxel is nail damage.\n",
      "Processing with text only...\n"
     ]
    },
    {
     "name": "stderr",
     "output_type": "stream",
     "text": [
      " 44%|████▍     | 133/300 [08:59<08:08,  2.92s/it]"
     ]
    },
    {
     "name": "stdout",
     "output_type": "stream",
     "text": [
      "The adverse reaction associated with zoladex is flushes.\n",
      "Processing with text and images...\n"
     ]
    },
    {
     "name": "stderr",
     "output_type": "stream",
     "text": [
      " 45%|████▍     | 134/300 [09:01<07:28,  2.70s/it]"
     ]
    },
    {
     "name": "stdout",
     "output_type": "stream",
     "text": [
      "The adverse reaction associated with Zoledex is discomfort from injections.\n",
      "Processing with text only...\n"
     ]
    },
    {
     "name": "stderr",
     "output_type": "stream",
     "text": [
      " 45%|████▌     | 135/300 [09:05<08:35,  3.12s/it]"
     ]
    },
    {
     "name": "stdout",
     "output_type": "stream",
     "text": [
      "The adverse drug reactions reported for zoladex and Elma cream include hot flushes, night sweats, and soreness at the injection site.\n",
      "Processing with text only...\n"
     ]
    },
    {
     "name": "stderr",
     "output_type": "stream",
     "text": [
      " 45%|████▌     | 136/300 [09:08<08:11,  3.00s/it]"
     ]
    },
    {
     "name": "stdout",
     "output_type": "stream",
     "text": [
      "The adverse drug reaction associated with zoladex and tamoxifen is hot flushes.\n",
      "Processing with text only...\n"
     ]
    },
    {
     "name": "stderr",
     "output_type": "stream",
     "text": [
      " 46%|████▌     | 137/300 [09:12<09:15,  3.41s/it]"
     ]
    },
    {
     "name": "stdout",
     "output_type": "stream",
     "text": [
      "The adverse reactions associated with the use of exemestane, letrozole, and zoladex include sore joints, hot flashes, and night sweats.\n",
      "Processing with text only...\n"
     ]
    },
    {
     "name": "stderr",
     "output_type": "stream",
     "text": [
      " 46%|████▌     | 138/300 [09:15<08:57,  3.32s/it]"
     ]
    },
    {
     "name": "stdout",
     "output_type": "stream",
     "text": [
      "The adverse reaction associated with Zometa is lymphoedema and arm swelling, accompanied by aches.\n",
      "Processing with text only...\n"
     ]
    },
    {
     "name": "stderr",
     "output_type": "stream",
     "text": [
      " 46%|████▋     | 139/300 [09:21<10:29,  3.91s/it]"
     ]
    },
    {
     "name": "stdout",
     "output_type": "stream",
     "text": [
      "The adverse drug reaction associated with Letrozole, a product from both Cipla and Accord, manifests as freezing cold, uncontrollable shivers, smelly urine, and hot flushes.\n",
      "Processing with text only...\n"
     ]
    },
    {
     "name": "stderr",
     "output_type": "stream",
     "text": [
      " 47%|████▋     | 141/300 [09:24<07:28,  2.82s/it]"
     ]
    },
    {
     "name": "stdout",
     "output_type": "stream",
     "text": [
      "The patient experienced adverse effects such as sneezes and a runny nose while using paracetamol.\n",
      "Processing with text only...\n"
     ]
    },
    {
     "name": "stderr",
     "output_type": "stream",
     "text": [
      " 47%|████▋     | 142/300 [09:33<11:27,  4.35s/it]"
     ]
    },
    {
     "name": "stdout",
     "output_type": "stream",
     "text": [
      "The adverse reactions reported include constant left hip pain, buttock pain, leg pain, blurry vision, sensitive hands described as feeling like walking on sponges, sore feet, and an ache at the top front of the right leg following the administration of FEC, Docetaxel, ibuprofen, and paracetamol.\n",
      "Processing with text only...\n"
     ]
    },
    {
     "name": "stderr",
     "output_type": "stream",
     "text": [
      " 48%|████▊     | 143/300 [09:39<12:39,  4.84s/it]"
     ]
    },
    {
     "name": "stdout",
     "output_type": "stream",
     "text": [
      "The adverse drug reaction associated with docetaxel is peripheral neuropathy, manifesting as numbness, tingling, and pain in the hands, legs, and feet, as well as constipation and hip and muscle pain.\n",
      "Processing with text only...\n"
     ]
    },
    {
     "name": "stderr",
     "output_type": "stream",
     "text": [
      " 48%|████▊     | 144/300 [09:46<14:01,  5.40s/it]"
     ]
    },
    {
     "name": "stdout",
     "output_type": "stream",
     "text": [
      "The adverse reaction associated with Viscotears is numbness in the fingers and legs, loss of feeling up to the knees, no total feeling in the toes, difficulty fastening buttons, weird sensations in the feet, and a propensity towards dry eyes.\n",
      "Processing with text only...\n"
     ]
    },
    {
     "name": "stderr",
     "output_type": "stream",
     "text": [
      " 48%|████▊     | 145/300 [09:50<13:20,  5.16s/it]"
     ]
    },
    {
     "name": "stdout",
     "output_type": "stream",
     "text": [
      "The adverse drug reaction associated with tamoxifen and genesis is dry mouth, aches, pains, constant headache, blurred vision, and fatigue (tiredness).\n",
      "Processing with text only...\n"
     ]
    },
    {
     "name": "stderr",
     "output_type": "stream",
     "text": [
      " 49%|████▊     | 146/300 [09:55<12:54,  5.03s/it]"
     ]
    },
    {
     "name": "stdout",
     "output_type": "stream",
     "text": [
      "The adverse drug reactions associated with zoladex, tamoxifen, and exemestane include hot flashes, night sweats, stiff joints, and muscle stiffness.\n",
      "Processing with text only...\n"
     ]
    },
    {
     "name": "stderr",
     "output_type": "stream",
     "text": [
      " 49%|████▉     | 147/300 [09:59<11:52,  4.66s/it]"
     ]
    },
    {
     "name": "stdout",
     "output_type": "stream",
     "text": [
      "The adverse reaction associated with Zytiga is tiredness, fatigue, sore ribs, sternum pain, and aches in legs.\n",
      "Processing with text and images...\n"
     ]
    },
    {
     "name": "stderr",
     "output_type": "stream",
     "text": [
      " 49%|████▉     | 148/300 [10:19<23:25,  9.24s/it]"
     ]
    },
    {
     "name": "stdout",
     "output_type": "stream",
     "text": [
      "The images show physical adverse effects including tiredness, sore swollen mouth, sore eyes, sensitive hands and feet, pain in the left buttock, pain down into the leg, and hip and buttock pain, potentially related to Fec, Docetaxel, ibuprofen, or diclofenac.\n",
      "Processing with text only...\n"
     ]
    },
    {
     "name": "stderr",
     "output_type": "stream",
     "text": [
      " 50%|████▉     | 149/300 [10:23<19:20,  7.68s/it]"
     ]
    },
    {
     "name": "stdout",
     "output_type": "stream",
     "text": [
      "The adverse reactions reported for the drugs Herceptin, Taxo, and Paracetamol include horrendous headaches and aching leg bones.\n",
      "Processing with text only...\n"
     ]
    },
    {
     "name": "stderr",
     "output_type": "stream",
     "text": [
      " 50%|█████     | 151/300 [10:27<12:46,  5.14s/it]"
     ]
    },
    {
     "name": "stdout",
     "output_type": "stream",
     "text": [
      "The patient experienced achy bones in their legs and feet following the administration of co-codamol, doxycycline, or FEC.\n",
      "Processing with text only...\n"
     ]
    },
    {
     "name": "stderr",
     "output_type": "stream",
     "text": [
      " 51%|█████     | 152/300 [10:32<12:27,  5.05s/it]"
     ]
    },
    {
     "name": "stdout",
     "output_type": "stream",
     "text": [
      "The adverse drug reaction associated with Alectinib is extreme tiredness, accompanied by symptoms resembling sunburn and extreme sensitivity to sunlight. The image provided relates to this drug.\n",
      "Processing with text only...\n"
     ]
    },
    {
     "name": "stderr",
     "output_type": "stream",
     "text": [
      " 51%|█████     | 153/300 [10:35<10:43,  4.37s/it]"
     ]
    },
    {
     "name": "stdout",
     "output_type": "stream",
     "text": [
      "The adverse reactions associated with OEPA and COPDAC include hot flashes and thinner hair.\n",
      "Processing with text only...\n"
     ]
    },
    {
     "name": "stderr",
     "output_type": "stream",
     "text": [
      " 51%|█████▏    | 154/300 [10:37<09:16,  3.81s/it]"
     ]
    },
    {
     "name": "stdout",
     "output_type": "stream",
     "text": [
      "The adverse drug reaction associated with Abemaciclib is stomach pains and fatigue.\n",
      "Processing with text only...\n"
     ]
    },
    {
     "name": "stderr",
     "output_type": "stream",
     "text": [
      " 52%|█████▏    | 155/300 [10:41<09:29,  3.93s/it]"
     ]
    },
    {
     "name": "stdout",
     "output_type": "stream",
     "text": [
      "The adverse reactions associated with FEC and Docetaxel include tiredness, sore mouth, sensitivity in hands and face, and hip and buttock pain.\n",
      "Processing with text only...\n"
     ]
    },
    {
     "name": "stderr",
     "output_type": "stream",
     "text": [
      " 52%|█████▏    | 156/300 [10:45<09:22,  3.91s/it]"
     ]
    },
    {
     "name": "stdout",
     "output_type": "stream",
     "text": [
      "The adverse drug reactions associated with oxaliplatin and capecitabine include cold sensitivity, arm tingling, and feeling weak.\n",
      "Processing with text only...\n"
     ]
    },
    {
     "name": "stderr",
     "output_type": "stream",
     "text": [
      " 52%|█████▏    | 157/300 [10:49<09:22,  3.93s/it]"
     ]
    },
    {
     "name": "stdout",
     "output_type": "stream",
     "text": [
      "The patient experienced adverse reactions manifesting as whiteheads and sore spots on the jawline and cheeks associated with the use of EC and taxol.\n",
      "Processing with text only...\n"
     ]
    },
    {
     "name": "stderr",
     "output_type": "stream",
     "text": [
      " 53%|█████▎    | 158/300 [10:53<08:59,  3.80s/it]"
     ]
    },
    {
     "name": "stdout",
     "output_type": "stream",
     "text": [
      "The adverse reactions associated with EC, Patitaxel, and HP include nausea, vomiting, dehydration, and water infections.\n",
      "Processing with text only...\n"
     ]
    },
    {
     "name": "stderr",
     "output_type": "stream",
     "text": [
      " 53%|█████▎    | 159/300 [10:59<10:53,  4.63s/it]"
     ]
    },
    {
     "name": "stdout",
     "output_type": "stream",
     "text": [
      "The adverse drug reactions associated with paclitaxel, Herceptin, steroids, antihistamine, and stomach pills include fatigue, lethargy, nosebleeds, stomach issues, cough, peripheral neuropathy, and acne.\n",
      "Processing with text only...\n"
     ]
    },
    {
     "name": "stderr",
     "output_type": "stream",
     "text": [
      " 53%|█████▎    | 160/300 [11:02<09:36,  4.12s/it]"
     ]
    },
    {
     "name": "stdout",
     "output_type": "stream",
     "text": [
      "The adverse reaction associated with zoladex is testicular shrinkage, accompanied by lower backache.\n",
      "Processing with text only...\n"
     ]
    },
    {
     "name": "stderr",
     "output_type": "stream",
     "text": [
      " 54%|█████▍    | 162/300 [11:06<07:18,  3.18s/it]"
     ]
    },
    {
     "name": "stdout",
     "output_type": "stream",
     "text": [
      "The adverse reactions associated with the use of TEVA, Sun Pharma, and Accord drugs include bone and muscle aches as well as hot flushes.\n",
      "Processing with text only...\n"
     ]
    },
    {
     "name": "stderr",
     "output_type": "stream",
     "text": [
      " 54%|█████▍    | 163/300 [11:10<07:32,  3.30s/it]"
     ]
    },
    {
     "name": "stdout",
     "output_type": "stream",
     "text": [
      "The patient experienced adverse drug reactions manifested as whiteheads, sore spots, and spots on the face after taking either EC or taxol.\n",
      "Processing with text only...\n"
     ]
    },
    {
     "name": "stderr",
     "output_type": "stream",
     "text": [
      " 55%|█████▍    | 164/300 [11:18<10:06,  4.46s/it]"
     ]
    },
    {
     "name": "stdout",
     "output_type": "stream",
     "text": [
      "The adverse reactions associated with the use of Paclitaxel, Herceptin, steroids, antihistamines, and stomach pills include tiredness, lethargy, nosebleeds, symptoms related to a dodgy stomach, coughing, peripheral neuropathy, and acne.\n",
      "Processing with text only...\n"
     ]
    },
    {
     "name": "stderr",
     "output_type": "stream",
     "text": [
      " 55%|█████▌    | 165/300 [11:20<08:37,  3.83s/it]"
     ]
    },
    {
     "name": "stdout",
     "output_type": "stream",
     "text": [
      "The adverse drug reaction associated with Herceptin and EC is hair loss.\n",
      "Processing with text only...\n"
     ]
    },
    {
     "name": "stderr",
     "output_type": "stream",
     "text": [
      " 55%|█████▌    | 166/300 [11:24<08:36,  3.85s/it]"
     ]
    },
    {
     "name": "stdout",
     "output_type": "stream",
     "text": [
      "The adverse reaction associated with OXY, cap tabs is nausea, which can be compounded by difficulty in drinking, leading to rehydration issues.\n",
      "Processing with text only...\n"
     ]
    },
    {
     "name": "stderr",
     "output_type": "stream",
     "text": [
      " 56%|█████▌    | 168/300 [11:26<06:05,  2.77s/it]"
     ]
    },
    {
     "name": "stdout",
     "output_type": "stream",
     "text": [
      "The adverse reaction associated with ZOLADEX is heavy legs, hip ache, and hot sweats.\n",
      "Processing with text only...\n"
     ]
    },
    {
     "name": "stderr",
     "output_type": "stream",
     "text": [
      " 56%|█████▋    | 169/300 [11:30<06:38,  3.04s/it]"
     ]
    },
    {
     "name": "stdout",
     "output_type": "stream",
     "text": [
      "The adverse reactions associated with pertuzumab, trastuzumab, and docetaxel include appetite suppression and diarrhoea.\n",
      "Processing with text only...\n"
     ]
    },
    {
     "name": "stderr",
     "output_type": "stream",
     "text": [
      " 57%|█████▋    | 170/300 [11:33<06:22,  2.94s/it]"
     ]
    },
    {
     "name": "stdout",
     "output_type": "stream",
     "text": [
      "The adverse drug reaction associated with letrozole and Palbociclib is hair loss.\n",
      "Processing with text only...\n"
     ]
    },
    {
     "name": "stderr",
     "output_type": "stream",
     "text": [
      " 57%|█████▋    | 171/300 [11:38<07:17,  3.39s/it]"
     ]
    },
    {
     "name": "stdout",
     "output_type": "stream",
     "text": [
      "The adverse drug reactions reported for Taxotere (Paclitaxel) and Avastin include joint pains, aches, overwhelming tiredness, and nausea.\n",
      "Processing with text only...\n"
     ]
    },
    {
     "name": "stderr",
     "output_type": "stream",
     "text": [
      " 57%|█████▋    | 172/300 [11:44<08:42,  4.09s/it]"
     ]
    },
    {
     "name": "stdout",
     "output_type": "stream",
     "text": [
      "The adverse drug reactions associated with docetaxel, capecitabine, pertuzumab, trastuzumab, and filgrastim are hair loss, tiredness, and dizziness.\n",
      "Processing with text only...\n"
     ]
    },
    {
     "name": "stderr",
     "output_type": "stream",
     "text": [
      " 58%|█████▊    | 173/300 [11:49<09:32,  4.51s/it]"
     ]
    },
    {
     "name": "stdout",
     "output_type": "stream",
     "text": [
      "The adverse reactions associated with Taxol, Pertuzumab, Carboplatin, and Heceptin include tiredness, funny tummy, nausea, acne, hair loss, and hot flushes.\n",
      "Processing with text only...\n"
     ]
    },
    {
     "name": "stderr",
     "output_type": "stream",
     "text": [
      " 59%|█████▊    | 176/300 [11:52<05:16,  2.55s/it]"
     ]
    },
    {
     "name": "stdout",
     "output_type": "stream",
     "text": [
      "The adverse drug reaction associated with both venloflexine and tamoxifen is hot flushes.\n",
      "Processing with text only...\n"
     ]
    },
    {
     "name": "stderr",
     "output_type": "stream",
     "text": [
      " 60%|█████▉    | 179/300 [11:59<04:53,  2.43s/it]"
     ]
    },
    {
     "name": "stdout",
     "output_type": "stream",
     "text": [
      "The adverse drug reactions reported for Capecitabine, oxaliplatin, Domperidone, and Loperamide include pain, numbness, sensitive hands, lower arm pain, nausea, fatigue, diarrhea, and tingling hands.\n",
      "Processing with text only...\n"
     ]
    },
    {
     "name": "stderr",
     "output_type": "stream",
     "text": [
      " 60%|██████    | 180/300 [12:03<05:30,  2.76s/it]"
     ]
    },
    {
     "name": "stdout",
     "output_type": "stream",
     "text": [
      "The adverse drug reaction associated with sunitinib (sutent) is tummy trouble, nausea, sore feet, dizzy spells, and sweaty shivers.\n",
      "Processing with text only...\n"
     ]
    },
    {
     "name": "stderr",
     "output_type": "stream",
     "text": [
      " 60%|██████    | 181/300 [12:07<05:53,  2.97s/it]"
     ]
    },
    {
     "name": "stdout",
     "output_type": "stream",
     "text": [
      "The adverse reaction observed with dab/tram was fever, chills, fatigue, muscle pain, joint pain, and soreness in legs.\n",
      "Processing with text only...\n"
     ]
    },
    {
     "name": "stderr",
     "output_type": "stream",
     "text": [
      " 61%|██████    | 182/300 [12:09<05:18,  2.70s/it]"
     ]
    },
    {
     "name": "stdout",
     "output_type": "stream",
     "text": [
      "The adverse drug reaction associated with dab and tram is fatigue.\n",
      "Processing with text only...\n"
     ]
    },
    {
     "name": "stderr",
     "output_type": "stream",
     "text": [
      " 61%|██████    | 183/300 [12:11<05:14,  2.69s/it]"
     ]
    },
    {
     "name": "stdout",
     "output_type": "stream",
     "text": [
      "The adverse reaction associated with docetaxel and capecitabine is hair loss.\n",
      "Processing with text and images...\n"
     ]
    },
    {
     "name": "stderr",
     "output_type": "stream",
     "text": [
      " 61%|██████▏   | 184/300 [12:20<08:00,  4.15s/it]"
     ]
    },
    {
     "name": "stdout",
     "output_type": "stream",
     "text": [
      "The image shows skin irritation with peeling, which may be related to adverse reactions experienced by patients using VTD, Velcade, Thalidomide, and dex, manifesting as rapid weight gain, numbness in fingers, legs, and toes, and extreme tiredness.\n",
      "Processing with text only...\n"
     ]
    },
    {
     "name": "stderr",
     "output_type": "stream",
     "text": [
      " 62%|██████▏   | 185/300 [12:26<08:49,  4.60s/it]"
     ]
    },
    {
     "name": "stdout",
     "output_type": "stream",
     "text": [
      "The adverse drug reactions associated with dabrafenib and trametinib include aching joints, hot and tender soles of feet, cataracts, hearing loss, difficulty concentrating, and balance issues.\n",
      "Processing with text only...\n"
     ]
    },
    {
     "name": "stderr",
     "output_type": "stream",
     "text": [
      " 62%|██████▏   | 187/300 [12:30<06:39,  3.53s/it]"
     ]
    },
    {
     "name": "stdout",
     "output_type": "stream",
     "text": [
      "The adverse reactions associated with Cabozantinib and Thyroxine include sore mouth, sore hands, sore feet, diarrhea, and tiredness.\n",
      "Processing with text only...\n"
     ]
    },
    {
     "name": "stderr",
     "output_type": "stream",
     "text": [
      " 63%|██████▎   | 188/300 [12:37<08:12,  4.39s/it]"
     ]
    },
    {
     "name": "stdout",
     "output_type": "stream",
     "text": [
      "The patient experienced adverse drug reactions manifesting as aches and pains across the neck and shoulders, a painful right wrist, fatigue, and difficulty sleeping, which were attributed to the use of Pembrolizumab, Prednisolone, and Naproxen.\n",
      "Processing with text only...\n"
     ]
    },
    {
     "name": "stderr",
     "output_type": "stream",
     "text": [
      " 63%|██████▎   | 189/300 [12:43<08:40,  4.69s/it]"
     ]
    },
    {
     "name": "stdout",
     "output_type": "stream",
     "text": [
      "The adverse drug reactions associated with the use of pembrolizumab and ibuprofen were reported as joint aching and tiredness, as well as pain across the neck, back, and arms.\n",
      "Processing with text only...\n"
     ]
    },
    {
     "name": "stderr",
     "output_type": "stream",
     "text": [
      " 63%|██████▎   | 190/300 [12:48<08:49,  4.81s/it]"
     ]
    },
    {
     "name": "stdout",
     "output_type": "stream",
     "text": [
      "The adverse reaction associated with the use of Folfiri, loperamide, and cetuximab is diarrhea, which may be accompanied by hair thinning and an acne-like rash.\n",
      "Processing with text only...\n"
     ]
    },
    {
     "name": "stderr",
     "output_type": "stream",
     "text": [
      " 64%|██████▍   | 192/300 [12:50<05:54,  3.28s/it]"
     ]
    },
    {
     "name": "stdout",
     "output_type": "stream",
     "text": [
      "The adverse reaction associated with cetuximab treatment includes an acne-type rash and diarrhea.\n",
      "Processing with text only...\n"
     ]
    },
    {
     "name": "stderr",
     "output_type": "stream",
     "text": [
      " 64%|██████▍   | 193/300 [12:57<07:13,  4.05s/it]"
     ]
    },
    {
     "name": "stdout",
     "output_type": "stream",
     "text": [
      "The adverse drug reactions observed with Herceptin, Pertuzamab, and Letrozole include pain in the hands, clicking fingers, neuropathy characterized by tingling and numbness in the fingers, and morning aches and pains.\n",
      "Processing with text only...\n"
     ]
    },
    {
     "name": "stderr",
     "output_type": "stream",
     "text": [
      " 65%|██████▍   | 194/300 [13:01<07:05,  4.01s/it]"
     ]
    },
    {
     "name": "stdout",
     "output_type": "stream",
     "text": [
      "The adverse reactions associated with Femara, Decapeptyl, and Letrozole include joint pain in the knuckles/hands and nausea.\n",
      "Processing with text only...\n"
     ]
    },
    {
     "name": "stderr",
     "output_type": "stream",
     "text": [
      " 65%|██████▌   | 195/300 [13:04<06:46,  3.87s/it]"
     ]
    },
    {
     "name": "stdout",
     "output_type": "stream",
     "text": [
      "The adverse reaction associated with Letrozole is pain in joints, specifically manifesting as trigger finger involving two fingers sticking straight.\n",
      "Processing with text only...\n"
     ]
    },
    {
     "name": "stderr",
     "output_type": "stream",
     "text": [
      " 65%|██████▌   | 196/300 [13:08<06:26,  3.72s/it]"
     ]
    },
    {
     "name": "stdout",
     "output_type": "stream",
     "text": [
      "The adverse reaction observed with both Paclitaxol and Herceptin was numbness in the balls of feet.\n",
      "Processing with text only...\n"
     ]
    },
    {
     "name": "stderr",
     "output_type": "stream",
     "text": [
      " 66%|██████▋   | 199/300 [13:11<03:49,  2.28s/it]"
     ]
    },
    {
     "name": "stdout",
     "output_type": "stream",
     "text": [
      "The adverse drug reactions reported for alendronic acid, calcium, and letrozole include toothache and nausea.\n",
      "Processing with text only...\n"
     ]
    },
    {
     "name": "stderr",
     "output_type": "stream",
     "text": [
      " 67%|██████▋   | 200/300 [13:15<04:27,  2.68s/it]"
     ]
    },
    {
     "name": "stdout",
     "output_type": "stream",
     "text": [
      "The adverse drug reactions associated with Alendronic Acid, statins, Letrozole, and antihistamines include hives and indigestion.\n",
      "Processing with text and images...\n"
     ]
    },
    {
     "name": "stderr",
     "output_type": "stream",
     "text": [
      " 67%|██████▋   | 201/300 [13:30<09:01,  5.47s/it]"
     ]
    },
    {
     "name": "stdout",
     "output_type": "stream",
     "text": [
      "The images depict physical adverse reactions to letrozole and exemestane, specifically cracked hands (image a) and downy fuzz on the scalp (image b). The adverse effects associated with these drugs include cracked hands, downy fuzz on the face, joint pain, retinal detachment, chest pain, dizziness, and an ulcer in the eye. The medications involved are letrozole, Femara, exemestane, and Teva. The brands of the tablets included are Cipla, Accord, Sandoz, and Teva.\n",
      "Processing with text only...\n"
     ]
    },
    {
     "name": "stderr",
     "output_type": "stream",
     "text": [
      " 67%|██████▋   | 202/300 [13:33<07:53,  4.83s/it]"
     ]
    },
    {
     "name": "stdout",
     "output_type": "stream",
     "text": [
      "The adverse drug reaction associated with Teva is hot flushes, ankle aches, and weight gain.\n",
      "Processing with text only...\n"
     ]
    },
    {
     "name": "stderr",
     "output_type": "stream",
     "text": [
      " 68%|██████▊   | 203/300 [13:39<08:11,  5.07s/it]"
     ]
    },
    {
     "name": "stdout",
     "output_type": "stream",
     "text": [
      "The adverse drug reactions associated with prednisone and methotrexate include water retention, sweating, loss of balance, confusion, type 2 steroid-induced diabetes, and increased susceptibility to falling due to dizziness.\n",
      "Processing with text only...\n"
     ]
    },
    {
     "name": "stderr",
     "output_type": "stream",
     "text": [
      " 68%|██████▊   | 204/300 [13:43<07:47,  4.87s/it]"
     ]
    },
    {
     "name": "stdout",
     "output_type": "stream",
     "text": [
      "The adverse drug reaction associated with both Letrozole and Anastrozole is joint pain, specifically stiffness in the knees and pain in the hands and fingers.\n",
      "Processing with text only...\n"
     ]
    },
    {
     "name": "stderr",
     "output_type": "stream",
     "text": [
      " 68%|██████▊   | 205/300 [13:46<06:47,  4.29s/it]"
     ]
    },
    {
     "name": "stdout",
     "output_type": "stream",
     "text": [
      "The adverse reaction associated with letrozole is joint pain, stiffness, and a hunched posture.\n",
      "Processing with text only...\n"
     ]
    },
    {
     "name": "stderr",
     "output_type": "stream",
     "text": [
      " 69%|██████▊   | 206/300 [13:49<06:30,  4.15s/it]"
     ]
    },
    {
     "name": "stdout",
     "output_type": "stream",
     "text": [
      "The adverse reaction associated with letrozole is stiffness in the ankles and feet, as well as difficulty in walking upon waking in the morning.\n",
      "Processing with text only...\n"
     ]
    },
    {
     "name": "stderr",
     "output_type": "stream",
     "text": [
      " 69%|██████▉   | 207/300 [13:53<06:03,  3.91s/it]"
     ]
    },
    {
     "name": "stdout",
     "output_type": "stream",
     "text": [
      "The adverse drug reaction associated with the use of letrozole and bisphosphonate is knee pain and stiffness.\n",
      "Processing with text only...\n"
     ]
    },
    {
     "name": "stderr",
     "output_type": "stream",
     "text": [
      " 69%|██████▉   | 208/300 [13:59<07:14,  4.72s/it]"
     ]
    },
    {
     "name": "stdout",
     "output_type": "stream",
     "text": [
      "The patient experienced adverse effects including hair loss, greasy hair at the roots, dry hair at the ends, brown patches of skin on the forehead and nose, and sunburn on the arms and shoulders, while taking levothyroxine.\n",
      "Processing with text and images...\n"
     ]
    },
    {
     "name": "stderr",
     "output_type": "stream",
     "text": [
      " 70%|██████▉   | 209/300 [14:04<07:18,  4.82s/it]"
     ]
    },
    {
     "name": "stdout",
     "output_type": "stream",
     "text": [
      "The image depicts a patient experiencing physical adverse effects related to cisplatin, specifically difficulty swallowing, thick mucus, loss of saliva, raspy voice, and weakness.\n",
      "Processing with text and images...\n"
     ]
    },
    {
     "name": "stderr",
     "output_type": "stream",
     "text": [
      " 70%|███████   | 210/300 [14:11<07:45,  5.18s/it]"
     ]
    },
    {
     "name": "stdout",
     "output_type": "stream",
     "text": [
      "The image shows a close-up of a mouth with visible irritation and lesions on the inner cheeks, which could be indicative of a reaction to Herceptin treatment, characterized by bone pain, nausea, and extreme fatigue.\n",
      "Processing with text only...\n"
     ]
    },
    {
     "name": "stderr",
     "output_type": "stream",
     "text": [
      " 70%|███████   | 211/300 [14:15<07:29,  5.05s/it]"
     ]
    },
    {
     "name": "stdout",
     "output_type": "stream",
     "text": [
      "The adverse effects associated with Dexamethasone and Zofran include vomiting bile, significant weight loss (almost 40 pounds), weakness, and a skeletal appearance.\n",
      "Processing with text only...\n"
     ]
    },
    {
     "name": "stderr",
     "output_type": "stream",
     "text": [
      " 71%|███████   | 212/300 [14:18<06:33,  4.47s/it]"
     ]
    },
    {
     "name": "stdout",
     "output_type": "stream",
     "text": [
      "The adverse drug reaction associated with Femara is joint pain, muscle weakness, tiredness, and back-ache.\n",
      "Processing with text only...\n"
     ]
    },
    {
     "name": "stderr",
     "output_type": "stream",
     "text": [
      " 71%|███████   | 213/300 [14:22<05:54,  4.08s/it]"
     ]
    },
    {
     "name": "stdout",
     "output_type": "stream",
     "text": [
      "The adverse drug reactions associated with Femara and Co-Codamol include headaches, backache, and fatigue.\n",
      "Processing with text only...\n"
     ]
    },
    {
     "name": "stderr",
     "output_type": "stream",
     "text": [
      " 71%|███████▏  | 214/300 [14:23<04:53,  3.41s/it]"
     ]
    },
    {
     "name": "stdout",
     "output_type": "stream",
     "text": [
      "The adverse reaction associated with Letrozole is fast heart beating.\n",
      "Processing with text only...\n"
     ]
    },
    {
     "name": "stderr",
     "output_type": "stream",
     "text": [
      " 72%|███████▏  | 215/300 [14:27<05:02,  3.56s/it]"
     ]
    },
    {
     "name": "stdout",
     "output_type": "stream",
     "text": [
      "The adverse reaction associated with the use of Letrozole, cod liver oil, vitamin D, and glucosamine is lower back pain.\n",
      "Processing with text only...\n"
     ]
    },
    {
     "name": "stderr",
     "output_type": "stream",
     "text": [
      " 72%|███████▏  | 216/300 [14:29<04:12,  3.01s/it]"
     ]
    },
    {
     "name": "stdout",
     "output_type": "stream",
     "text": [
      "The adverse reaction associated with letrozole is joint pain.\n",
      "Processing with text only...\n"
     ]
    },
    {
     "name": "stderr",
     "output_type": "stream",
     "text": [
      " 72%|███████▏  | 217/300 [14:33<04:25,  3.20s/it]"
     ]
    },
    {
     "name": "stdout",
     "output_type": "stream",
     "text": [
      "The adverse drug reaction observed with Letrazole, codliver oil, or calcium was a slight ache in the leg joints.\n",
      "Processing with text only...\n"
     ]
    },
    {
     "name": "stderr",
     "output_type": "stream",
     "text": [
      " 73%|███████▎  | 218/300 [14:40<06:13,  4.56s/it]"
     ]
    },
    {
     "name": "stdout",
     "output_type": "stream",
     "text": [
      "The adverse drug reaction associated with Rituximab is flu-like symptoms, chronic fatigue, mouth ulcers, cystitis, aching joints, knee strain, muscle weakness, and diarrhea. The image accompanying this text depicts a patient experiencing these side effects following administration of Rituximab.\n",
      "Processing with text only...\n"
     ]
    },
    {
     "name": "stderr",
     "output_type": "stream",
     "text": [
      " 73%|███████▎  | 219/300 [14:43<05:22,  3.99s/it]"
     ]
    },
    {
     "name": "stdout",
     "output_type": "stream",
     "text": [
      "Rutiximab can cause adverse physical reactions including joint aches and mouth ulcers.\n",
      "Processing with text only...\n"
     ]
    },
    {
     "name": "stderr",
     "output_type": "stream",
     "text": [
      " 73%|███████▎  | 220/300 [14:47<05:25,  4.06s/it]"
     ]
    },
    {
     "name": "stdout",
     "output_type": "stream",
     "text": [
      "The adverse reaction associated with Rituximab treatment includes tiredness, nausea, leg pain, clicking and hissing in ears, and night sweats.\n",
      "Processing with text only...\n"
     ]
    },
    {
     "name": "stderr",
     "output_type": "stream",
     "text": [
      " 74%|███████▎  | 221/300 [14:49<04:35,  3.49s/it]"
     ]
    },
    {
     "name": "stdout",
     "output_type": "stream",
     "text": [
      "The adverse reaction associated with the drug abiraterone is water infections.\n",
      "Processing with text only...\n"
     ]
    },
    {
     "name": "stderr",
     "output_type": "stream",
     "text": [
      " 74%|███████▍  | 222/300 [14:53<04:30,  3.47s/it]"
     ]
    },
    {
     "name": "stdout",
     "output_type": "stream",
     "text": [
      "The adverse drug reaction associated with Zolodex, Abiraterone, and Prednisolone is joint pains.\n",
      "Processing with text only...\n"
     ]
    },
    {
     "name": "stderr",
     "output_type": "stream",
     "text": [
      " 74%|███████▍  | 223/300 [14:59<05:30,  4.30s/it]"
     ]
    },
    {
     "name": "stdout",
     "output_type": "stream",
     "text": [
      "The adverse drug reaction associated with the use of exemestane and letrozole is swollen stiff fingers, locking of the little finger, soreness in the right hand, difficulty with hand movement, and reliance on a walking stick.\n",
      "Processing with text only...\n"
     ]
    },
    {
     "name": "stderr",
     "output_type": "stream",
     "text": [
      " 75%|███████▍  | 224/300 [15:03<05:21,  4.23s/it]"
     ]
    },
    {
     "name": "stdout",
     "output_type": "stream",
     "text": [
      "The adverse drug reaction associated with Letrozole and Domperidone is dry cough, wheezing, bad throat, and severe nausea.\n",
      "Processing with text only...\n"
     ]
    },
    {
     "name": "stderr",
     "output_type": "stream",
     "text": [
      " 75%|███████▌  | 225/300 [15:06<04:57,  3.96s/it]"
     ]
    },
    {
     "name": "stdout",
     "output_type": "stream",
     "text": [
      "The adverse reaction associated with Letrozol, omeprazole, calcium, and blood pressure tablets is dry cough.\n",
      "Processing with text only...\n"
     ]
    },
    {
     "name": "stderr",
     "output_type": "stream",
     "text": [
      " 75%|███████▌  | 226/300 [15:08<04:07,  3.34s/it]"
     ]
    },
    {
     "name": "stdout",
     "output_type": "stream",
     "text": [
      "The adverse drug reaction associated with Ramipril is dry cough.\n",
      "Processing with text only...\n"
     ]
    },
    {
     "name": "stderr",
     "output_type": "stream",
     "text": [
      " 76%|███████▌  | 227/300 [15:13<04:34,  3.76s/it]"
     ]
    },
    {
     "name": "stdout",
     "output_type": "stream",
     "text": [
      "The adverse reaction associated with letrozole and anastrozole includes joint pain, bone pain, muscle pain, and stiffness in legs, knees, hips, and thighs.\n",
      "Processing with text only...\n"
     ]
    },
    {
     "name": "stderr",
     "output_type": "stream",
     "text": [
      " 76%|███████▌  | 228/300 [15:16<04:09,  3.46s/it]"
     ]
    },
    {
     "name": "stdout",
     "output_type": "stream",
     "text": [
      "Tamoxifen can cause adverse effects such as bone pain, joint pain, and jaw aches.\n",
      "Processing with text only...\n"
     ]
    },
    {
     "name": "stderr",
     "output_type": "stream",
     "text": [
      " 76%|███████▋  | 229/300 [15:18<03:40,  3.10s/it]"
     ]
    },
    {
     "name": "stdout",
     "output_type": "stream",
     "text": [
      "The adverse reaction associated with Tamoxifen is aching jaw and joint pain.\n",
      "Processing with text only...\n"
     ]
    },
    {
     "name": "stderr",
     "output_type": "stream",
     "text": [
      " 77%|███████▋  | 230/300 [15:22<03:59,  3.42s/it]"
     ]
    },
    {
     "name": "stdout",
     "output_type": "stream",
     "text": [
      "The adverse reaction associated with Keytruda is higher than normal temperatures, joint aches, itching, appetite loss, and minor pain on the right side.\n",
      "Processing with text only...\n"
     ]
    },
    {
     "name": "stderr",
     "output_type": "stream",
     "text": [
      " 77%|███████▋  | 231/300 [15:24<03:26,  2.99s/it]"
     ]
    },
    {
     "name": "stdout",
     "output_type": "stream",
     "text": [
      "The adverse reaction associated with pembrozilumab is headache.\n",
      "Processing with text only...\n"
     ]
    },
    {
     "name": "stderr",
     "output_type": "stream",
     "text": [
      " 77%|███████▋  | 232/300 [15:29<03:50,  3.39s/it]"
     ]
    },
    {
     "name": "stdout",
     "output_type": "stream",
     "text": [
      "The adverse reactions reported with the drug Pembrolizumab (also known as Kettruda) include loss of appetite, tiredness, and itchiness.\n",
      "Processing with text only...\n"
     ]
    },
    {
     "name": "stderr",
     "output_type": "stream",
     "text": [
      " 78%|███████▊  | 234/300 [15:33<03:01,  2.75s/it]"
     ]
    },
    {
     "name": "stdout",
     "output_type": "stream",
     "text": [
      "The adverse drug reactions associated with aspirin and tamoxifen include sweating, hot flushes, lightheadedness, and faintness.\n",
      "Processing with text and images...\n"
     ]
    },
    {
     "name": "stderr",
     "output_type": "stream",
     "text": [
      " 79%|███████▉  | 238/300 [15:39<02:08,  2.08s/it]"
     ]
    },
    {
     "name": "stdout",
     "output_type": "stream",
     "text": [
      "The image shows a head with a receding hairline, which could be related to adverse effects of antibiotic use such as infection, fluid build-up, hot and inflamed breasts, and menopausal flushes.\n",
      "Processing with text only...\n"
     ]
    },
    {
     "name": "stderr",
     "output_type": "stream",
     "text": [
      " 80%|███████▉  | 239/300 [15:44<02:36,  2.56s/it]"
     ]
    },
    {
     "name": "stdout",
     "output_type": "stream",
     "text": [
      "Afatinib and Osimertinib are associated with adverse drug reactions including rash, hair changes characterized by thicker and curlier patches, constipation, and decreased running performance.\n",
      "Processing with text only...\n"
     ]
    },
    {
     "name": "stderr",
     "output_type": "stream",
     "text": [
      " 80%|████████  | 240/300 [15:48<02:47,  2.80s/it]"
     ]
    },
    {
     "name": "stdout",
     "output_type": "stream",
     "text": [
      "The adverse drug reactions associated with Pembro and steroid treatment include fever, pneumonitis, diarrhea, loss of appetite, and weakness.\n",
      "Processing with text only...\n"
     ]
    },
    {
     "name": "stderr",
     "output_type": "stream",
     "text": [
      " 80%|████████  | 241/300 [15:53<03:21,  3.42s/it]"
     ]
    },
    {
     "name": "stdout",
     "output_type": "stream",
     "text": [
      "The adverse drug reactions associated with Tamoxifen and Letrozole include foggy head, headache, disorientation, loss of balance, extreme bone pain, muscle pain, vaginal dryness, and itchiness.\n",
      "Processing with text only...\n"
     ]
    },
    {
     "name": "stderr",
     "output_type": "stream",
     "text": [
      " 81%|████████  | 242/300 [15:56<03:04,  3.18s/it]"
     ]
    },
    {
     "name": "stdout",
     "output_type": "stream",
     "text": [
      "The adverse reaction associated with Sutent is tiredness and pain from tumours.\n",
      "Processing with text only...\n"
     ]
    },
    {
     "name": "stderr",
     "output_type": "stream",
     "text": [
      " 81%|████████  | 243/300 [15:59<02:56,  3.09s/it]"
     ]
    },
    {
     "name": "stdout",
     "output_type": "stream",
     "text": [
      "The adverse physical effects associated with Sorafenib include nausea, diarrhoea, and constipation.\n",
      "Processing with text only...\n"
     ]
    },
    {
     "name": "stderr",
     "output_type": "stream",
     "text": [
      " 81%|████████▏ | 244/300 [16:01<02:41,  2.88s/it]"
     ]
    },
    {
     "name": "stdout",
     "output_type": "stream",
     "text": [
      "The adverse drug reaction associated with sorafenib is nausea and diarrhoea.\n",
      "Processing with text only...\n"
     ]
    },
    {
     "name": "stderr",
     "output_type": "stream",
     "text": [
      " 82%|████████▏ | 245/300 [16:04<02:44,  2.99s/it]"
     ]
    },
    {
     "name": "stdout",
     "output_type": "stream",
     "text": [
      "The adverse drug reaction associated with durvalumab includes tiredness, psoriasis, chest pain, and cough.\n",
      "Processing with text only...\n"
     ]
    },
    {
     "name": "stderr",
     "output_type": "stream",
     "text": [
      " 82%|████████▏ | 246/300 [16:07<02:33,  2.84s/it]"
     ]
    },
    {
     "name": "stdout",
     "output_type": "stream",
     "text": [
      "The adverse reaction associated with both Tamoxifen and HRT is achy joints.\n",
      "Processing with text only...\n"
     ]
    },
    {
     "name": "stderr",
     "output_type": "stream",
     "text": [
      " 82%|████████▏ | 247/300 [16:12<03:16,  3.71s/it]"
     ]
    },
    {
     "name": "stdout",
     "output_type": "stream",
     "text": [
      "The adverse drug reactions associated with Anastrozole, Adcal D3, exemestane, and alendronic acid include height loss, back pain, hip pain, hand aches, and aching joints.\n",
      "Processing with text only...\n"
     ]
    },
    {
     "name": "stderr",
     "output_type": "stream",
     "text": [
      " 83%|████████▎ | 249/300 [16:17<02:35,  3.04s/it]"
     ]
    },
    {
     "name": "stdout",
     "output_type": "stream",
     "text": [
      "The adverse reaction associated with Tagrisso, Osimertinib, Gefitinib, and Iressa is severe lack of appetite and problems with nails.\n",
      "Processing with text only...\n"
     ]
    },
    {
     "name": "stderr",
     "output_type": "stream",
     "text": [
      " 83%|████████▎ | 250/300 [16:24<03:25,  4.11s/it]"
     ]
    },
    {
     "name": "stdout",
     "output_type": "stream",
     "text": [
      "The image depicts a list of adverse effects associated with Tagrisso, Loperamide, and paracetamol, which include bouts of diarrhea, frequent nausea, loss of appetite, bad taste in the mouth, hair loss, broken fingernails, and tiredness.\n",
      "Processing with text only...\n"
     ]
    },
    {
     "name": "stderr",
     "output_type": "stream",
     "text": [
      " 84%|████████▍ | 253/300 [16:26<01:49,  2.33s/it]"
     ]
    },
    {
     "name": "stdout",
     "output_type": "stream",
     "text": [
      "The adverse reaction associated with the drug prembo is joint pain.\n",
      "Processing with text only...\n"
     ]
    },
    {
     "name": "stderr",
     "output_type": "stream",
     "text": [
      " 85%|████████▍ | 254/300 [16:31<02:09,  2.81s/it]"
     ]
    },
    {
     "name": "stdout",
     "output_type": "stream",
     "text": [
      "The adverse reaction reported was disturbing itch on skin associated with the use of the drug pembrolizumab, also known as Keytruda, and epacadostat.\n",
      "Processing with text only...\n"
     ]
    },
    {
     "name": "stderr",
     "output_type": "stream",
     "text": [
      " 85%|████████▌ | 255/300 [16:36<02:29,  3.32s/it]"
     ]
    },
    {
     "name": "stdout",
     "output_type": "stream",
     "text": [
      "The adverse drug reaction associated with Dab is characterized by severe rigors, body temperatures reaching 40 degrees Celsius, flu-like symptoms, constant nausea, and uncontrollable shaking episodes.\n",
      "Processing with text only...\n"
     ]
    },
    {
     "name": "stderr",
     "output_type": "stream",
     "text": [
      " 85%|████████▌ | 256/300 [16:40<02:32,  3.47s/it]"
     ]
    },
    {
     "name": "stdout",
     "output_type": "stream",
     "text": [
      "The patient experienced facial hair that was completely white and noted severe oral dryness and sores after being treated with Votrient and morphine.\n",
      "Processing with text only...\n"
     ]
    },
    {
     "name": "stderr",
     "output_type": "stream",
     "text": [
      " 86%|████████▌ | 257/300 [16:44<02:37,  3.65s/it]"
     ]
    },
    {
     "name": "stdout",
     "output_type": "stream",
     "text": [
      "The adverse drug reactions associated with Kadcyla, Herceptin, and Perjeta include tiredness, muscle pain, bone pain, and nails lifting.\n",
      "Processing with text and images...\n"
     ]
    },
    {
     "name": "stderr",
     "output_type": "stream",
     "text": [
      " 86%|████████▌ | 258/300 [16:55<03:51,  5.51s/it]"
     ]
    },
    {
     "name": "stdout",
     "output_type": "stream",
     "text": [
      "The images depict various physical adverse effects observed in patients receiving treatment with drugs such as Kadcyla, docetaxel, Herceptin, Perjeta, and denosumab, which include symptoms like tiredness, muscle pain, joint pain, and neuropathy. The photographs show skin discoloration on the arms and legs, and a rash on the abdomen.\n",
      "Processing with text only...\n"
     ]
    },
    {
     "name": "stderr",
     "output_type": "stream",
     "text": [
      " 86%|████████▋ | 259/300 [16:57<03:10,  4.65s/it]"
     ]
    },
    {
     "name": "stdout",
     "output_type": "stream",
     "text": [
      "Niraparib has been reported to cause adverse reactions including nausea and fatigue.\n",
      "Processing with text only...\n"
     ]
    },
    {
     "name": "stderr",
     "output_type": "stream",
     "text": [
      " 87%|████████▋ | 260/300 [17:03<03:18,  4.97s/it]"
     ]
    },
    {
     "name": "stdout",
     "output_type": "stream",
     "text": [
      "The adverse reaction of painful hands has been associated with the use of the drug Letrozole, marketed under the brand name Accord by Cipla, Activis, Teva, Manx, and Femera.\n",
      "Processing with text only...\n"
     ]
    },
    {
     "name": "stderr",
     "output_type": "stream",
     "text": [
      " 87%|████████▋ | 262/300 [17:06<02:09,  3.41s/it]"
     ]
    },
    {
     "name": "stdout",
     "output_type": "stream",
     "text": [
      "The adverse drug reaction associated with Alectinib includes fatigue, skin irritation, and minor constipation.\n",
      "Processing with text only...\n"
     ]
    },
    {
     "name": "stderr",
     "output_type": "stream",
     "text": [
      " 88%|████████▊ | 263/300 [17:08<01:54,  3.09s/it]"
     ]
    },
    {
     "name": "stdout",
     "output_type": "stream",
     "text": [
      "The adverse drug reaction associated with Alectinib is constipation.\n",
      "Processing with text only...\n"
     ]
    },
    {
     "name": "stderr",
     "output_type": "stream",
     "text": [
      " 88%|████████▊ | 264/300 [17:11<01:46,  2.97s/it]"
     ]
    },
    {
     "name": "stdout",
     "output_type": "stream",
     "text": [
      "The adverse reaction associated with Alectinib and milk of magnesia is constipation.\n",
      "Processing with text only...\n"
     ]
    },
    {
     "name": "stderr",
     "output_type": "stream",
     "text": [
      " 88%|████████▊ | 265/300 [17:13<01:38,  2.82s/it]"
     ]
    },
    {
     "name": "stdout",
     "output_type": "stream",
     "text": [
      "The adverse reaction associated with Tecentriq is dry mouth and loss of taste.\n",
      "Processing with text and images...\n"
     ]
    },
    {
     "name": "stderr",
     "output_type": "stream",
     "text": [
      " 89%|████████▉ | 267/300 [17:16<01:16,  2.33s/it]"
     ]
    },
    {
     "name": "stdout",
     "output_type": "stream",
     "text": [
      "The adverse reaction associated with Aldara includes inflammation, burning, itching, flu-like symptoms, headache, and diarrhea.\n",
      "Processing with text only...\n"
     ]
    },
    {
     "name": "stderr",
     "output_type": "stream",
     "text": [
      " 89%|████████▉ | 268/300 [17:21<01:30,  2.84s/it]"
     ]
    },
    {
     "name": "stdout",
     "output_type": "stream",
     "text": [
      "The adverse reactions reported for the drugs Carboplatin, Ondansetron, Domperidone, and Dulcolax include metallic taste and constipation.\n",
      "Processing with text only...\n"
     ]
    },
    {
     "name": "stderr",
     "output_type": "stream",
     "text": [
      " 90%|████████▉ | 269/300 [17:24<01:25,  2.76s/it]"
     ]
    },
    {
     "name": "stdout",
     "output_type": "stream",
     "text": [
      "Aldara cream has been reported to cause flu-like symptoms as a physical adverse reaction.\n",
      "Processing with text only...\n"
     ]
    },
    {
     "name": "stderr",
     "output_type": "stream",
     "text": [
      " 90%|█████████ | 270/300 [17:27<01:25,  2.85s/it]"
     ]
    },
    {
     "name": "stdout",
     "output_type": "stream",
     "text": [
      "The adverse drug reaction associated with Femara and Letrozole is severe pain in the hands and general stiffness.\n",
      "Processing with text and images...\n"
     ]
    },
    {
     "name": "stderr",
     "output_type": "stream",
     "text": [
      " 90%|█████████ | 271/300 [17:31<01:32,  3.18s/it]"
     ]
    },
    {
     "name": "stdout",
     "output_type": "stream",
     "text": [
      "The patient experienced fatigue, knee pain, pain on sitting down, and a dripping nose after taking Femara or letrozole.\n",
      "Processing with text only...\n"
     ]
    },
    {
     "name": "stderr",
     "output_type": "stream",
     "text": [
      " 91%|█████████ | 272/300 [17:36<01:42,  3.66s/it]"
     ]
    },
    {
     "name": "stdout",
     "output_type": "stream",
     "text": [
      "The adverse reactions associated with Femara, glucosamine, cod liver oil, and vitamin D may manifest as aches and pains, specifically affecting the sitting bones and sacrum.\n",
      "Processing with text only...\n"
     ]
    },
    {
     "name": "stderr",
     "output_type": "stream",
     "text": [
      " 91%|█████████ | 273/300 [17:38<01:27,  3.26s/it]"
     ]
    },
    {
     "name": "stdout",
     "output_type": "stream",
     "text": [
      "The adverse drug reaction associated with Femara and Letrozole is joint pain.\n",
      "Processing with text only...\n"
     ]
    },
    {
     "name": "stderr",
     "output_type": "stream",
     "text": [
      " 91%|█████████▏| 274/300 [17:40<01:19,  3.07s/it]"
     ]
    },
    {
     "name": "stdout",
     "output_type": "stream",
     "text": [
      "The adverse drug reaction associated with Zolendronic Acid is tiredness and aches.\n",
      "Processing with text only...\n"
     ]
    },
    {
     "name": "stderr",
     "output_type": "stream",
     "text": [
      " 92%|█████████▏| 275/300 [17:43<01:16,  3.05s/it]"
     ]
    },
    {
     "name": "stdout",
     "output_type": "stream",
     "text": [
      "The adverse drug reactions associated with Letrozole and Sertraline are hot flushes and tender breasts.\n",
      "Processing with text only...\n"
     ]
    },
    {
     "name": "stderr",
     "output_type": "stream",
     "text": [
      " 92%|█████████▏| 276/300 [17:47<01:16,  3.19s/it]"
     ]
    },
    {
     "name": "stdout",
     "output_type": "stream",
     "text": [
      "The adverse reactions associated with Letrozole and Sertraline include trigger thumbs and aches and pains in the breast area.\n",
      "Processing with text only...\n"
     ]
    },
    {
     "name": "stderr",
     "output_type": "stream",
     "text": [
      " 92%|█████████▏| 277/300 [17:51<01:22,  3.57s/it]"
     ]
    },
    {
     "name": "stdout",
     "output_type": "stream",
     "text": [
      "The adverse drug reaction associated with Anastrozole, Exemestane, and Everolimus is sore mouth and dry mouth, accompanied by mild stomach upset.\n",
      "Processing with text only...\n"
     ]
    },
    {
     "name": "stderr",
     "output_type": "stream",
     "text": [
      " 93%|█████████▎| 278/300 [17:54<01:09,  3.18s/it]"
     ]
    },
    {
     "name": "stdout",
     "output_type": "stream",
     "text": [
      "The adverse drug reaction associated with Palbociclib is hair thinning.\n",
      "Processing with text only...\n"
     ]
    },
    {
     "name": "stderr",
     "output_type": "stream",
     "text": [
      " 93%|█████████▎| 279/300 [17:56<01:02,  2.99s/it]"
     ]
    },
    {
     "name": "stdout",
     "output_type": "stream",
     "text": [
      "Palbo was associated with adverse drug reactions manifesting as hair snapping off and thinning.\n",
      "Processing with text only...\n"
     ]
    },
    {
     "name": "stderr",
     "output_type": "stream",
     "text": [
      " 93%|█████████▎| 280/300 [17:59<00:56,  2.80s/it]"
     ]
    },
    {
     "name": "stdout",
     "output_type": "stream",
     "text": [
      "The adverse reaction associated with Palbo is thinning hair and reduced ponytail thickness.\n",
      "Processing with text only...\n"
     ]
    },
    {
     "name": "stderr",
     "output_type": "stream",
     "text": [
      " 94%|█████████▍| 282/300 [18:03<00:45,  2.55s/it]"
     ]
    },
    {
     "name": "stdout",
     "output_type": "stream",
     "text": [
      "The adverse drug reaction associated with zopiclone includes giddiness, fatigue, nausea, coughing, sweating, and a dull ache in the upper abdomen.\n",
      "Processing with text only...\n"
     ]
    },
    {
     "name": "stderr",
     "output_type": "stream",
     "text": [
      " 94%|█████████▍| 283/300 [18:05<00:40,  2.39s/it]"
     ]
    },
    {
     "name": "stdout",
     "output_type": "stream",
     "text": [
      "The adverse reaction associated with zopiclone is tiredness.\n",
      "Processing with text only...\n"
     ]
    },
    {
     "name": "stderr",
     "output_type": "stream",
     "text": [
      " 95%|█████████▍| 284/300 [18:12<00:56,  3.54s/it]"
     ]
    },
    {
     "name": "stdout",
     "output_type": "stream",
     "text": [
      "The adverse reactions associated with paracetamol, morphine, codeine, ibuprofen, and tramadol include pain below the ribs, night sweats, headaches, migraines, gasiness, and discomfort at the site of an incision.\n",
      "Processing with text only...\n"
     ]
    },
    {
     "name": "stderr",
     "output_type": "stream",
     "text": [
      " 95%|█████████▌| 285/300 [18:18<01:04,  4.30s/it]"
     ]
    },
    {
     "name": "stdout",
     "output_type": "stream",
     "text": [
      "The patient experienced adverse effects following the use of Sando, Lanreotide, and various anti-nausea medications, manifesting as dreadful nausea, headaches, a runny nose, and the need to be close to a toilet.\n",
      "Processing with text only...\n"
     ]
    },
    {
     "name": "stderr",
     "output_type": "stream",
     "text": [
      " 95%|█████████▌| 286/300 [18:21<00:55,  3.94s/it]"
     ]
    },
    {
     "name": "stdout",
     "output_type": "stream",
     "text": [
      "The patient experienced hair loss as an adverse reaction to pembro, interferon, and thyroxine treatment.\n",
      "Processing with text only...\n"
     ]
    },
    {
     "name": "stderr",
     "output_type": "stream",
     "text": [
      " 96%|█████████▌| 287/300 [18:25<00:49,  3.79s/it]"
     ]
    },
    {
     "name": "stdout",
     "output_type": "stream",
     "text": [
      "The adverse reaction observed after the use of Pembro is an all-over body rash, without freckles affecting the skin.\n",
      "Processing with text only...\n"
     ]
    },
    {
     "name": "stderr",
     "output_type": "stream",
     "text": [
      " 96%|█████████▌| 288/300 [18:27<00:40,  3.35s/it]"
     ]
    },
    {
     "name": "stdout",
     "output_type": "stream",
     "text": [
      "The adverse drug reaction associated with Pembrolizumab is muscle soreness.\n",
      "Processing with text only...\n"
     ]
    },
    {
     "name": "stderr",
     "output_type": "stream",
     "text": [
      " 96%|█████████▋| 289/300 [18:30<00:35,  3.23s/it]"
     ]
    },
    {
     "name": "stdout",
     "output_type": "stream",
     "text": [
      "The adverse reaction associated with ixazomib, Revlimid, and Dex is intestinal side effects.\n",
      "Processing with text only...\n"
     ]
    },
    {
     "name": "stderr",
     "output_type": "stream",
     "text": [
      " 97%|█████████▋| 290/300 [18:33<00:32,  3.25s/it]"
     ]
    },
    {
     "name": "stdout",
     "output_type": "stream",
     "text": [
      "The adverse drug reaction associated with Nivolumab (Opdivo) and steroids is breathlessness and tiredness.\n",
      "Processing with text only...\n"
     ]
    },
    {
     "name": "stderr",
     "output_type": "stream",
     "text": [
      " 97%|█████████▋| 291/300 [18:38<00:32,  3.65s/it]"
     ]
    },
    {
     "name": "stdout",
     "output_type": "stream",
     "text": [
      "The adverse drug reaction associated with Letrozole, Arimidex, Exemestane, Tamoxifen, and Femara includes stiffness, ache, and headaches.\n",
      "Processing with text and images...\n"
     ]
    },
    {
     "name": "stderr",
     "output_type": "stream",
     "text": [
      " 97%|█████████▋| 292/300 [18:46<00:39,  4.93s/it]"
     ]
    },
    {
     "name": "stdout",
     "output_type": "stream",
     "text": [
      "The images show various adverse physical effects experienced by a patient treated with cabozantinib, including cuts on the feet, swollen feet, skin on the legs turning to leather and cracking, swollen legs, red raw and bleeding skin on the buttocks and crack, and sore mouth.\n",
      "Processing with text only...\n"
     ]
    },
    {
     "name": "stderr",
     "output_type": "stream",
     "text": [
      " 98%|█████████▊| 293/300 [18:48<00:28,  4.06s/it]"
     ]
    },
    {
     "name": "stdout",
     "output_type": "stream",
     "text": [
      "The adverse drug reaction associated with cabozantinib is vomiting.\n",
      "Processing with text and images...\n"
     ]
    },
    {
     "name": "stderr",
     "output_type": "stream",
     "text": [
      " 98%|█████████▊| 294/300 [18:56<00:32,  5.34s/it]"
     ]
    },
    {
     "name": "stdout",
     "output_type": "stream",
     "text": [
      "The image depicts a close-up of a person's mouth, where the lower gum is visibly inflamed, possibly due to adverse reactions to drugs like lactulose, diprobase, or Aveeno, which can cause physical effects such as constipation, nausea, or burns on the neck.\n",
      "Processing with text only...\n"
     ]
    },
    {
     "name": "stderr",
     "output_type": "stream",
     "text": [
      " 98%|█████████▊| 295/300 [19:00<00:25,  5.08s/it]"
     ]
    },
    {
     "name": "stdout",
     "output_type": "stream",
     "text": [
      "The adverse drug reaction associated with MST, metoclopramide, lactulose, senna, diprobase, and betnovate is Constipation.\n",
      "Processing with text only...\n"
     ]
    },
    {
     "name": "stderr",
     "output_type": "stream",
     "text": [
      " 99%|█████████▊| 296/300 [19:03<00:17,  4.27s/it]"
     ]
    },
    {
     "name": "stdout",
     "output_type": "stream",
     "text": [
      "The adverse drug reaction associated with both carboplatin and taxel is hair loss.\n",
      "Processing with text only...\n"
     ]
    },
    {
     "name": "stderr",
     "output_type": "stream",
     "text": [
      " 99%|█████████▉| 297/300 [19:05<00:10,  3.52s/it]"
     ]
    },
    {
     "name": "stdout",
     "output_type": "stream",
     "text": [
      "The patient experienced hair loss after using carb and taxol.\n",
      "Processing with text only...\n"
     ]
    },
    {
     "name": "stderr",
     "output_type": "stream",
     "text": [
      " 99%|█████████▉| 298/300 [19:07<00:06,  3.22s/it]"
     ]
    },
    {
     "name": "stdout",
     "output_type": "stream",
     "text": [
      "The adverse reaction associated with taxol is leg pain, numb fingers, and numb toes.\n",
      "Processing with text only...\n"
     ]
    },
    {
     "name": "stderr",
     "output_type": "stream",
     "text": [
      "100%|█████████▉| 299/300 [19:09<00:02,  2.97s/it]"
     ]
    },
    {
     "name": "stdout",
     "output_type": "stream",
     "text": [
      "The adverse reaction associated with Co-codamol is discomfort in the lower abdomen.\n",
      "Processing with text only...\n"
     ]
    },
    {
     "name": "stderr",
     "output_type": "stream",
     "text": [
      "100%|██████████| 300/300 [19:15<00:00,  3.85s/it]"
     ]
    },
    {
     "name": "stdout",
     "output_type": "stream",
     "text": [
      "The adverse drug reactions associated with Cape and morphine include pain in the scar area, fatigue, dry mouth, indigestion, constipation, muscle weakness in legs, and dizziness.\n"
     ]
    },
    {
     "name": "stderr",
     "output_type": "stream",
     "text": [
      "\n"
     ]
    }
   ],
   "source": [
    "from tqdm import tqdm \n",
    "\n",
    "df_val['VL_qwen_phy_sum_grpo_ckpt_75_bs_4'] = ''\n",
    "\n",
    "\n",
    "for index in tqdm(range(0, len(dataset))):\n",
    "    sample = dataset[index]\n",
    "    if sample['phy_prompt'] == '' :\n",
    "        continue   \n",
    "    response = generate_response(sample, prompt_type = 'phy_prompt', temperature = 1.0)\n",
    "    print(response)\n",
    "    df_val.at[index , 'VL_qwen_phy_sum_grpo_ckpt_75_bs_4'] = response"
   ]
  },
  {
   "cell_type": "code",
   "execution_count": 38,
   "metadata": {},
   "outputs": [
    {
     "name": "stderr",
     "output_type": "stream",
     "text": [
      "  0%|          | 0/300 [00:00<?, ?it/s]"
     ]
    },
    {
     "name": "stdout",
     "output_type": "stream",
     "text": [
      "Processing with text only...\n"
     ]
    },
    {
     "name": "stderr",
     "output_type": "stream",
     "text": [
      "  0%|          | 1/300 [00:04<22:25,  4.50s/it]"
     ]
    },
    {
     "name": "stdout",
     "output_type": "stream",
     "text": [
      "Xeloda is associated with a significant adverse drug reaction known as Hand Foot Syndrome, which can manifest as symptoms affecting the skin of the hands and feet, potentially impacting patients' quality of life.\n",
      "Processing with text only...\n"
     ]
    },
    {
     "name": "stderr",
     "output_type": "stream",
     "text": [
      "  1%|          | 2/300 [00:09<23:02,  4.64s/it]"
     ]
    },
    {
     "name": "stdout",
     "output_type": "stream",
     "text": [
      "The drugs Xeloda, Ibuprophen, Voltaren, Ibrance, Xegeva, and Immpower are associated with various adverse physical effects such as bone pain, rib pain, back pain, nausea, and sensitivity to stomach irritation.\n",
      "Processing with text only...\n"
     ]
    },
    {
     "name": "stderr",
     "output_type": "stream",
     "text": [
      "  1%|          | 3/300 [00:11<16:55,  3.42s/it]"
     ]
    },
    {
     "name": "stdout",
     "output_type": "stream",
     "text": [
      "Tamoxifen and aromatase inhibitors can lead to severe bone pain and bleeding as common adverse effects.\n",
      "Processing with text only...\n"
     ]
    },
    {
     "name": "stderr",
     "output_type": "stream",
     "text": [
      "  2%|▏         | 5/300 [00:13<09:59,  2.03s/it]"
     ]
    },
    {
     "name": "stdout",
     "output_type": "stream",
     "text": [
      "Eligard, Lupron, and testosterone can cause hot flashes as a side effect of their use.\n",
      "Processing with text only...\n"
     ]
    },
    {
     "name": "stderr",
     "output_type": "stream",
     "text": [
      "  2%|▏         | 6/300 [00:20<17:24,  3.55s/it]"
     ]
    },
    {
     "name": "stdout",
     "output_type": "stream",
     "text": [
      "Percoset and Taxotere can cause various adverse effects, including swelling in the legs and ankles, numbness in the feet, loss of feeling in the fingers and left side of the face, nausea, uncontrollable diarrhea, hair loss (resulting in bald patches), and falling off of toenails and fingernails. Additionally, these drugs may lead to stomach problems and watery eyes.\n",
      "Processing with text only...\n"
     ]
    },
    {
     "name": "stderr",
     "output_type": "stream",
     "text": [
      "  2%|▏         | 7/300 [00:26<20:51,  4.27s/it]"
     ]
    },
    {
     "name": "stdout",
     "output_type": "stream",
     "text": [
      "Eligard, Casodex, Zoladex, Cyproterone, Abiraterone acetate, MDV3100, Ketoconazole, and Fosamax are medications with various pharmacological actions; however, all of them share the potential adverse effect of bone loss as a physical reaction.\n",
      "Processing with text only...\n"
     ]
    },
    {
     "name": "stderr",
     "output_type": "stream",
     "text": [
      "  3%|▎         | 8/300 [00:28<17:46,  3.65s/it]"
     ]
    },
    {
     "name": "stdout",
     "output_type": "stream",
     "text": [
      "Augmentin can cause adverse effects such as diarrhea and significant weight loss, reaching up to 25 pounds.\n",
      "Processing with text and images...\n"
     ]
    },
    {
     "name": "stderr",
     "output_type": "stream",
     "text": [
      "  4%|▍         | 12/300 [00:33<10:11,  2.12s/it]"
     ]
    },
    {
     "name": "stdout",
     "output_type": "stream",
     "text": [
      "A patient using antibiotics and Aquaphor has experienced hoarseness, a swollen throat, neck burns, and significant weight loss of 75 pounds, necessitating the insertion of a feeding tube due to severe adverse reactions.\n",
      "Processing with text only...\n"
     ]
    },
    {
     "name": "stderr",
     "output_type": "stream",
     "text": [
      "  4%|▍         | 13/300 [00:35<10:19,  2.16s/it]"
     ]
    },
    {
     "name": "stdout",
     "output_type": "stream",
     "text": [
      "Effexor is associated with a physical adverse effect that includes a craniotomy scar, indicating potential complications following surgery.\n",
      "Processing with text only...\n"
     ]
    },
    {
     "name": "stderr",
     "output_type": "stream",
     "text": [
      "  5%|▍         | 14/300 [00:38<11:17,  2.37s/it]"
     ]
    },
    {
     "name": "stdout",
     "output_type": "stream",
     "text": [
      "Cisplatin, Epirubicin, and 5-FU can cause severe adverse effects including mouth sores, dehydration, and in some cases, dumping syndrome.\n",
      "Processing with text only...\n"
     ]
    },
    {
     "name": "stderr",
     "output_type": "stream",
     "text": [
      "  5%|▌         | 15/300 [00:41<10:54,  2.30s/it]"
     ]
    },
    {
     "name": "stdout",
     "output_type": "stream",
     "text": [
      "Erbitux may cause acne-like skin reactions and can exacerbate pain experienced from a tonsillectomy.\n",
      "Processing with text only...\n"
     ]
    },
    {
     "name": "stderr",
     "output_type": "stream",
     "text": [
      "  5%|▌         | 16/300 [00:42<09:50,  2.08s/it]"
     ]
    },
    {
     "name": "stdout",
     "output_type": "stream",
     "text": [
      "Hormone therapy and chemotherapy may result in significant pain as adverse effects.\n",
      "Processing with text only...\n"
     ]
    },
    {
     "name": "stderr",
     "output_type": "stream",
     "text": [
      "  6%|▌         | 17/300 [00:45<10:32,  2.24s/it]"
     ]
    },
    {
     "name": "stdout",
     "output_type": "stream",
     "text": [
      "Carboplatin and Taxol may cause adverse reactions including groin pain, a small nodule, and slight nausea as potential side effects.\n",
      "Processing with text only...\n"
     ]
    },
    {
     "name": "stderr",
     "output_type": "stream",
     "text": [
      "  6%|▌         | 18/300 [00:49<13:10,  2.80s/it]"
     ]
    },
    {
     "name": "stdout",
     "output_type": "stream",
     "text": [
      "Avastin, leucovorin, fluorouracil, oxy, and regofenib can cause adverse reactions including pain, significant weight loss (as much as 110 pounds), and difficulties with eating properly.\n",
      "Processing with text only...\n"
     ]
    },
    {
     "name": "stderr",
     "output_type": "stream",
     "text": [
      "  7%|▋         | 20/300 [00:58<16:56,  3.63s/it]"
     ]
    },
    {
     "name": "stdout",
     "output_type": "stream",
     "text": [
      "Rotuxin, a treatment for certain types of cancer, can lead to serious side effects including congestive heart failure, damaged heart, chronic and severe arrhythmias, as well as early osteoarthritis and fibromyalgia, along with symptoms like fatigue and nerve damage. Morphine, commonly used for pain relief, may cause physical adverse effects such as congestive heart failure, damaged heart, chronic and severe arrhythmias, early osteoarthritis, fibromyalgia, fatigue, and nerve damage.\n",
      "Processing with text and images...\n"
     ]
    },
    {
     "name": "stderr",
     "output_type": "stream",
     "text": [
      "  7%|▋         | 22/300 [01:08<19:16,  4.16s/it]"
     ]
    },
    {
     "name": "stdout",
     "output_type": "stream",
     "text": [
      "Cisplatin can cause side effects such as tinnitus, mucositis, sore throat, nausea, vomiting, mouth sores, dry mouth, changes in taste, and exterior burns. Viscous lidocaine may lead to adverse effects like bloating, night cramps, and constipation. Sucralfate might result in dry mouth and changes in taste. Gelclair can contribute to sore throat and dry mouth. Nivolumab can cause tinnitus, mouth sores, changes in taste, and dry mouth.\n",
      "Processing with text and images...\n"
     ]
    },
    {
     "name": "stderr",
     "output_type": "stream",
     "text": [
      "  8%|▊         | 24/300 [01:12<15:23,  3.35s/it]"
     ]
    },
    {
     "name": "stdout",
     "output_type": "stream",
     "text": [
      "Carboplatin and Paclitaxel (Taxol) can cause various adverse physical effects, including fatigue, pain from road bumps post-surgery, infection, and delayed wound healing.\n",
      "Processing with text only...\n"
     ]
    },
    {
     "name": "stderr",
     "output_type": "stream",
     "text": [
      "  8%|▊         | 25/300 [01:15<15:01,  3.28s/it]"
     ]
    },
    {
     "name": "stdout",
     "output_type": "stream",
     "text": [
      "Carboplatin, paclitaxel, decadron, neulasta, and neupogen can cause bone pain as a potential adverse drug reaction.\n",
      "Processing with text only...\n"
     ]
    },
    {
     "name": "stderr",
     "output_type": "stream",
     "text": [
      "  9%|▉         | 27/300 [01:19<12:35,  2.77s/it]"
     ]
    },
    {
     "name": "stdout",
     "output_type": "stream",
     "text": [
      "The drugs 5-FU, Xeloda (capecitabine), Cisplatin, and Epirubicin may cause infection at surgical incision sites as a potential adverse drug reaction.\n",
      "Processing with text only...\n"
     ]
    },
    {
     "name": "stderr",
     "output_type": "stream",
     "text": [
      "  9%|▉         | 28/300 [01:20<11:22,  2.51s/it]"
     ]
    },
    {
     "name": "stdout",
     "output_type": "stream",
     "text": [
      "Decadron may cause hair loss and sore ear as potential physical adverse effects.\n",
      "Processing with text only...\n"
     ]
    },
    {
     "name": "stderr",
     "output_type": "stream",
     "text": [
      " 10%|▉         | 29/300 [01:25<13:47,  3.05s/it]"
     ]
    },
    {
     "name": "stdout",
     "output_type": "stream",
     "text": [
      "Carbo (a common misspelling for Carboplatin), Gemzar (Gemcitabine), Avastin (Bevacizumab), and Miralax (Mannitol) are medications associated with various adverse effects, including fatigue among other symptoms.\n",
      "Processing with text only...\n"
     ]
    },
    {
     "name": "stderr",
     "output_type": "stream",
     "text": [
      " 10%|█         | 30/300 [01:28<12:49,  2.85s/it]"
     ]
    },
    {
     "name": "stdout",
     "output_type": "stream",
     "text": [
      "Anastrozole may cause physical adverse effects including restless leg syndrome, irritability of the bladder, and constipation.\n",
      "Processing with text only...\n"
     ]
    },
    {
     "name": "stderr",
     "output_type": "stream",
     "text": [
      " 10%|█         | 31/300 [01:31<13:38,  3.04s/it]"
     ]
    },
    {
     "name": "stdout",
     "output_type": "stream",
     "text": [
      "Paracetamol, tramadol, and oral morphine can cause various adverse effects, including waves of dizziness, flushing sensations, pressure in the ears and jaw area, and painful trapped wind.\n",
      "Processing with text only...\n"
     ]
    },
    {
     "name": "stderr",
     "output_type": "stream",
     "text": [
      " 11%|█         | 32/300 [01:33<12:13,  2.74s/it]"
     ]
    },
    {
     "name": "stdout",
     "output_type": "stream",
     "text": [
      "Tamoxifen can cause physical adverse effects such as tiredness, headaches, and hot flushes.\n",
      "Processing with text only...\n"
     ]
    },
    {
     "name": "stderr",
     "output_type": "stream",
     "text": [
      " 11%|█         | 33/300 [01:36<12:18,  2.77s/it]"
     ]
    },
    {
     "name": "stdout",
     "output_type": "stream",
     "text": [
      "StrataXRT and Flaminal Forte can cause moist desquamation, weeping radiation burns, sore burns, and pus as potential adverse effects.\n",
      "Processing with text only...\n"
     ]
    },
    {
     "name": "stderr",
     "output_type": "stream",
     "text": [
      " 11%|█▏        | 34/300 [01:38<11:53,  2.68s/it]"
     ]
    },
    {
     "name": "stdout",
     "output_type": "stream",
     "text": [
      "Cisplatin can cause numbness in fingers and toes, along with a tingling sensation and coldness in these extremities.\n",
      "Processing with text only...\n"
     ]
    },
    {
     "name": "stderr",
     "output_type": "stream",
     "text": [
      " 12%|█▏        | 35/300 [01:41<12:26,  2.82s/it]"
     ]
    },
    {
     "name": "stdout",
     "output_type": "stream",
     "text": [
      "The combination of ipilimumab and nivolumab has been associated with potential adverse effects such as a red rash, pain, itching, and burning sensations in patients.\n",
      "Processing with text only...\n"
     ]
    },
    {
     "name": "stderr",
     "output_type": "stream",
     "text": [
      " 12%|█▏        | 36/300 [01:48<16:42,  3.80s/it]"
     ]
    },
    {
     "name": "stdout",
     "output_type": "stream",
     "text": [
      "Ipilimumab and Nivolumab, both used as immunotherapy drugs, can sometimes cause adverse reactions such as red, itchy, burning rashes and a potential flare-up on the face. Additionally, the use of an antihistamine or a steroid cream like Dermol 500 lotion may help alleviate these symptoms.\n",
      "Processing with text only...\n"
     ]
    },
    {
     "name": "stderr",
     "output_type": "stream",
     "text": [
      " 12%|█▏        | 37/300 [01:49<14:03,  3.21s/it]"
     ]
    },
    {
     "name": "stdout",
     "output_type": "stream",
     "text": [
      "AVBD can cause physical adverse effects such as heartburn and a burning sensation in the chest.\n",
      "Processing with text only...\n"
     ]
    },
    {
     "name": "stderr",
     "output_type": "stream",
     "text": [
      " 13%|█▎        | 39/300 [01:55<11:44,  2.70s/it]"
     ]
    },
    {
     "name": "stdout",
     "output_type": "stream",
     "text": [
      "Paracetamol, hydrocortisone, antihistamines, steroids, omeprazole, domperidone, and Rennie can cause adverse effects such as high temperature, raised heart rate, severe body rigors, difficulty in breathing, and bad heartburn.\n",
      "Processing with text only...\n"
     ]
    },
    {
     "name": "stderr",
     "output_type": "stream",
     "text": [
      " 13%|█▎        | 40/300 [01:57<11:17,  2.61s/it]"
     ]
    },
    {
     "name": "stdout",
     "output_type": "stream",
     "text": [
      "Tamoxifen, commonly prescribed for breast cancer treatment and prevention, can lead to severe adverse effects including extreme fatigue and difficulty breathing.\n",
      "Processing with text only...\n"
     ]
    },
    {
     "name": "stderr",
     "output_type": "stream",
     "text": [
      " 14%|█▎        | 41/300 [01:59<10:36,  2.46s/it]"
     ]
    },
    {
     "name": "stdout",
     "output_type": "stream",
     "text": [
      "Loperamide, commonly known as Imodium, can cause electric shock effects and tiredness as adverse physical reactions.\n",
      "Processing with text only...\n"
     ]
    },
    {
     "name": "stderr",
     "output_type": "stream",
     "text": [
      " 14%|█▍        | 42/300 [02:01<09:46,  2.27s/it]"
     ]
    },
    {
     "name": "stdout",
     "output_type": "stream",
     "text": [
      "Zoladex is associated with physical adverse effects such as hot flushes and night sweats.\n",
      "Processing with text only...\n"
     ]
    },
    {
     "name": "stderr",
     "output_type": "stream",
     "text": [
      " 14%|█▍        | 43/300 [02:04<10:40,  2.49s/it]"
     ]
    },
    {
     "name": "stdout",
     "output_type": "stream",
     "text": [
      "Zoladex and exemestane can cause various adverse physical effects including hot flashes, night sweats, joint pain, and soreness in joints and muscles.\n",
      "Processing with text only...\n"
     ]
    },
    {
     "name": "stderr",
     "output_type": "stream",
     "text": [
      " 15%|█▍        | 44/300 [02:07<11:35,  2.72s/it]"
     ]
    },
    {
     "name": "stdout",
     "output_type": "stream",
     "text": [
      "Pembrolizumab and Nivolumab, commonly used immunotherapy drugs for various cancers, can cause adverse effects such as an all-over body rash and curly hair.\n",
      "Processing with text only...\n"
     ]
    },
    {
     "name": "stderr",
     "output_type": "stream",
     "text": [
      " 15%|█▌        | 45/300 [02:10<12:00,  2.83s/it]"
     ]
    },
    {
     "name": "stdout",
     "output_type": "stream",
     "text": [
      "Nivolumab, a widely prescribed immunotherapy agent, can sometimes cause adverse effects such as joint ache, a slight itchy rash, and vitiligo.\n",
      "Processing with text only...\n"
     ]
    },
    {
     "name": "stderr",
     "output_type": "stream",
     "text": [
      " 15%|█▌        | 46/300 [02:21<22:26,  5.30s/it]"
     ]
    },
    {
     "name": "stdout",
     "output_type": "stream",
     "text": [
      "The drug names ipilimumab and nivolumab, both immunotherapies used to treat certain cancers, can cause a range of adverse effects including an itchy rash and a skin crawling sensation, as well as more severe symptoms such as diarrhea and a loss of appetite, sometimes resulting in significant weight loss (over a stone and a half). Additionally, these immunotherapies can lead to immunotherapy-induced colitis, which may manifest as severe gastrointestinal issues. Antihistamines and oral steroids are commonly used to manage symptoms like itching and diarrhea, though they do not address the underlying conditions that cause them.\n",
      "Processing with text only...\n"
     ]
    },
    {
     "name": "stderr",
     "output_type": "stream",
     "text": [
      " 16%|█▌        | 47/300 [02:25<19:33,  4.64s/it]"
     ]
    },
    {
     "name": "stdout",
     "output_type": "stream",
     "text": [
      "EC (Epirubicin), docetaxel, and zoladex can cause mild skin and nail reactions, as well as muscle weakness and breathlessness.\n",
      "Processing with text and images...\n"
     ]
    },
    {
     "name": "stderr",
     "output_type": "stream",
     "text": [
      " 16%|█▌        | 48/300 [02:27<16:59,  4.05s/it]"
     ]
    },
    {
     "name": "stdout",
     "output_type": "stream",
     "text": [
      "A patient receiving treatment with docetaxel and steroids has experienced significant water retention leading to noticeable puffiness in their hands and feet.\n",
      "Processing with text only...\n"
     ]
    },
    {
     "name": "stderr",
     "output_type": "stream",
     "text": [
      " 16%|█▋        | 49/300 [02:30<15:17,  3.66s/it]"
     ]
    },
    {
     "name": "stdout",
     "output_type": "stream",
     "text": [
      "EC, Paclitaxel, and docetaxel may cause physical adverse effects such as hair loss, joint pain, and muscle pain.\n",
      "Processing with text only...\n"
     ]
    },
    {
     "name": "stderr",
     "output_type": "stream",
     "text": [
      " 17%|█▋        | 50/300 [02:34<15:45,  3.78s/it]"
     ]
    },
    {
     "name": "stdout",
     "output_type": "stream",
     "text": [
      "Docetaxel, Filgrastim, and Herceptin can cause various adverse effects including raised heart rate, rashes, pins and needles sensations in fingertips, loss of appetite, and a horrible taste sensation.\n",
      "Processing with text only...\n"
     ]
    },
    {
     "name": "stderr",
     "output_type": "stream",
     "text": [
      " 17%|█▋        | 51/300 [02:37<14:12,  3.43s/it]"
     ]
    },
    {
     "name": "stdout",
     "output_type": "stream",
     "text": [
      "Letrozole and Ribociclib can cause physical adverse effects including itching, skin sloughing, small bumps, and bleeding.\n",
      "Processing with text only...\n"
     ]
    },
    {
     "name": "stderr",
     "output_type": "stream",
     "text": [
      " 17%|█▋        | 52/300 [02:39<12:46,  3.09s/it]"
     ]
    },
    {
     "name": "stdout",
     "output_type": "stream",
     "text": [
      "Steroid creams and antihistamines can cause reddish skin, small lumps, and itching as potential side effects.\n",
      "Processing with text only...\n"
     ]
    },
    {
     "name": "stderr",
     "output_type": "stream",
     "text": [
      " 18%|█▊        | 53/300 [02:43<13:17,  3.23s/it]"
     ]
    },
    {
     "name": "stdout",
     "output_type": "stream",
     "text": [
      "Fexofenadine Hydrochloride can cause grogginess, Ribociclib may lead to nausea, and Letrozole might result in a thumping headache as adverse effects.\n",
      "Processing with text only...\n"
     ]
    },
    {
     "name": "stderr",
     "output_type": "stream",
     "text": [
      " 18%|█▊        | 55/300 [02:45<09:42,  2.38s/it]"
     ]
    },
    {
     "name": "stdout",
     "output_type": "stream",
     "text": [
      "The drugs Amnidex, Exmestane, and Toxamoxin may cause physical adverse effects such as swollen hands and swollen ankles.\n",
      "Processing with text only...\n"
     ]
    },
    {
     "name": "stderr",
     "output_type": "stream",
     "text": [
      " 19%|█▊        | 56/300 [02:51<13:21,  3.29s/it]"
     ]
    },
    {
     "name": "stdout",
     "output_type": "stream",
     "text": [
      "Morphine, ibuprofen, and various antibiotics can cause a range of adverse physical effects including pain, saddle anaesthesia, difficulty urinating, difficulty with bowel movements, decreased sensitivity, numbness, pins and needles, shooting pains, muscle wasting, spinal fluid leak, swelling and redness at the surgical site, and constipation.\n",
      "Processing with text only...\n"
     ]
    },
    {
     "name": "stderr",
     "output_type": "stream",
     "text": [
      " 19%|█▉        | 57/300 [02:55<13:18,  3.28s/it]"
     ]
    },
    {
     "name": "stdout",
     "output_type": "stream",
     "text": [
      "The drugs labeled as \"anti-sickness\" and \"steroids\" can cause significant adverse effects, including hair loss, severe pain in bones and joints, and terrible constipation.\n",
      "Processing with text only...\n"
     ]
    },
    {
     "name": "stderr",
     "output_type": "stream",
     "text": [
      " 19%|█▉        | 58/300 [02:58<13:47,  3.42s/it]"
     ]
    },
    {
     "name": "stdout",
     "output_type": "stream",
     "text": [
      "Zoladex and exemestane are both medications used in cancer treatment, and one of their common side effects is experiencing hot flushes, which can significantly impact the patient's quality of life during therapy.\n",
      "Processing with text and images...\n"
     ]
    },
    {
     "name": "stderr",
     "output_type": "stream",
     "text": [
      " 20%|█▉        | 59/300 [03:02<13:27,  3.35s/it]"
     ]
    },
    {
     "name": "stdout",
     "output_type": "stream",
     "text": [
      "Zoladex, Exemestane, and Sage Tablets may cause hot flushes, night sweats, stiffness, and soreness as potential side effects.\n",
      "Processing with text and images...\n"
     ]
    },
    {
     "name": "stderr",
     "output_type": "stream",
     "text": [
      " 20%|██        | 60/300 [03:04<12:05,  3.02s/it]"
     ]
    },
    {
     "name": "stdout",
     "output_type": "stream",
     "text": [
      "The medication Zoladex may cause physical adverse effects such as hot flushes and night sweats.\n",
      "Processing with text only...\n"
     ]
    },
    {
     "name": "stderr",
     "output_type": "stream",
     "text": [
      " 20%|██        | 61/300 [03:06<11:26,  2.87s/it]"
     ]
    },
    {
     "name": "stdout",
     "output_type": "stream",
     "text": [
      "Tamoxifen is a commonly prescribed drug used for various medical conditions, but it can cause physical adverse effects such as hot flushes.\n",
      "Processing with text only...\n"
     ]
    },
    {
     "name": "stderr",
     "output_type": "stream",
     "text": [
      " 21%|██        | 62/300 [03:10<12:01,  3.03s/it]"
     ]
    },
    {
     "name": "stdout",
     "output_type": "stream",
     "text": [
      "Folfox, a chemotherapy regimen combining Fluorouracil, Oxaliplatin, and Leucovorin, is known to cause physical adverse effects including hair thinning.\n",
      "Processing with text only...\n"
     ]
    },
    {
     "name": "stderr",
     "output_type": "stream",
     "text": [
      " 21%|██        | 63/300 [03:15<14:11,  3.59s/it]"
     ]
    },
    {
     "name": "stdout",
     "output_type": "stream",
     "text": [
      "Nystan can cause various adverse effects including fatigue, neuropathy characterized by numbness and tingling, xerostomia resulting in dry mouth, swollen tongue leading to difficulty swallowing, and lymphedema manifesting as a wobbly sack under the chin.\n",
      "Processing with text only...\n"
     ]
    },
    {
     "name": "stderr",
     "output_type": "stream",
     "text": [
      " 21%|██▏       | 64/300 [03:18<13:48,  3.51s/it]"
     ]
    },
    {
     "name": "stdout",
     "output_type": "stream",
     "text": [
      "The drugs capox (capoxal), capecitabine, and oxaliplatin can cause adverse effects including painful infusion and hot, tingly feet during administration.\n",
      "Processing with text only...\n"
     ]
    },
    {
     "name": "stderr",
     "output_type": "stream",
     "text": [
      " 22%|██▏       | 66/300 [03:20<09:32,  2.45s/it]"
     ]
    },
    {
     "name": "stdout",
     "output_type": "stream",
     "text": [
      "Xelox, Capox, and Folfiri are chemotherapy regimens that can cause neuropathy as a potential adverse effect.\n",
      "Processing with text only...\n"
     ]
    },
    {
     "name": "stderr",
     "output_type": "stream",
     "text": [
      " 22%|██▏       | 67/300 [03:23<10:01,  2.58s/it]"
     ]
    },
    {
     "name": "stdout",
     "output_type": "stream",
     "text": [
      "The medications 5FU (5-fluorouracil), irotecan, and panitumumab can cause physical adverse effects including rash.\n",
      "Processing with text only...\n"
     ]
    },
    {
     "name": "stderr",
     "output_type": "stream",
     "text": [
      " 23%|██▎       | 68/300 [03:30<13:45,  3.56s/it]"
     ]
    },
    {
     "name": "stdout",
     "output_type": "stream",
     "text": [
      "Epirubicin, cyclophosphamide, docetaxel, and zoledronic acid are chemotherapeutic drugs known to cause headaches as a side effect, while paracetamol, steroids, anti-sickness tablets, and filgrastim are used to manage or prevent adverse reactions such as nausea and pain related to these medications.\n",
      "Processing with text only...\n"
     ]
    },
    {
     "name": "stderr",
     "output_type": "stream",
     "text": [
      " 23%|██▎       | 69/300 [03:31<11:44,  3.05s/it]"
     ]
    },
    {
     "name": "stdout",
     "output_type": "stream",
     "text": [
      "Tagrisso can cause extensive bruising of the lung and recurrent infections as adverse effects.\n",
      "Processing with text only...\n"
     ]
    },
    {
     "name": "stderr",
     "output_type": "stream",
     "text": [
      " 23%|██▎       | 70/300 [03:33<10:01,  2.62s/it]"
     ]
    },
    {
     "name": "stdout",
     "output_type": "stream",
     "text": [
      "Tagrisso may cause wheezing and abnormal breathing as adverse physical effects.\n",
      "Processing with text only...\n"
     ]
    },
    {
     "name": "stderr",
     "output_type": "stream",
     "text": [
      " 24%|██▎       | 71/300 [03:36<10:19,  2.71s/it]"
     ]
    },
    {
     "name": "stdout",
     "output_type": "stream",
     "text": [
      "Tagrisso may cause wheezing and worsened breathing, while Doxycycline can lead to dry skin and acne as potential physical adverse effects.\n",
      "Processing with text only...\n"
     ]
    },
    {
     "name": "stderr",
     "output_type": "stream",
     "text": [
      " 24%|██▍       | 73/300 [03:40<08:49,  2.33s/it]"
     ]
    },
    {
     "name": "stdout",
     "output_type": "stream",
     "text": [
      "Oxaliplatin, also known as Capox and Capecitabine, can cause adverse physical effects such as neuropathy, numbness in the throat, and prickling sensations in the hands.\n",
      "Processing with text and images...\n"
     ]
    },
    {
     "name": "stderr",
     "output_type": "stream",
     "text": [
      " 25%|██▍       | 74/300 [03:44<11:04,  2.94s/it]"
     ]
    },
    {
     "name": "stdout",
     "output_type": "stream",
     "text": [
      "Oxaliplatin may cause physical adverse effects such as swelling of the throat, numbness in the jaw, numbness in the tongue, pins and needles sensations in the feet, pins and needles sensations in the hands, and a runny nose.\n",
      "Processing with text only...\n"
     ]
    },
    {
     "name": "stderr",
     "output_type": "stream",
     "text": [
      " 25%|██▌       | 75/300 [03:47<10:24,  2.77s/it]"
     ]
    },
    {
     "name": "stdout",
     "output_type": "stream",
     "text": [
      "Palbociclib, commonly used in cancer therapy, can lead to physical adverse effects such as tiredness and diarrhea.\n",
      "Processing with text only...\n"
     ]
    },
    {
     "name": "stderr",
     "output_type": "stream",
     "text": [
      " 25%|██▌       | 76/300 [03:50<10:27,  2.80s/it]"
     ]
    },
    {
     "name": "stdout",
     "output_type": "stream",
     "text": [
      "Palbociclib, a medication used for treating certain types of breast cancer, may cause physical adverse effects such as mouth ulcers and thinning hair.\n",
      "Processing with text only...\n"
     ]
    },
    {
     "name": "stderr",
     "output_type": "stream",
     "text": [
      " 26%|██▌       | 77/300 [03:52<10:04,  2.71s/it]"
     ]
    },
    {
     "name": "stdout",
     "output_type": "stream",
     "text": [
      "Palbociclib, a targeted therapy used in the treatment of certain cancers, can cause physical adverse effects such as hair loss.\n",
      "Processing with text only...\n"
     ]
    },
    {
     "name": "stderr",
     "output_type": "stream",
     "text": [
      " 26%|██▌       | 78/300 [03:54<09:36,  2.60s/it]"
     ]
    },
    {
     "name": "stdout",
     "output_type": "stream",
     "text": [
      "Letrozole and morphine can cause adverse effects such as dry skin, itchy skin, and mouth sores.\n",
      "Processing with text only...\n"
     ]
    },
    {
     "name": "stderr",
     "output_type": "stream",
     "text": [
      " 26%|██▋       | 79/300 [03:57<09:54,  2.69s/it]"
     ]
    },
    {
     "name": "stdout",
     "output_type": "stream",
     "text": [
      "Oromorph, a medication used for pain management, may cause various adverse effects including sore skin, red skin, dry skin, itching, and burning sensations.\n",
      "Processing with text only...\n"
     ]
    },
    {
     "name": "stderr",
     "output_type": "stream",
     "text": [
      " 27%|██▋       | 80/300 [04:01<10:56,  2.98s/it]"
     ]
    },
    {
     "name": "stdout",
     "output_type": "stream",
     "text": [
      "Tamoxifen is a prescription drug that may cause adverse physical effects including joint pain, migraines, nasal drip, and sore throat. Over-the-counter medications can also be associated with these symptoms as well.\n",
      "Processing with text only...\n"
     ]
    },
    {
     "name": "stderr",
     "output_type": "stream",
     "text": [
      " 27%|██▋       | 81/300 [04:05<12:34,  3.44s/it]"
     ]
    },
    {
     "name": "stdout",
     "output_type": "stream",
     "text": [
      "EC, Docetaxel, and Zoladex can cause a range of physical adverse effects including vomiting, nausea, constipation, indigestion, hair loss, pain, chills, hot flushes, breathlessness, and fatigue.\n",
      "Processing with text and images...\n"
     ]
    },
    {
     "name": "stderr",
     "output_type": "stream",
     "text": [
      " 27%|██▋       | 82/300 [04:09<12:07,  3.34s/it]"
     ]
    },
    {
     "name": "stdout",
     "output_type": "stream",
     "text": [
      "Letrozole can cause physical adverse effects such as hot flushes, cold chills, tiredness, hip pain, and aching thighs.\n",
      "Processing with text only...\n"
     ]
    },
    {
     "name": "stderr",
     "output_type": "stream",
     "text": [
      " 28%|██▊       | 83/300 [04:12<11:58,  3.31s/it]"
     ]
    },
    {
     "name": "stdout",
     "output_type": "stream",
     "text": [
      "Letrozole, Exemestane, and Loratadine can cause stiffness, aches, weight gain, sluggishness, and tiredness as potential adverse effects.\n",
      "Processing with text only...\n"
     ]
    },
    {
     "name": "stderr",
     "output_type": "stream",
     "text": [
      " 28%|██▊       | 84/300 [04:18<14:38,  4.07s/it]"
     ]
    },
    {
     "name": "stdout",
     "output_type": "stream",
     "text": [
      "Exemestane, letrozole, and other drugs may cause various adverse effects including sore hips, stiffness, mildly sore hands and feet, and sore feet after sitting. Additionally, consuming magnesium, calcium, Vitamin D, Vitamin K, starflower oil, hemp oil, and sage tablets might exacerbate these physical symptoms.\n",
      "Processing with text only...\n"
     ]
    },
    {
     "name": "stderr",
     "output_type": "stream",
     "text": [
      " 28%|██▊       | 85/300 [04:20<13:07,  3.66s/it]"
     ]
    },
    {
     "name": "stdout",
     "output_type": "stream",
     "text": [
      "Pazopanib is associated with potential physical adverse effects such as diarrhoea, lower abdominal pain, and a bad taste in the mouth.\n",
      "Processing with text only...\n"
     ]
    },
    {
     "name": "stderr",
     "output_type": "stream",
     "text": [
      " 29%|██▊       | 86/300 [04:24<13:16,  3.72s/it]"
     ]
    },
    {
     "name": "stdout",
     "output_type": "stream",
     "text": [
      "Sorafenib and Regorafenib, commonly prescribed treatments for certain cancers, can cause severe adverse effects including extreme fatigue and callouses on the feet. Additionally, patients may experience pain as potential side effects.\n",
      "Processing with text only...\n"
     ]
    },
    {
     "name": "stderr",
     "output_type": "stream",
     "text": [
      " 29%|██▉       | 87/300 [04:26<10:57,  3.09s/it]"
     ]
    },
    {
     "name": "stdout",
     "output_type": "stream",
     "text": [
      "Zolendronic acid may cause joint pain and muscle weakness as potential adverse effects.\n",
      "Processing with text only...\n"
     ]
    },
    {
     "name": "stderr",
     "output_type": "stream",
     "text": [
      " 29%|██▉       | 88/300 [04:28<09:47,  2.77s/it]"
     ]
    },
    {
     "name": "stdout",
     "output_type": "stream",
     "text": [
      "Tamoxifen is associated with adverse physical effects such as exhaustion, headaches, and discomfort in the lower abdomen.\n",
      "Processing with text only...\n"
     ]
    },
    {
     "name": "stderr",
     "output_type": "stream",
     "text": [
      " 30%|██▉       | 89/300 [04:29<08:05,  2.30s/it]"
     ]
    },
    {
     "name": "stdout",
     "output_type": "stream",
     "text": [
      "Tamoxifen can cause side effects such as nausea and headaches.\n",
      "Processing with text only...\n"
     ]
    },
    {
     "name": "stderr",
     "output_type": "stream",
     "text": [
      " 30%|███       | 90/300 [04:31<07:15,  2.07s/it]"
     ]
    },
    {
     "name": "stdout",
     "output_type": "stream",
     "text": [
      "The drug Genesis can cause physical adverse effects such as headaches and flu-like symptoms.\n",
      "Processing with text only...\n"
     ]
    },
    {
     "name": "stderr",
     "output_type": "stream",
     "text": [
      " 30%|███       | 91/300 [04:33<07:48,  2.24s/it]"
     ]
    },
    {
     "name": "stdout",
     "output_type": "stream",
     "text": [
      "Docetaxel, a chemotherapy agent, can lead to physical adverse effects such as fatigue, diarrhoea, and a lack of appetite.\n",
      "Processing with text and images...\n"
     ]
    },
    {
     "name": "stderr",
     "output_type": "stream",
     "text": [
      " 31%|███       | 92/300 [04:40<12:06,  3.49s/it]"
     ]
    },
    {
     "name": "stdout",
     "output_type": "stream",
     "text": [
      "Chemo mouth, a common adverse effect observed in patients receiving treatments with Docetaxel, Pertuzumab, Trastuzumab, and Denosumab, manifests as oral mucositis characterized by redness, swelling, and ulcerations on the tongue and inner cheeks, as depicted in the images (a-d).\n",
      "Processing with text only...\n"
     ]
    },
    {
     "name": "stderr",
     "output_type": "stream",
     "text": [
      " 31%|███       | 93/300 [04:42<10:53,  3.16s/it]"
     ]
    },
    {
     "name": "stdout",
     "output_type": "stream",
     "text": [
      "Docetaxel, pertuzumab, and trastuzumab may cause taste changes as an adverse drug reaction.\n",
      "Processing with text only...\n"
     ]
    },
    {
     "name": "stderr",
     "output_type": "stream",
     "text": [
      " 31%|███▏      | 94/300 [04:46<12:04,  3.52s/it]"
     ]
    },
    {
     "name": "stdout",
     "output_type": "stream",
     "text": [
      "Paclitaxel, a chemotherapeutic drug under the brand name OncoLife, is known for its potential to cause various adverse effects including hair loss, nail changes, neuropathy, dry skin, nausea, and constipation.\n",
      "Processing with text only...\n"
     ]
    },
    {
     "name": "stderr",
     "output_type": "stream",
     "text": [
      " 32%|███▏      | 95/300 [04:49<11:36,  3.40s/it]"
     ]
    },
    {
     "name": "stdout",
     "output_type": "stream",
     "text": [
      "Keytruda and Pembrolizumab, often referred to as Pembro, can sometimes lead to various adverse effects including rash, night sweats, and headaches.\n",
      "Processing with text only...\n"
     ]
    },
    {
     "name": "stderr",
     "output_type": "stream",
     "text": [
      " 32%|███▏      | 96/300 [04:53<12:01,  3.54s/it]"
     ]
    },
    {
     "name": "stdout",
     "output_type": "stream",
     "text": [
      "Paclitaxel, carboplatin, and Niraparib can cause various adverse physical effects including joint pain, muscle pain, tingling in fingers and toes, fatigue, and loss of body hair.\n",
      "Processing with text only...\n"
     ]
    },
    {
     "name": "stderr",
     "output_type": "stream",
     "text": [
      " 32%|███▏      | 97/300 [04:55<10:01,  2.96s/it]"
     ]
    },
    {
     "name": "stdout",
     "output_type": "stream",
     "text": [
      "Niraparib may cause low blood counts and nausea as potential adverse effects.\n",
      "Processing with text only...\n"
     ]
    },
    {
     "name": "stderr",
     "output_type": "stream",
     "text": [
      " 33%|███▎      | 98/300 [04:56<08:22,  2.49s/it]"
     ]
    },
    {
     "name": "stdout",
     "output_type": "stream",
     "text": [
      "Taxol is associated with adverse physical effects such as tiredness and sickness.\n",
      "Processing with text only...\n"
     ]
    },
    {
     "name": "stderr",
     "output_type": "stream",
     "text": [
      " 33%|███▎      | 99/300 [05:00<09:20,  2.79s/it]"
     ]
    },
    {
     "name": "stdout",
     "output_type": "stream",
     "text": [
      "Carboplatin and PARP inhibitors can cause urinary tract issues, leading to potential urine infections, blockage of the ureter, and the need for a stent placement as adverse reactions.\n",
      "Processing with text only...\n"
     ]
    },
    {
     "name": "stderr",
     "output_type": "stream",
     "text": [
      " 33%|███▎      | 100/300 [05:06<12:29,  3.75s/it]"
     ]
    },
    {
     "name": "stdout",
     "output_type": "stream",
     "text": [
      "Everolimus is associated with various adverse reactions, including constant itching and dry, flaky skin, particularly on the feet and legs, as well as around the nose and forehead. Additionally, patients may experience rashes on their arms and a chesty cough. Furthermore, there have been reports of pain resulting from a femur fracture.\n",
      "Processing with text only...\n"
     ]
    },
    {
     "name": "stderr",
     "output_type": "stream",
     "text": [
      " 34%|███▎      | 101/300 [05:10<12:38,  3.81s/it]"
     ]
    },
    {
     "name": "stdout",
     "output_type": "stream",
     "text": [
      "Everolimus and Cabozantinib can cause significant physical adverse effects such as foot-hand syndrome, cellulitis in the right foot and leg, thick dry skin on the feet, and cracked soles and heels.\n",
      "Processing with text only...\n"
     ]
    },
    {
     "name": "stderr",
     "output_type": "stream",
     "text": [
      " 34%|███▍      | 102/300 [05:12<10:49,  3.28s/it]"
     ]
    },
    {
     "name": "stdout",
     "output_type": "stream",
     "text": [
      "Axitinib is a medication that may cause hard skin on hands and feet as a potential adverse effect.\n",
      "Processing with text only...\n"
     ]
    },
    {
     "name": "stderr",
     "output_type": "stream",
     "text": [
      " 34%|███▍      | 103/300 [05:14<09:46,  2.98s/it]"
     ]
    },
    {
     "name": "stdout",
     "output_type": "stream",
     "text": [
      "Letrozole and Tamoxifen can both lead to side effects such as hot flushes and achy ankles.\n",
      "Processing with text and images...\n"
     ]
    },
    {
     "name": "stderr",
     "output_type": "stream",
     "text": [
      " 35%|███▍      | 104/300 [05:17<10:07,  3.10s/it]"
     ]
    },
    {
     "name": "stdout",
     "output_type": "stream",
     "text": [
      "Ixazomib, Lenalidomide, dexamethasone, and isatuzumab may cause joint pain and muscle pain as adverse drug reactions.\n",
      "Processing with text only...\n"
     ]
    },
    {
     "name": "stderr",
     "output_type": "stream",
     "text": [
      " 35%|███▌      | 106/300 [05:21<08:21,  2.59s/it]"
     ]
    },
    {
     "name": "stdout",
     "output_type": "stream",
     "text": [
      "Zoladex, Exemestane, and Emla cream can cause various adverse effects including hot flushes, bad headaches, dizziness, joint aches and pains, lack of energy, and nausea.\n",
      "Processing with text only...\n"
     ]
    },
    {
     "name": "stderr",
     "output_type": "stream",
     "text": [
      " 36%|███▌      | 107/300 [05:25<09:09,  2.85s/it]"
     ]
    },
    {
     "name": "stdout",
     "output_type": "stream",
     "text": [
      "Zoladex, Exemestane, and Hemp Oil can cause adverse effects such as hot flushes, night sweats, joint pain, muscle pain, sore feet, and hip stiffness.\n",
      "Processing with text only...\n"
     ]
    },
    {
     "name": "stderr",
     "output_type": "stream",
     "text": [
      " 36%|███▌      | 108/300 [05:28<08:44,  2.73s/it]"
     ]
    },
    {
     "name": "stdout",
     "output_type": "stream",
     "text": [
      "Niraparib may cause physical adverse effects including stomach pain, a bloated abdomen, reduced appetite, and occasional nausea.\n",
      "Processing with text only...\n"
     ]
    },
    {
     "name": "stderr",
     "output_type": "stream",
     "text": [
      " 36%|███▋      | 109/300 [05:30<08:44,  2.74s/it]"
     ]
    },
    {
     "name": "stdout",
     "output_type": "stream",
     "text": [
      "Capox, Xelox, and Folfox are chemotherapy regimens that may cause severe adverse effects such as diarrhea and fluid output from a stoma.\n",
      "Processing with text only...\n"
     ]
    },
    {
     "name": "stderr",
     "output_type": "stream",
     "text": [
      " 37%|███▋      | 110/300 [05:33<08:33,  2.70s/it]"
     ]
    },
    {
     "name": "stdout",
     "output_type": "stream",
     "text": [
      "Zoladex and Exemestane, both used in certain medical treatments, can cause physical adverse effects such as hot flushes.\n",
      "Processing with text only...\n"
     ]
    },
    {
     "name": "stderr",
     "output_type": "stream",
     "text": [
      " 37%|███▋      | 112/300 [05:36<06:41,  2.14s/it]"
     ]
    },
    {
     "name": "stdout",
     "output_type": "stream",
     "text": [
      "Zoladex and exemestane can cause physical adverse effects such as hot flushes, joint pain, soreness in hips, and sore feet.\n",
      "Processing with text only...\n"
     ]
    },
    {
     "name": "stderr",
     "output_type": "stream",
     "text": [
      " 38%|███▊      | 113/300 [05:38<06:42,  2.15s/it]"
     ]
    },
    {
     "name": "stdout",
     "output_type": "stream",
     "text": [
      "Enzalutamide is associated with physical adverse effects including dizziness, loss of balance, and night leg syndrome.\n",
      "Processing with text only...\n"
     ]
    },
    {
     "name": "stderr",
     "output_type": "stream",
     "text": [
      " 38%|███▊      | 114/300 [05:41<07:06,  2.29s/it]"
     ]
    },
    {
     "name": "stdout",
     "output_type": "stream",
     "text": [
      "Letrozole may cause excessive watery discharge and a slight lime green tinge in urine, while CBD oil can also result in similar symptoms.\n",
      "Processing with text only...\n"
     ]
    },
    {
     "name": "stderr",
     "output_type": "stream",
     "text": [
      " 38%|███▊      | 115/300 [05:43<07:09,  2.32s/it]"
     ]
    },
    {
     "name": "stdout",
     "output_type": "stream",
     "text": [
      "Letrozole may cause urine discoloration, vaginal dryness, and stiffness in the mornings as potential adverse physical effects.\n",
      "Processing with text only...\n"
     ]
    },
    {
     "name": "stderr",
     "output_type": "stream",
     "text": [
      " 39%|███▊      | 116/300 [05:45<06:53,  2.25s/it]"
     ]
    },
    {
     "name": "stdout",
     "output_type": "stream",
     "text": [
      "Letrazole may cause joint and bone pains, as well as pain in the soles of the feet.\n",
      "Processing with text only...\n"
     ]
    },
    {
     "name": "stderr",
     "output_type": "stream",
     "text": [
      " 39%|███▉      | 117/300 [05:50<09:01,  2.96s/it]"
     ]
    },
    {
     "name": "stdout",
     "output_type": "stream",
     "text": [
      "Pertuzamab, trastuzumab, zoledronic acid, and anastrozole are medications used to treat various cancers; however, they can cause severe blisters under the breast as well as joint and leg pains as potential adverse effects.\n",
      "Processing with text only...\n"
     ]
    },
    {
     "name": "stderr",
     "output_type": "stream",
     "text": [
      " 39%|███▉      | 118/300 [05:52<08:23,  2.77s/it]"
     ]
    },
    {
     "name": "stdout",
     "output_type": "stream",
     "text": [
      "Anastrozole is associated with the adverse effect of hot flushes, which are experienced by some patients taking the drug.\n",
      "Processing with text only...\n"
     ]
    },
    {
     "name": "stderr",
     "output_type": "stream",
     "text": [
      " 40%|███▉      | 119/300 [05:56<09:32,  3.17s/it]"
     ]
    },
    {
     "name": "stdout",
     "output_type": "stream",
     "text": [
      "Docetaxel can cause sore throat and flu-like symptoms as adverse effects, while filgrastim may result in heavy head sensations. Paracetamol is generally safe but can potentially lead to sore throat if taken improperly.\n",
      "Processing with text and images...\n"
     ]
    },
    {
     "name": "stderr",
     "output_type": "stream",
     "text": [
      " 40%|████      | 120/300 [06:05<14:46,  4.93s/it]"
     ]
    },
    {
     "name": "stdout",
     "output_type": "stream",
     "text": [
      "Filgrastim and paracetamol can cause physical adverse effects including headache, diarrhea, vomiting, nausea, tiredness, and sore mouth.\n",
      "Processing with text only...\n"
     ]
    },
    {
     "name": "stderr",
     "output_type": "stream",
     "text": [
      " 41%|████      | 122/300 [06:10<10:42,  3.61s/it]"
     ]
    },
    {
     "name": "stdout",
     "output_type": "stream",
     "text": [
      "Doxorubicin and gemcitabine, two chemotherapy drugs commonly used to treat various cancers, can lead to serious adverse effects such as lung collapse, which is a critical concern for patients undergoing treatment with these medications.\n",
      "Processing with text only...\n"
     ]
    },
    {
     "name": "stderr",
     "output_type": "stream",
     "text": [
      " 41%|████▏     | 124/300 [06:12<08:01,  2.74s/it]"
     ]
    },
    {
     "name": "stdout",
     "output_type": "stream",
     "text": [
      "Exemestane and letrozole can cause extreme joint pain, leading to bone spurs and inflammatory osteoarthritis, resulting in reduced mobility.\n",
      "Processing with text only...\n"
     ]
    },
    {
     "name": "stderr",
     "output_type": "stream",
     "text": [
      " 42%|████▏     | 125/300 [06:16<08:29,  2.91s/it]"
     ]
    },
    {
     "name": "stdout",
     "output_type": "stream",
     "text": [
      "Letrozole and anastrozole are both aromatase inhibitors used in the treatment of breast cancer; however, they can cause adverse effects such as painful joints and bone spurs.\n",
      "Processing with text only...\n"
     ]
    },
    {
     "name": "stderr",
     "output_type": "stream",
     "text": [
      " 42%|████▏     | 126/300 [06:21<09:40,  3.34s/it]"
     ]
    },
    {
     "name": "stdout",
     "output_type": "stream",
     "text": [
      "Capecitabine may cause physical adverse effects such as soreness in the right hand, a tingling or prickly sensation, swollen fingertips, slightly inflamed and red knuckles, difficulty bending fingers, and trouble closing the hand to make a fist.\n",
      "Processing with text only...\n"
     ]
    },
    {
     "name": "stderr",
     "output_type": "stream",
     "text": [
      " 42%|████▏     | 127/300 [06:23<08:37,  2.99s/it]"
     ]
    },
    {
     "name": "stdout",
     "output_type": "stream",
     "text": [
      "Capecitabine may cause skin peeling and palmar plantar adverse effects as physical reactions.\n",
      "Processing with text only...\n"
     ]
    },
    {
     "name": "stderr",
     "output_type": "stream",
     "text": [
      " 43%|████▎     | 128/300 [06:25<08:16,  2.89s/it]"
     ]
    },
    {
     "name": "stdout",
     "output_type": "stream",
     "text": [
      "Capecitabine may cause physical adverse effects including sore hands, sore feet, redness, cracked skin, and peeling skin.\n",
      "Processing with text only...\n"
     ]
    },
    {
     "name": "stderr",
     "output_type": "stream",
     "text": [
      " 43%|████▎     | 129/300 [06:29<09:24,  3.30s/it]"
     ]
    },
    {
     "name": "stdout",
     "output_type": "stream",
     "text": [
      "Capecitabine and Oxaliplatin are associated with various adverse reactions, including tingling sensations in the toes, redness, and flaky skin on the soles of feet, and finger-side effects that may indicate neuropathy.\n",
      "Processing with text only...\n"
     ]
    },
    {
     "name": "stderr",
     "output_type": "stream",
     "text": [
      " 44%|████▎     | 131/300 [06:34<07:47,  2.76s/it]"
     ]
    },
    {
     "name": "stdout",
     "output_type": "stream",
     "text": [
      "Vinorelbine, Carboplatin, and steroids may cause severe adverse effects such as hair loss and extreme tiredness, often requiring management strategies like anti-sickness support to help patients cope with these common side effects during treatment.\n",
      "Processing with text only...\n"
     ]
    },
    {
     "name": "stderr",
     "output_type": "stream",
     "text": [
      " 44%|████▍     | 132/300 [06:37<08:04,  2.88s/it]"
     ]
    },
    {
     "name": "stdout",
     "output_type": "stream",
     "text": [
      "Docetaxel, a chemotherapy agent used for treating various cancers, can lead to significant physical adverse effects including nail damage, which may manifest as changes in nail structure or appearance.\n",
      "Processing with text only...\n"
     ]
    },
    {
     "name": "stderr",
     "output_type": "stream",
     "text": [
      " 44%|████▍     | 133/300 [06:38<06:51,  2.46s/it]"
     ]
    },
    {
     "name": "stdout",
     "output_type": "stream",
     "text": [
      "Zoladex can cause flushing as a physical adverse effect.\n",
      "Processing with text and images...\n"
     ]
    },
    {
     "name": "stderr",
     "output_type": "stream",
     "text": [
      " 45%|████▍     | 134/300 [06:41<06:48,  2.46s/it]"
     ]
    },
    {
     "name": "stdout",
     "output_type": "stream",
     "text": [
      "Zoledex, a medication for osteoporosis treatment, may cause discomfort from injections as one of its physical adverse effects.\n",
      "Processing with text only...\n"
     ]
    },
    {
     "name": "stderr",
     "output_type": "stream",
     "text": [
      " 45%|████▌     | 135/300 [06:43<06:57,  2.53s/it]"
     ]
    },
    {
     "name": "stdout",
     "output_type": "stream",
     "text": [
      "Zoladex and Elma cream can cause adverse reactions such as hot flushes, night sweats, and soreness at the injection site.\n",
      "Processing with text only...\n"
     ]
    },
    {
     "name": "stderr",
     "output_type": "stream",
     "text": [
      " 45%|████▌     | 136/300 [06:45<06:28,  2.37s/it]"
     ]
    },
    {
     "name": "stdout",
     "output_type": "stream",
     "text": [
      "Zoladex and tamoxifen are commonly used medications with potential side effects including hot flushes.\n",
      "Processing with text only...\n"
     ]
    },
    {
     "name": "stderr",
     "output_type": "stream",
     "text": [
      " 46%|████▌     | 137/300 [06:48<06:46,  2.49s/it]"
     ]
    },
    {
     "name": "stdout",
     "output_type": "stream",
     "text": [
      "Exemestane, letrozole, and Zoladex can cause physical adverse effects including sore joints, hot flashes, and night sweats.\n",
      "Processing with text only...\n"
     ]
    },
    {
     "name": "stderr",
     "output_type": "stream",
     "text": [
      " 46%|████▌     | 138/300 [06:50<06:25,  2.38s/it]"
     ]
    },
    {
     "name": "stdout",
     "output_type": "stream",
     "text": [
      "Zometa may cause physical adverse effects such as lymphoedema and arm swelling, along with aches.\n",
      "Processing with text only...\n"
     ]
    },
    {
     "name": "stderr",
     "output_type": "stream",
     "text": [
      " 46%|████▋     | 139/300 [06:54<07:39,  2.85s/it]"
     ]
    },
    {
     "name": "stdout",
     "output_type": "stream",
     "text": [
      "Letrozole, manufactured by Cipla and Accord, may cause freezing cold, uncontrollable shivers, and smelly urine as physical adverse effects. Additionally, patients using this medication might experience hot flushes.\n",
      "Processing with text only...\n"
     ]
    },
    {
     "name": "stderr",
     "output_type": "stream",
     "text": [
      " 47%|████▋     | 141/300 [06:56<05:11,  1.96s/it]"
     ]
    },
    {
     "name": "stdout",
     "output_type": "stream",
     "text": [
      "Paracetamol may cause sneezing and a runny nose as physical adverse effects.\n",
      "Processing with text only...\n"
     ]
    },
    {
     "name": "stderr",
     "output_type": "stream",
     "text": [
      " 47%|████▋     | 142/300 [07:01<07:25,  2.82s/it]"
     ]
    },
    {
     "name": "stdout",
     "output_type": "stream",
     "text": [
      "The drug FEC (likely FOLFIRI) can cause a range of adverse effects including constant left hip pain, buttock pain, leg pain, blurry vision, sensitive hands, and sore feet described as feeling like walking on sponges, along with an ache at the top front of the right leg.\n",
      "Processing with text only...\n"
     ]
    },
    {
     "name": "stderr",
     "output_type": "stream",
     "text": [
      " 48%|████▊     | 143/300 [07:05<07:36,  2.91s/it]"
     ]
    },
    {
     "name": "stdout",
     "output_type": "stream",
     "text": [
      "Docetaxel is associated with peripheral neuropathy affecting hands, legs, and feet, as well as symptoms such as constipation and hip pain, accompanied by muscle pain.\n",
      "Processing with text only...\n"
     ]
    },
    {
     "name": "stderr",
     "output_type": "stream",
     "text": [
      " 48%|████▊     | 144/300 [07:10<09:04,  3.49s/it]"
     ]
    },
    {
     "name": "stdout",
     "output_type": "stream",
     "text": [
      "Viscotears can cause numbness in the fingers and legs, leading to a loss of feeling up to the knees, with complete lack of sensation in the toes. Users may experience difficulty fastening buttons and feel weird sensations in their feet. Additionally, users are prone to dry eyes.\n",
      "Processing with text only...\n"
     ]
    },
    {
     "name": "stderr",
     "output_type": "stream",
     "text": [
      " 48%|████▊     | 145/300 [07:14<09:47,  3.79s/it]"
     ]
    },
    {
     "name": "stdout",
     "output_type": "stream",
     "text": [
      "Tamoxifen, a drug used to treat certain types of breast cancer, can cause physical adverse effects such as dry mouth, aches, pains, constant headache, blurred vision, and fatigue. These side effects may affect the patient's quality of life.\n",
      "Processing with text only...\n"
     ]
    },
    {
     "name": "stderr",
     "output_type": "stream",
     "text": [
      " 49%|████▊     | 146/300 [07:17<09:19,  3.63s/it]"
     ]
    },
    {
     "name": "stdout",
     "output_type": "stream",
     "text": [
      "The medications Zoladex, Tamoxifen, and Exemestane may cause various adverse effects including hot flashes, night sweats, stiff joints, and muscle stiffness.\n",
      "Processing with text only...\n"
     ]
    },
    {
     "name": "stderr",
     "output_type": "stream",
     "text": [
      " 49%|████▉     | 147/300 [07:20<08:34,  3.37s/it]"
     ]
    },
    {
     "name": "stdout",
     "output_type": "stream",
     "text": [
      "Zytiga is associated with various adverse drug reactions including tiredness, fatigue, sore ribs, sternum pain, and aches in the legs.\n",
      "Processing with text and images...\n"
     ]
    },
    {
     "name": "stderr",
     "output_type": "stream",
     "text": [
      " 49%|████▉     | 148/300 [07:35<17:03,  6.73s/it]"
     ]
    },
    {
     "name": "stdout",
     "output_type": "stream",
     "text": [
      "The images show various physical adverse effects including tiredness, soreness, and swelling in the mouth, eyes, hands, feet, buttocks, legs, and hips.\n",
      "Processing with text only...\n"
     ]
    },
    {
     "name": "stderr",
     "output_type": "stream",
     "text": [
      " 50%|████▉     | 149/300 [07:38<14:05,  5.60s/it]"
     ]
    },
    {
     "name": "stdout",
     "output_type": "stream",
     "text": [
      "Herceptin, Taxo, and Paracetamol are commonly prescribed drugs associated with severe adverse effects, including horrendous headaches and aching leg bones.\n",
      "Processing with text only...\n"
     ]
    },
    {
     "name": "stderr",
     "output_type": "stream",
     "text": [
      " 50%|█████     | 151/300 [07:41<09:08,  3.68s/it]"
     ]
    },
    {
     "name": "stdout",
     "output_type": "stream",
     "text": [
      "Co-codamol, doxycycline, and FEC can all cause achy bones in the legs and feet as a potential adverse effect.\n",
      "Processing with text only...\n"
     ]
    },
    {
     "name": "stderr",
     "output_type": "stream",
     "text": [
      " 51%|█████     | 152/300 [07:43<08:25,  3.42s/it]"
     ]
    },
    {
     "name": "stdout",
     "output_type": "stream",
     "text": [
      "Alectinib is associated with severe adverse effects including extreme tiredness and a rash similar to sunburn that can cause extreme sensitivity to sunlight.\n",
      "Processing with text only...\n"
     ]
    },
    {
     "name": "stderr",
     "output_type": "stream",
     "text": [
      " 51%|█████     | 153/300 [07:45<07:23,  3.02s/it]"
     ]
    },
    {
     "name": "stdout",
     "output_type": "stream",
     "text": [
      "The drugs OEPA and COPDAC can cause physical adverse effects such as hot flashes and thinner hair.\n",
      "Processing with text only...\n"
     ]
    },
    {
     "name": "stderr",
     "output_type": "stream",
     "text": [
      " 51%|█████▏    | 154/300 [07:48<06:57,  2.86s/it]"
     ]
    },
    {
     "name": "stdout",
     "output_type": "stream",
     "text": [
      "Abemaciclib, a medication used for treating certain types of cancer, may cause physical adverse effects such as stomach pains and fatigue.\n",
      "Processing with text only...\n"
     ]
    },
    {
     "name": "stderr",
     "output_type": "stream",
     "text": [
      " 52%|█████▏    | 155/300 [07:53<08:18,  3.44s/it]"
     ]
    },
    {
     "name": "stdout",
     "output_type": "stream",
     "text": [
      "FEC (a combination of Fluorouracil, Epirubicin, and Cisplatin) and Docetaxel may cause various adverse effects, including tiredness, sore mouth, sensitivity in hands and face, as well as hip and buttock pain.\n",
      "Processing with text only...\n"
     ]
    },
    {
     "name": "stderr",
     "output_type": "stream",
     "text": [
      " 52%|█████▏    | 156/300 [07:55<07:48,  3.25s/it]"
     ]
    },
    {
     "name": "stdout",
     "output_type": "stream",
     "text": [
      "The chemotherapy drugs oxaliplatin and capecitabine may cause cold sensitivity, arm tingling, and feelings of weakness as potential adverse effects.\n",
      "Processing with text only...\n"
     ]
    },
    {
     "name": "stderr",
     "output_type": "stream",
     "text": [
      " 52%|█████▏    | 157/300 [07:59<07:47,  3.27s/it]"
     ]
    },
    {
     "name": "stdout",
     "output_type": "stream",
     "text": [
      "EC (likely referring to Ecotropine) and Taxol may be associated with various adverse effects, including the development of whiteheads and sore spots on the jawline and cheeks.\n",
      "Processing with text only...\n"
     ]
    },
    {
     "name": "stderr",
     "output_type": "stream",
     "text": [
      " 53%|█████▎    | 158/300 [08:01<07:12,  3.05s/it]"
     ]
    },
    {
     "name": "stdout",
     "output_type": "stream",
     "text": [
      "EC, Patitaxel, and HP are known to cause various adverse physical effects including nausea, vomiting, dehydration, and water infections.\n",
      "Processing with text only...\n"
     ]
    },
    {
     "name": "stderr",
     "output_type": "stream",
     "text": [
      " 53%|█████▎    | 159/300 [08:06<08:08,  3.46s/it]"
     ]
    },
    {
     "name": "stdout",
     "output_type": "stream",
     "text": [
      "Paclitaxel, Herceptin, steroids, antihistamine, and stomach pills can cause a range of adverse effects including fatigue, lethargy, nosebleeds, stomach issues, cough, peripheral neuropathy, and acne.\n",
      "Processing with text only...\n"
     ]
    },
    {
     "name": "stderr",
     "output_type": "stream",
     "text": [
      " 53%|█████▎    | 160/300 [08:07<06:53,  2.96s/it]"
     ]
    },
    {
     "name": "stdout",
     "output_type": "stream",
     "text": [
      "Zoladex may cause testicular shrinkage and lower backache as physical adverse effects.\n",
      "Processing with text only...\n"
     ]
    },
    {
     "name": "stderr",
     "output_type": "stream",
     "text": [
      " 54%|█████▍    | 162/300 [08:10<05:10,  2.25s/it]"
     ]
    },
    {
     "name": "stdout",
     "output_type": "stream",
     "text": [
      "Teva, Sun Pharma, and Accord are pharmaceutical companies that may be associated with adverse drug reactions including bone and muscle aches as well as hot flushes.\n",
      "Processing with text only...\n"
     ]
    },
    {
     "name": "stderr",
     "output_type": "stream",
     "text": [
      " 54%|█████▍    | 163/300 [08:12<05:03,  2.21s/it]"
     ]
    },
    {
     "name": "stdout",
     "output_type": "stream",
     "text": [
      "EC and Taxol can cause various adverse effects, including whiteheads, sore spots, and spots on the face.\n",
      "Processing with text only...\n"
     ]
    },
    {
     "name": "stderr",
     "output_type": "stream",
     "text": [
      " 55%|█████▍    | 164/300 [08:17<06:18,  2.78s/it]"
     ]
    },
    {
     "name": "stdout",
     "output_type": "stream",
     "text": [
      "Paclitaxel, Herceptin, steroids, antihistamine, and stomach pills can cause various adverse effects including tiredness, lethargy, nosebleeds, dodgy stomach, cough, peripheral neuropathy, and acne.\n",
      "Processing with text only...\n"
     ]
    },
    {
     "name": "stderr",
     "output_type": "stream",
     "text": [
      " 55%|█████▌    | 165/300 [08:19<06:02,  2.69s/it]"
     ]
    },
    {
     "name": "stdout",
     "output_type": "stream",
     "text": [
      "Herceptin and EC both have been associated with the adverse physical effect of hair loss as a potential side effect for patients undergoing treatment.\n",
      "Processing with text only...\n"
     ]
    },
    {
     "name": "stderr",
     "output_type": "stream",
     "text": [
      " 55%|█████▌    | 166/300 [08:22<05:51,  2.62s/it]"
     ]
    },
    {
     "name": "stdout",
     "output_type": "stream",
     "text": [
      "OXY cap tabs may cause adverse effects including nausea, as well as a potential issue of dehydration due to difficulty in consuming the medication.\n",
      "Processing with text only...\n"
     ]
    },
    {
     "name": "stderr",
     "output_type": "stream",
     "text": [
      " 56%|█████▌    | 168/300 [08:25<04:36,  2.10s/it]"
     ]
    },
    {
     "name": "stdout",
     "output_type": "stream",
     "text": [
      "Zolaferex, commonly known as Zolaferex, is associated with several adverse physical effects including heavy legs, hip pain, and excessive sweating.\n",
      "Processing with text only...\n"
     ]
    },
    {
     "name": "stderr",
     "output_type": "stream",
     "text": [
      " 56%|█████▋    | 169/300 [08:30<06:10,  2.83s/it]"
     ]
    },
    {
     "name": "stdout",
     "output_type": "stream",
     "text": [
      "Pertuzumab, trastuzumab, and docetaxel are chemotherapy drugs used to treat certain types of cancer. Pertuzumab can cause appetite suppression as a side effect, while both trastuzumab and docetaxel may result in diarrhea.\n",
      "Processing with text only...\n"
     ]
    },
    {
     "name": "stderr",
     "output_type": "stream",
     "text": [
      " 57%|█████▋    | 170/300 [08:33<06:10,  2.85s/it]"
     ]
    },
    {
     "name": "stdout",
     "output_type": "stream",
     "text": [
      "Letrozole and palbociclib are both medications commonly used in cancer therapy; however, they can lead to physical adverse effects such as hair loss.\n",
      "Processing with text only...\n"
     ]
    },
    {
     "name": "stderr",
     "output_type": "stream",
     "text": [
      " 57%|█████▋    | 171/300 [08:36<06:25,  2.99s/it]"
     ]
    },
    {
     "name": "stdout",
     "output_type": "stream",
     "text": [
      "Taxotere (Paclitaxel) and Avastin are both cancer medications associated with potential adverse effects such as joint pains, aches, overwhelming tiredness, and nausea.\n",
      "Processing with text only...\n"
     ]
    },
    {
     "name": "stderr",
     "output_type": "stream",
     "text": [
      " 57%|█████▋    | 172/300 [08:40<06:56,  3.25s/it]"
     ]
    },
    {
     "name": "stdout",
     "output_type": "stream",
     "text": [
      "Docetaxel, capecitabine, pertuzumab, trastuzumab, and filgrastim can cause various adverse effects, including hair loss, tiredness, and dizziness.\n",
      "Processing with text only...\n"
     ]
    },
    {
     "name": "stderr",
     "output_type": "stream",
     "text": [
      " 58%|█████▊    | 173/300 [08:44<07:07,  3.36s/it]"
     ]
    },
    {
     "name": "stdout",
     "output_type": "stream",
     "text": [
      "Taxol, Pertuzumab, Carboplatin, and Heceptin may cause various adverse effects including tiredness, nausea, funny tummy, acne, hair loss, and hot flushes.\n",
      "Processing with text only...\n"
     ]
    },
    {
     "name": "stderr",
     "output_type": "stream",
     "text": [
      " 59%|█████▊    | 176/300 [08:46<03:58,  1.92s/it]"
     ]
    },
    {
     "name": "stdout",
     "output_type": "stream",
     "text": [
      "Venlofloxacin and tamoxifen can both be associated with hot flushes as a physical adverse reaction.\n",
      "Processing with text only...\n"
     ]
    },
    {
     "name": "stderr",
     "output_type": "stream",
     "text": [
      " 60%|█████▉    | 179/300 [08:51<03:36,  1.79s/it]"
     ]
    },
    {
     "name": "stdout",
     "output_type": "stream",
     "text": [
      "Capecitabine, oxaliplatin, domperidone, and loperamide are medications associated with various adverse effects including pain, numbness, sensitivity in hands, lower arm pain, nausea, fatigue, diarrhea, and tingling sensations in the hands.\n",
      "Processing with text only...\n"
     ]
    },
    {
     "name": "stderr",
     "output_type": "stream",
     "text": [
      " 60%|██████    | 180/300 [08:54<04:03,  2.03s/it]"
     ]
    },
    {
     "name": "stdout",
     "output_type": "stream",
     "text": [
      "Sunitinib, commonly known as Sutent, can cause various adverse effects including tummy trouble, nausea, sore feet, dizzy spells, and sweaty shivers.\n",
      "Processing with text only...\n"
     ]
    },
    {
     "name": "stderr",
     "output_type": "stream",
     "text": [
      " 60%|██████    | 181/300 [08:57<04:24,  2.22s/it]"
     ]
    },
    {
     "name": "stdout",
     "output_type": "stream",
     "text": [
      "Patients taking dab/tram may experience physical adverse effects such as fever, chills, fatigue, muscle pain, joint pain, and soreness in their legs.\n",
      "Processing with text only...\n"
     ]
    },
    {
     "name": "stderr",
     "output_type": "stream",
     "text": [
      " 61%|██████    | 182/300 [08:58<03:56,  2.01s/it]"
     ]
    },
    {
     "name": "stdout",
     "output_type": "stream",
     "text": [
      "Dab and tram have been associated with adverse effects including fatigue.\n",
      "Processing with text only...\n"
     ]
    },
    {
     "name": "stderr",
     "output_type": "stream",
     "text": [
      " 61%|██████    | 183/300 [09:01<04:20,  2.23s/it]"
     ]
    },
    {
     "name": "stdout",
     "output_type": "stream",
     "text": [
      "Docetaxel (Taxol) and capecitabine are drugs that can cause significant side effects, including hair loss among other physical adverse reactions.\n",
      "Processing with text and images...\n"
     ]
    },
    {
     "name": "stderr",
     "output_type": "stream",
     "text": [
      " 61%|██████▏   | 184/300 [09:06<05:32,  2.87s/it]"
     ]
    },
    {
     "name": "stdout",
     "output_type": "stream",
     "text": [
      "Patients treated with drugs such as VTD, Velcade, Thalidomide, and dex may experience physical adverse effects including rapid weight gain, numbness in fingers, legs, feet, and toes, along with extreme tiredness.\n",
      "Processing with text only...\n"
     ]
    },
    {
     "name": "stderr",
     "output_type": "stream",
     "text": [
      " 62%|██████▏   | 185/300 [09:10<06:07,  3.20s/it]"
     ]
    },
    {
     "name": "stdout",
     "output_type": "stream",
     "text": [
      "Dabrafenib and Trametinib can cause a range of adverse physical effects including aching joints, hot and tender soles of feet, cataracts, hearing loss, difficulty concentrating, and balance issues.\n",
      "Processing with text only...\n"
     ]
    },
    {
     "name": "stderr",
     "output_type": "stream",
     "text": [
      " 62%|██████▏   | 187/300 [09:13<04:53,  2.60s/it]"
     ]
    },
    {
     "name": "stdout",
     "output_type": "stream",
     "text": [
      "Cabozantinib may cause sore mouth, sore hands, sore feet, and diarrhea, as well as feelings of tiredness. Similarly, thyroxine can also result in these physical adverse effects.\n",
      "Processing with text only...\n"
     ]
    },
    {
     "name": "stderr",
     "output_type": "stream",
     "text": [
      " 63%|██████▎   | 188/300 [09:17<05:24,  2.90s/it]"
     ]
    },
    {
     "name": "stdout",
     "output_type": "stream",
     "text": [
      "Pembrolizumab, Prednisolone, and Naproxen can cause various adverse effects including aches and pains across the neck and shoulders, a painful right wrist, fatigue, and difficulty sleeping.\n",
      "Processing with text only...\n"
     ]
    },
    {
     "name": "stderr",
     "output_type": "stream",
     "text": [
      " 63%|██████▎   | 189/300 [09:22<06:21,  3.44s/it]"
     ]
    },
    {
     "name": "stdout",
     "output_type": "stream",
     "text": [
      "Pembrolizumab can cause adverse effects such as joint pain, including aching in the neck, back, and arms, as well as fatigue. Ibuprofen may also be associated with similar symptoms, potentially exacerbating feelings of aching and tiredness in the joints.\n",
      "Processing with text only...\n"
     ]
    },
    {
     "name": "stderr",
     "output_type": "stream",
     "text": [
      " 63%|██████▎   | 190/300 [09:25<06:03,  3.31s/it]"
     ]
    },
    {
     "name": "stdout",
     "output_type": "stream",
     "text": [
      "Folfiri, loperamide, and cetuximab can cause physical adverse effects such as diarrhea, hair thinning, and an acne-like rash.\n",
      "Processing with text only...\n"
     ]
    },
    {
     "name": "stderr",
     "output_type": "stream",
     "text": [
      " 64%|██████▍   | 192/300 [09:27<04:02,  2.24s/it]"
     ]
    },
    {
     "name": "stdout",
     "output_type": "stream",
     "text": [
      "Cetuximab is associated with potential adverse reactions including acne-type rash and diarrhea.\n",
      "Processing with text only...\n"
     ]
    },
    {
     "name": "stderr",
     "output_type": "stream",
     "text": [
      " 64%|██████▍   | 193/300 [09:31<04:39,  2.61s/it]"
     ]
    },
    {
     "name": "stdout",
     "output_type": "stream",
     "text": [
      "Herceptin, Pertuzamab, and Letrozole can cause various adverse physical effects including pain in hands, clicking fingers, neuropathy (tingly and numb fingers), and morning aches and pains.\n",
      "Processing with text only...\n"
     ]
    },
    {
     "name": "stderr",
     "output_type": "stream",
     "text": [
      " 65%|██████▍   | 194/300 [09:34<04:44,  2.68s/it]"
     ]
    },
    {
     "name": "stdout",
     "output_type": "stream",
     "text": [
      "Femara, Decapeptyl, and Letrozole can cause physical adverse effects including joint pain in the knuckles and hands as well as nausea.\n",
      "Processing with text only...\n"
     ]
    },
    {
     "name": "stderr",
     "output_type": "stream",
     "text": [
      " 65%|██████▌   | 195/300 [09:36<04:32,  2.59s/it]"
     ]
    },
    {
     "name": "stdout",
     "output_type": "stream",
     "text": [
      "Letrozole is associated with physical adverse effects including pain in joints and trigger finger, characterized by two fingers sticking straight.\n",
      "Processing with text only...\n"
     ]
    },
    {
     "name": "stderr",
     "output_type": "stream",
     "text": [
      " 65%|██████▌   | 196/300 [09:38<04:20,  2.51s/it]"
     ]
    },
    {
     "name": "stdout",
     "output_type": "stream",
     "text": [
      "Paclitaxol and Herceptin can cause numbness in the balls of the feet as potential adverse drug reactions.\n",
      "Processing with text only...\n"
     ]
    },
    {
     "name": "stderr",
     "output_type": "stream",
     "text": [
      " 66%|██████▋   | 199/300 [09:40<02:31,  1.50s/it]"
     ]
    },
    {
     "name": "stdout",
     "output_type": "stream",
     "text": [
      "Alendronic acid, calcium, and letrozole can cause adverse effects including toothache and nausea.\n",
      "Processing with text only...\n"
     ]
    },
    {
     "name": "stderr",
     "output_type": "stream",
     "text": [
      " 67%|██████▋   | 200/300 [09:43<02:54,  1.74s/it]"
     ]
    },
    {
     "name": "stdout",
     "output_type": "stream",
     "text": [
      "Alendronic acid, statins, letrozole, and antihistamines may cause hives and indigestion as adverse drug reactions.\n",
      "Processing with text and images...\n"
     ]
    },
    {
     "name": "stderr",
     "output_type": "stream",
     "text": [
      " 67%|██████▋   | 201/300 [09:51<05:13,  3.17s/it]"
     ]
    },
    {
     "name": "stdout",
     "output_type": "stream",
     "text": [
      "The images depict adverse effects of certain anti-estrogen medications such as letrozole and exemestane, including cracked hands, downy fuzz on the face, joint pain, retinal detachment, chest pain, dizziness, and an ulcer in the eye. The medications, sold by companies like Cipla, Accord, and Teva, and marketed under brand names such as Femara, are associated with these physical symptoms.\n",
      "Processing with text only...\n"
     ]
    },
    {
     "name": "stderr",
     "output_type": "stream",
     "text": [
      " 67%|██████▋   | 202/300 [09:53<04:44,  2.90s/it]"
     ]
    },
    {
     "name": "stdout",
     "output_type": "stream",
     "text": [
      "Teva medications are associated with various adverse effects, including hot flushes, ankle aches, and weight gain.\n",
      "Processing with text only...\n"
     ]
    },
    {
     "name": "stderr",
     "output_type": "stream",
     "text": [
      " 68%|██████▊   | 203/300 [09:57<05:10,  3.21s/it]"
     ]
    },
    {
     "name": "stdout",
     "output_type": "stream",
     "text": [
      "Prednisone and methotrexate can lead to various adverse effects, including water retention, sweating, loss of balance, confusion, and increased risk of type 2 steroid-induced diabetes, which may result in frequent falls.\n",
      "Processing with text only...\n"
     ]
    },
    {
     "name": "stderr",
     "output_type": "stream",
     "text": [
      " 68%|██████▊   | 204/300 [10:01<05:31,  3.45s/it]"
     ]
    },
    {
     "name": "stdout",
     "output_type": "stream",
     "text": [
      "Letrozole and Anastrozole are both aromatase inhibitors used to treat certain types of cancer. They can cause various adverse effects including joint pain, stiffness in the knees, and pain in the hands and fingers.\n",
      "Processing with text only...\n"
     ]
    },
    {
     "name": "stderr",
     "output_type": "stream",
     "text": [
      " 68%|██████▊   | 205/300 [10:03<04:47,  3.02s/it]"
     ]
    },
    {
     "name": "stdout",
     "output_type": "stream",
     "text": [
      "Letrozole is associated with adverse effects including joint pain, stiffness, and a hunched posture.\n",
      "Processing with text only...\n"
     ]
    },
    {
     "name": "stderr",
     "output_type": "stream",
     "text": [
      " 69%|██████▊   | 206/300 [10:05<04:21,  2.78s/it]"
     ]
    },
    {
     "name": "stdout",
     "output_type": "stream",
     "text": [
      "Letrozole may cause stiffness in ankles and feet, leading to difficulty walking in the morning for some patients.\n",
      "Processing with text only...\n"
     ]
    },
    {
     "name": "stderr",
     "output_type": "stream",
     "text": [
      " 69%|██████▉   | 207/300 [10:07<03:55,  2.54s/it]"
     ]
    },
    {
     "name": "stdout",
     "output_type": "stream",
     "text": [
      "Letrozole and bisphosphonates may cause knee pain and stiffness as potential adverse effects.\n",
      "Processing with text only...\n"
     ]
    },
    {
     "name": "stderr",
     "output_type": "stream",
     "text": [
      " 69%|██████▉   | 208/300 [10:13<05:11,  3.38s/it]"
     ]
    },
    {
     "name": "stdout",
     "output_type": "stream",
     "text": [
      "Levothyroxine, commonly used to treat hypothyroidism, may cause physical adverse effects such as hair loss, greasy hair at the roots, dry hair at the ends, and brown patches of skin on the forehead and nose. Additionally, individuals may experience sunburn on their arms and shoulders.\n",
      "Processing with text and images...\n"
     ]
    },
    {
     "name": "stderr",
     "output_type": "stream",
     "text": [
      " 70%|██████▉   | 209/300 [10:16<05:11,  3.43s/it]"
     ]
    },
    {
     "name": "stdout",
     "output_type": "stream",
     "text": [
      "Cisplatin is a chemotherapy medication that can cause various adverse effects, including difficulty swallowing, thick mucus, loss of saliva, raspy voice, and weakness.\n",
      "Processing with text and images...\n"
     ]
    },
    {
     "name": "stderr",
     "output_type": "stream",
     "text": [
      " 70%|███████   | 210/300 [10:19<04:50,  3.22s/it]"
     ]
    },
    {
     "name": "stdout",
     "output_type": "stream",
     "text": [
      "Herceptin, a medication used to treat breast cancer, may cause physical adverse effects such as bone pain, nausea, and extreme fatigue.\n",
      "Processing with text only...\n"
     ]
    },
    {
     "name": "stderr",
     "output_type": "stream",
     "text": [
      " 70%|███████   | 211/300 [10:22<04:50,  3.27s/it]"
     ]
    },
    {
     "name": "stdout",
     "output_type": "stream",
     "text": [
      "Dexamethasone and Zofran can cause severe adverse effects including vomiting of bile, significant weight loss (nearly 40 pounds), weakness, and changes in skeletal appearance.\n",
      "Processing with text only...\n"
     ]
    },
    {
     "name": "stderr",
     "output_type": "stream",
     "text": [
      " 71%|███████   | 212/300 [10:25<04:43,  3.22s/it]"
     ]
    },
    {
     "name": "stdout",
     "output_type": "stream",
     "text": [
      "Femara, a medication used for certain medical conditions, can lead to physical adverse effects such as joint pain, muscle weakness, tiredness, and back-ache.\n",
      "Processing with text only...\n"
     ]
    },
    {
     "name": "stderr",
     "output_type": "stream",
     "text": [
      " 71%|███████   | 213/300 [10:27<04:11,  2.89s/it]"
     ]
    },
    {
     "name": "stdout",
     "output_type": "stream",
     "text": [
      "Femara and Co-Codamol may cause physical adverse effects including headaches, backache, and fatigue.\n",
      "Processing with text only...\n"
     ]
    },
    {
     "name": "stderr",
     "output_type": "stream",
     "text": [
      " 71%|███████▏  | 214/300 [10:31<04:14,  2.97s/it]"
     ]
    },
    {
     "name": "stdout",
     "output_type": "stream",
     "text": [
      "Letrozole, a medication commonly used in the treatment of breast cancer, may cause physical adverse effects such as fast heart beating, requiring careful monitoring for appropriate patient care.\n",
      "Processing with text only...\n"
     ]
    },
    {
     "name": "stderr",
     "output_type": "stream",
     "text": [
      " 72%|███████▏  | 215/300 [10:34<04:31,  3.19s/it]"
     ]
    },
    {
     "name": "stdout",
     "output_type": "stream",
     "text": [
      "Letrozole may cause lower back pain as a potential adverse drug reaction. Additionally, cod liver oil, vitamin D, and glucosamine have been associated with lower back pain in some individuals.\n",
      "Processing with text only...\n"
     ]
    },
    {
     "name": "stderr",
     "output_type": "stream",
     "text": [
      " 72%|███████▏  | 216/300 [10:37<04:11,  3.00s/it]"
     ]
    },
    {
     "name": "stdout",
     "output_type": "stream",
     "text": [
      "Letrozole is a medication commonly used for certain types of breast cancer treatment, but it can cause adverse effects such as joint pain.\n",
      "Processing with text only...\n"
     ]
    },
    {
     "name": "stderr",
     "output_type": "stream",
     "text": [
      " 72%|███████▏  | 217/300 [10:39<03:50,  2.78s/it]"
     ]
    },
    {
     "name": "stdout",
     "output_type": "stream",
     "text": [
      "Letrazole, cod liver oil, and calcium can sometimes cause slight aches in leg joints as potential adverse physical effects.\n",
      "Processing with text only...\n"
     ]
    },
    {
     "name": "stderr",
     "output_type": "stream",
     "text": [
      " 73%|███████▎  | 218/300 [10:43<04:03,  2.97s/it]"
     ]
    },
    {
     "name": "stdout",
     "output_type": "stream",
     "text": [
      "Rituximab may cause flu-like symptoms, chronic fatigue, mouth ulcers, cystitis, aching joints, knee strain, muscle weakness, and diarrhea as potential adverse effects.\n",
      "Processing with text only...\n"
     ]
    },
    {
     "name": "stderr",
     "output_type": "stream",
     "text": [
      " 73%|███████▎  | 219/300 [10:45<03:34,  2.65s/it]"
     ]
    },
    {
     "name": "stdout",
     "output_type": "stream",
     "text": [
      "Rituximab is associated with adverse effects such as joint aches and mouth ulcers.\n",
      "Processing with text only...\n"
     ]
    },
    {
     "name": "stderr",
     "output_type": "stream",
     "text": [
      " 73%|███████▎  | 220/300 [10:48<03:51,  2.90s/it]"
     ]
    },
    {
     "name": "stdout",
     "output_type": "stream",
     "text": [
      "Rituximab is associated with a range of physical adverse effects, including tiredness, nausea, leg pain, clicking and hissing sensations in the ears, and night sweats.\n",
      "Processing with text only...\n"
     ]
    },
    {
     "name": "stderr",
     "output_type": "stream",
     "text": [
      " 74%|███████▎  | 221/300 [10:50<03:23,  2.57s/it]"
     ]
    },
    {
     "name": "stdout",
     "output_type": "stream",
     "text": [
      "Abiraterone is associated with a potential risk of developing water infections as a physical adverse effect.\n",
      "Processing with text only...\n"
     ]
    },
    {
     "name": "stderr",
     "output_type": "stream",
     "text": [
      " 74%|███████▍  | 222/300 [10:52<03:13,  2.48s/it]"
     ]
    },
    {
     "name": "stdout",
     "output_type": "stream",
     "text": [
      "Zolodex, Abiraterone, and Prednisolone may cause joint pains as potential adverse drug reactions.\n",
      "Processing with text only...\n"
     ]
    },
    {
     "name": "stderr",
     "output_type": "stream",
     "text": [
      " 74%|███████▍  | 223/300 [10:56<03:45,  2.92s/it]"
     ]
    },
    {
     "name": "stdout",
     "output_type": "stream",
     "text": [
      "Exemestane and letrozole may cause physical adverse effects such as swollen stiff fingers, locking of the little finger, soreness in the right hand, difficulty with hand movement, and reliance on a walking stick.\n",
      "Processing with text only...\n"
     ]
    },
    {
     "name": "stderr",
     "output_type": "stream",
     "text": [
      " 75%|███████▍  | 224/300 [10:59<03:34,  2.82s/it]"
     ]
    },
    {
     "name": "stdout",
     "output_type": "stream",
     "text": [
      "Letrozole and Domperidone can cause adverse physical effects including dry cough, wheezing, bad throat, and severe nausea.\n",
      "Processing with text only...\n"
     ]
    },
    {
     "name": "stderr",
     "output_type": "stream",
     "text": [
      " 75%|███████▌  | 225/300 [11:01<03:21,  2.69s/it]"
     ]
    },
    {
     "name": "stdout",
     "output_type": "stream",
     "text": [
      "Letrozole, omeprazole, calcium, and blood pressure tablets can cause dry cough as a potential adverse effect.\n",
      "Processing with text only...\n"
     ]
    },
    {
     "name": "stderr",
     "output_type": "stream",
     "text": [
      " 75%|███████▌  | 226/300 [11:03<03:13,  2.62s/it]"
     ]
    },
    {
     "name": "stdout",
     "output_type": "stream",
     "text": [
      "Ramipril, a medication commonly used to treat high blood pressure and heart conditions, may cause adverse effects such as a dry cough.\n",
      "Processing with text only...\n"
     ]
    },
    {
     "name": "stderr",
     "output_type": "stream",
     "text": [
      " 76%|███████▌  | 227/300 [11:08<03:50,  3.16s/it]"
     ]
    },
    {
     "name": "stdout",
     "output_type": "stream",
     "text": [
      "Letrozole and anastrozole are commonly used anti-estrogenic drugs that may cause various adverse physical effects including joint pain, bone pain, muscle pain, and stiffness in the legs, knees, hips, and thighs.\n",
      "Processing with text only...\n"
     ]
    },
    {
     "name": "stderr",
     "output_type": "stream",
     "text": [
      " 76%|███████▌  | 228/300 [11:11<03:41,  3.07s/it]"
     ]
    },
    {
     "name": "stdout",
     "output_type": "stream",
     "text": [
      "Tamoxifen is a medication used for treating breast cancer, but it can also cause adverse effects such as bone pain, joint pain, and jaw aches.\n",
      "Processing with text only...\n"
     ]
    },
    {
     "name": "stderr",
     "output_type": "stream",
     "text": [
      " 76%|███████▋  | 229/300 [11:12<03:06,  2.62s/it]"
     ]
    },
    {
     "name": "stdout",
     "output_type": "stream",
     "text": [
      "Tamoxifen may cause adverse effects including aching in the jaw and joint pain.\n",
      "Processing with text only...\n"
     ]
    },
    {
     "name": "stderr",
     "output_type": "stream",
     "text": [
      " 77%|███████▋  | 230/300 [11:15<03:10,  2.72s/it]"
     ]
    },
    {
     "name": "stdout",
     "output_type": "stream",
     "text": [
      "Keytruda may cause higher than normal temperatures, joint aches, itching, appetite loss, and minor pain on the right side as adverse effects.\n",
      "Processing with text only...\n"
     ]
    },
    {
     "name": "stderr",
     "output_type": "stream",
     "text": [
      " 77%|███████▋  | 231/300 [11:17<02:56,  2.56s/it]"
     ]
    },
    {
     "name": "stdout",
     "output_type": "stream",
     "text": [
      "Pembrolizumab is a cancer treatment that can cause various adverse effects, including headache.\n",
      "Processing with text only...\n"
     ]
    },
    {
     "name": "stderr",
     "output_type": "stream",
     "text": [
      " 77%|███████▋  | 232/300 [11:21<03:06,  2.74s/it]"
     ]
    },
    {
     "name": "stdout",
     "output_type": "stream",
     "text": [
      "Pembrolizumab, also known as Keytruda, can cause various adverse effects including loss of appetite, tiredness, and itchiness.\n",
      "Processing with text only...\n"
     ]
    },
    {
     "name": "stderr",
     "output_type": "stream",
     "text": [
      " 78%|███████▊  | 234/300 [11:24<02:31,  2.30s/it]"
     ]
    },
    {
     "name": "stdout",
     "output_type": "stream",
     "text": [
      "Aspirin can cause adverse effects such as sweating, hot flushes, lightheadedness, and faintness, while tamoxifen may also produce similar symptoms.\n",
      "Processing with text and images...\n"
     ]
    },
    {
     "name": "stderr",
     "output_type": "stream",
     "text": [
      " 79%|███████▉  | 238/300 [11:27<01:27,  1.42s/it]"
     ]
    },
    {
     "name": "stdout",
     "output_type": "stream",
     "text": [
      "Antibiotics may cause various adverse effects including infections, fluid build-up, hot and inflamed breasts, and menopausal flushes.\n",
      "Processing with text only...\n"
     ]
    },
    {
     "name": "stderr",
     "output_type": "stream",
     "text": [
      " 80%|███████▉  | 239/300 [11:31<01:48,  1.77s/it]"
     ]
    },
    {
     "name": "stdout",
     "output_type": "stream",
     "text": [
      "Afatinib and Osimertinib can cause rash, hair changes characterized by thicker and curly patches, as well as constipation. Additionally, patients may experience a decrease in running performance.\n",
      "Processing with text only...\n"
     ]
    },
    {
     "name": "stderr",
     "output_type": "stream",
     "text": [
      " 80%|████████  | 240/300 [11:36<02:24,  2.41s/it]"
     ]
    },
    {
     "name": "stdout",
     "output_type": "stream",
     "text": [
      "The drug Pembro, along with its potential side effect of pneumonitis, may cause a range of physical adverse effects including fever, diarrhea, loss of appetite, and weakness, as well as the possibility of experiencing pneumonitis. Steroids can exacerbate these symptoms.\n",
      "Processing with text only...\n"
     ]
    },
    {
     "name": "stderr",
     "output_type": "stream",
     "text": [
      " 80%|████████  | 241/300 [11:40<02:43,  2.76s/it]"
     ]
    },
    {
     "name": "stdout",
     "output_type": "stream",
     "text": [
      "Tamoxifen and Letrozole can cause various adverse physical effects, including foggy head, headache, disorientation, loss of balance, extreme bone pain, muscle pain, vaginal dryness, and itchiness.\n",
      "Processing with text only...\n"
     ]
    },
    {
     "name": "stderr",
     "output_type": "stream",
     "text": [
      " 81%|████████  | 242/300 [11:41<02:24,  2.49s/it]"
     ]
    },
    {
     "name": "stdout",
     "output_type": "stream",
     "text": [
      "Sutent may cause tiredness and pain from tumours as adverse drug reactions.\n",
      "Processing with text only...\n"
     ]
    },
    {
     "name": "stderr",
     "output_type": "stream",
     "text": [
      " 81%|████████  | 243/300 [11:44<02:23,  2.52s/it]"
     ]
    },
    {
     "name": "stdout",
     "output_type": "stream",
     "text": [
      "Sorafenib, a targeted therapy for certain types of cancer, can cause adverse physical effects including nausea, diarrhea, and constipation.\n",
      "Processing with text only...\n"
     ]
    },
    {
     "name": "stderr",
     "output_type": "stream",
     "text": [
      " 81%|████████▏ | 244/300 [11:46<02:11,  2.35s/it]"
     ]
    },
    {
     "name": "stdout",
     "output_type": "stream",
     "text": [
      "Sorafenib is a cancer treatment that can cause physical adverse effects including nausea and diarrhea.\n",
      "Processing with text only...\n"
     ]
    },
    {
     "name": "stderr",
     "output_type": "stream",
     "text": [
      " 82%|████████▏ | 245/300 [11:48<02:08,  2.33s/it]"
     ]
    },
    {
     "name": "stdout",
     "output_type": "stream",
     "text": [
      "Durvalumab may cause physical adverse effects such as tiredness, psoriasis, chest pain, and cough.\n",
      "Processing with text only...\n"
     ]
    },
    {
     "name": "stderr",
     "output_type": "stream",
     "text": [
      " 82%|████████▏ | 246/300 [11:51<02:08,  2.37s/it]"
     ]
    },
    {
     "name": "stdout",
     "output_type": "stream",
     "text": [
      "Tamoxifen and Hormone Replacement Therapy (HRT) are both medications associated with potential adverse effects, including achy joints.\n",
      "Processing with text only...\n"
     ]
    },
    {
     "name": "stderr",
     "output_type": "stream",
     "text": [
      " 82%|████████▏ | 247/300 [11:54<02:23,  2.72s/it]"
     ]
    },
    {
     "name": "stdout",
     "output_type": "stream",
     "text": [
      "Anastrozole, Exemestane, and alendronic acid may cause adverse effects including height loss, back pain, hip pain, hand aches, and aching joints.\n",
      "Processing with text only...\n"
     ]
    },
    {
     "name": "stderr",
     "output_type": "stream",
     "text": [
      " 83%|████████▎ | 249/300 [11:57<01:53,  2.22s/it]"
     ]
    },
    {
     "name": "stdout",
     "output_type": "stream",
     "text": [
      "Tagrisso, Osimertinib, Gefitinib (Iressa), and other targeted therapies may cause severe lack of appetite and can affect the nails.\n",
      "Processing with text only...\n"
     ]
    },
    {
     "name": "stderr",
     "output_type": "stream",
     "text": [
      " 83%|████████▎ | 250/300 [12:06<03:09,  3.78s/it]"
     ]
    },
    {
     "name": "stdout",
     "output_type": "stream",
     "text": [
      "Tagrisso may cause side effects such as bouts of diarrhea, frequent nausea, loss of appetite, a bad taste in the mouth, hair loss, broken fingernails, and extreme tiredness. Additionally, patients should be aware that Loperamide, commonly used to treat diarrhea, can also lead to similar symptoms including frequent nausea and loss of appetite. Paracetamol, typically prescribed for pain and fever management, might contribute to bad taste in the mouth.\n",
      "Processing with text only...\n"
     ]
    },
    {
     "name": "stderr",
     "output_type": "stream",
     "text": [
      " 84%|████████▍ | 253/300 [12:08<01:43,  2.19s/it]"
     ]
    },
    {
     "name": "stdout",
     "output_type": "stream",
     "text": [
      "Prembo, a specific medication, has been reported to cause joint pain as one of its adverse effects.\n",
      "Processing with text only...\n"
     ]
    },
    {
     "name": "stderr",
     "output_type": "stream",
     "text": [
      " 85%|████████▍ | 254/300 [12:11<01:50,  2.41s/it]"
     ]
    },
    {
     "name": "stdout",
     "output_type": "stream",
     "text": [
      "Pembrolizumab, also known as Keytruda, and epacadostat can lead to disturbing itch on the skin as a physical adverse effect.\n",
      "Processing with text only...\n"
     ]
    },
    {
     "name": "stderr",
     "output_type": "stream",
     "text": [
      " 85%|████████▌ | 255/300 [12:15<02:00,  2.69s/it]"
     ]
    },
    {
     "name": "stdout",
     "output_type": "stream",
     "text": [
      "The drug Dab has severe adverse effects including severe rigors where temperatures can reach as high as 40°C, flu-like symptoms, constant nausea, and uncontrollable shaking episodes.\n",
      "Processing with text only...\n"
     ]
    },
    {
     "name": "stderr",
     "output_type": "stream",
     "text": [
      " 85%|████████▌ | 256/300 [12:18<01:58,  2.69s/it]"
     ]
    },
    {
     "name": "stdout",
     "output_type": "stream",
     "text": [
      "Votrient and morphine may cause severe adverse effects including facial hair becoming completely white and causing the mouth to become very dry and sore.\n",
      "Processing with text only...\n"
     ]
    },
    {
     "name": "stderr",
     "output_type": "stream",
     "text": [
      " 86%|████████▌ | 257/300 [12:21<01:59,  2.77s/it]"
     ]
    },
    {
     "name": "stdout",
     "output_type": "stream",
     "text": [
      "Kadcyla, Herceptin, and Perjeta can cause various adverse effects including tiredness, muscle pain, bone pain, and nails lifting.\n",
      "Processing with text and images...\n"
     ]
    },
    {
     "name": "stderr",
     "output_type": "stream",
     "text": [
      " 86%|████████▌ | 258/300 [12:25<02:15,  3.23s/it]"
     ]
    },
    {
     "name": "stdout",
     "output_type": "stream",
     "text": [
      "Kadcyla, docetaxel, Herceptin, Perjeta, and denosumab can cause various adverse physical effects including tiredness, muscle pain, joint pain, and neuropathy.\n",
      "Processing with text only...\n"
     ]
    },
    {
     "name": "stderr",
     "output_type": "stream",
     "text": [
      " 86%|████████▋ | 259/300 [12:28<02:04,  3.05s/it]"
     ]
    },
    {
     "name": "stdout",
     "output_type": "stream",
     "text": [
      "Niraparib, a medication used for certain types of cancer treatment, is associated with adverse physical effects including nausea and fatigue.\n",
      "Processing with text only...\n"
     ]
    },
    {
     "name": "stderr",
     "output_type": "stream",
     "text": [
      " 87%|████████▋ | 260/300 [12:32<02:11,  3.28s/it]"
     ]
    },
    {
     "name": "stdout",
     "output_type": "stream",
     "text": [
      "The drug Letrozole, marketed by Cipla, Activis, Teva, and Manx under the brand name Femera, has been reported to cause painful hands as a physical adverse reaction.\n",
      "Processing with text only...\n"
     ]
    },
    {
     "name": "stderr",
     "output_type": "stream",
     "text": [
      " 87%|████████▋ | 262/300 [12:35<01:37,  2.57s/it]"
     ]
    },
    {
     "name": "stdout",
     "output_type": "stream",
     "text": [
      "Alectinib, a targeted therapy used to treat certain types of lung cancer, is associated with various adverse drug reactions, including fatigue, skin irritation, and minor constipation.\n",
      "Processing with text only...\n"
     ]
    },
    {
     "name": "stderr",
     "output_type": "stream",
     "text": [
      " 88%|████████▊ | 263/300 [12:36<01:24,  2.29s/it]"
     ]
    },
    {
     "name": "stdout",
     "output_type": "stream",
     "text": [
      "Alectinib is associated with the adverse physical effect of constipation.\n",
      "Processing with text only...\n"
     ]
    },
    {
     "name": "stderr",
     "output_type": "stream",
     "text": [
      " 88%|████████▊ | 264/300 [12:40<01:37,  2.71s/it]"
     ]
    },
    {
     "name": "stdout",
     "output_type": "stream",
     "text": [
      "Alectinib may cause constipation as a potential side effect, requiring patients to manage their symptoms with measures such as ensuring adequate fluid intake and using mild laxatives like milk of magnesia if necessary.\n",
      "Processing with text only...\n"
     ]
    },
    {
     "name": "stderr",
     "output_type": "stream",
     "text": [
      " 88%|████████▊ | 265/300 [12:42<01:25,  2.44s/it]"
     ]
    },
    {
     "name": "stdout",
     "output_type": "stream",
     "text": [
      "Tecentriq may cause dry mouth and loss of taste as potential side effects.\n",
      "Processing with text and images...\n"
     ]
    },
    {
     "name": "stderr",
     "output_type": "stream",
     "text": [
      " 89%|████████▉ | 267/300 [12:45<01:09,  2.11s/it]"
     ]
    },
    {
     "name": "stdout",
     "output_type": "stream",
     "text": [
      "Aldara, also known as Imiquimod, may cause physical adverse effects such as inflammation, burning, itching, flu-like symptoms, headache, and diarrhea.\n",
      "Processing with text only...\n"
     ]
    },
    {
     "name": "stderr",
     "output_type": "stream",
     "text": [
      " 89%|████████▉ | 268/300 [12:51<01:30,  2.82s/it]"
     ]
    },
    {
     "name": "stdout",
     "output_type": "stream",
     "text": [
      "Carboplatin can cause a metallic taste as a side effect, while Ondansetron may lead to constipation. Domperidone is also associated with constipation as an adverse reaction, and Dulcolax is known for causing constipation as well.\n",
      "Processing with text only...\n"
     ]
    },
    {
     "name": "stderr",
     "output_type": "stream",
     "text": [
      " 90%|████████▉ | 269/300 [12:52<01:17,  2.50s/it]"
     ]
    },
    {
     "name": "stdout",
     "output_type": "stream",
     "text": [
      "Aldara cream may cause flu-like symptoms as a potential adverse reaction.\n",
      "Processing with text only...\n"
     ]
    },
    {
     "name": "stderr",
     "output_type": "stream",
     "text": [
      " 90%|█████████ | 270/300 [12:54<01:12,  2.41s/it]"
     ]
    },
    {
     "name": "stdout",
     "output_type": "stream",
     "text": [
      "Femara (Letrozole) can cause severe pain in hands and general stiffness as adverse effects.\n",
      "Processing with text and images...\n"
     ]
    },
    {
     "name": "stderr",
     "output_type": "stream",
     "text": [
      " 90%|█████████ | 271/300 [12:57<01:16,  2.63s/it]"
     ]
    },
    {
     "name": "stdout",
     "output_type": "stream",
     "text": [
      "Femara (letrozole) can cause various adverse effects including fatigue, knee pain, pain on sitting down, and dripping nose.\n",
      "Processing with text only...\n"
     ]
    },
    {
     "name": "stderr",
     "output_type": "stream",
     "text": [
      " 91%|█████████ | 272/300 [13:01<01:19,  2.85s/it]"
     ]
    },
    {
     "name": "stdout",
     "output_type": "stream",
     "text": [
      "Femara, glucosamine, cod liver oil, and vitamin D can cause a variety of physical adverse effects including aches and pains, specifically sitting bone pain and sacrum pain.\n",
      "Processing with text only...\n"
     ]
    },
    {
     "name": "stderr",
     "output_type": "stream",
     "text": [
      " 91%|█████████ | 273/300 [13:03<01:08,  2.53s/it]"
     ]
    },
    {
     "name": "stdout",
     "output_type": "stream",
     "text": [
      "Femara (Letrozole) can cause joint pain as a physical adverse effect.\n",
      "Processing with text only...\n"
     ]
    },
    {
     "name": "stderr",
     "output_type": "stream",
     "text": [
      " 91%|█████████▏| 274/300 [13:04<00:59,  2.28s/it]"
     ]
    },
    {
     "name": "stdout",
     "output_type": "stream",
     "text": [
      "Zolendronic Acid can cause tiredness and aches as potential physical adverse effects.\n",
      "Processing with text only...\n"
     ]
    },
    {
     "name": "stderr",
     "output_type": "stream",
     "text": [
      " 92%|█████████▏| 275/300 [13:11<01:26,  3.48s/it]"
     ]
    },
    {
     "name": "stdout",
     "output_type": "stream",
     "text": [
      "Letrozole, a selective aromatase inhibitor used for managing breast cancer, can cause physical adverse effects such as hot flushes and tenderness in the breasts. Another medication, Sertraline, an antidepressant commonly prescribed for depression, may also result in hot flushes as a side effect.\n",
      "Processing with text only...\n"
     ]
    },
    {
     "name": "stderr",
     "output_type": "stream",
     "text": [
      " 92%|█████████▏| 276/300 [13:14<01:21,  3.39s/it]"
     ]
    },
    {
     "name": "stdout",
     "output_type": "stream",
     "text": [
      "Letrozole and Sertraline may cause physical adverse effects such as trigger thumbs and aches and pains in the breast area.\n",
      "Processing with text only...\n"
     ]
    },
    {
     "name": "stderr",
     "output_type": "stream",
     "text": [
      " 92%|█████████▏| 277/300 [13:18<01:25,  3.71s/it]"
     ]
    },
    {
     "name": "stdout",
     "output_type": "stream",
     "text": [
      "Anastrozole, Exemestane, and Everolimus are commonly prescribed medications that can cause various adverse effects, including sore mouth and dry mouth as well as mild stomach upset.\n",
      "Processing with text only...\n"
     ]
    },
    {
     "name": "stderr",
     "output_type": "stream",
     "text": [
      " 93%|█████████▎| 278/300 [13:24<01:32,  4.22s/it]"
     ]
    },
    {
     "name": "stdout",
     "output_type": "stream",
     "text": [
      "Palbociclib, a medication used for certain types of cancer treatment, has been associated with a physical adverse effect of hair thinning, which patients should be aware of as part of its potential side effects.\n",
      "Processing with text only...\n"
     ]
    },
    {
     "name": "stderr",
     "output_type": "stream",
     "text": [
      " 93%|█████████▎| 279/300 [13:26<01:13,  3.51s/it]"
     ]
    },
    {
     "name": "stdout",
     "output_type": "stream",
     "text": [
      "Palbo can cause physical adverse effects such as hair snapping off and thinning.\n",
      "Processing with text only...\n"
     ]
    },
    {
     "name": "stderr",
     "output_type": "stream",
     "text": [
      " 93%|█████████▎| 280/300 [13:28<01:01,  3.06s/it]"
     ]
    },
    {
     "name": "stdout",
     "output_type": "stream",
     "text": [
      "Palbo can cause thinning hair and reduced ponytail thickness as potential physical adverse effects.\n",
      "Processing with text only...\n"
     ]
    },
    {
     "name": "stderr",
     "output_type": "stream",
     "text": [
      " 94%|█████████▍| 282/300 [13:32<00:46,  2.58s/it]"
     ]
    },
    {
     "name": "stdout",
     "output_type": "stream",
     "text": [
      "Zopiclone is known to cause a range of adverse effects including dizziness, tiredness, nausea, coughing, sweating, and a dull ache in the upper abdomen.\n",
      "Processing with text only...\n"
     ]
    },
    {
     "name": "stderr",
     "output_type": "stream",
     "text": [
      " 94%|█████████▍| 283/300 [13:34<00:43,  2.59s/it]"
     ]
    },
    {
     "name": "stdout",
     "output_type": "stream",
     "text": [
      "Zopiclone, a medication often prescribed for sleep disorders, may cause physical adverse effects such as tiredness.\n",
      "Processing with text only...\n"
     ]
    },
    {
     "name": "stderr",
     "output_type": "stream",
     "text": [
      " 95%|█████████▍| 284/300 [13:40<00:53,  3.35s/it]"
     ]
    },
    {
     "name": "stdout",
     "output_type": "stream",
     "text": [
      "Paracetamol, morphine, codeine, ibuprofen, and tramadol can cause various adverse effects including pain below the ribs, night sweats, headaches, migraines, gassiness, and discomfort at the site of an incision.\n",
      "Processing with text only...\n"
     ]
    },
    {
     "name": "stderr",
     "output_type": "stream",
     "text": [
      " 95%|█████████▌| 285/300 [13:44<00:54,  3.63s/it]"
     ]
    },
    {
     "name": "stdout",
     "output_type": "stream",
     "text": [
      "Sando is an anti-nausea medication known for providing strong pain relief but can cause significant adverse effects including dreadful nausea, headaches, runny nose, and a strong urge to be near a toilet.\n",
      "Processing with text only...\n"
     ]
    },
    {
     "name": "stderr",
     "output_type": "stream",
     "text": [
      " 95%|█████████▌| 286/300 [13:48<00:50,  3.59s/it]"
     ]
    },
    {
     "name": "stdout",
     "output_type": "stream",
     "text": [
      "Pembrolizumab (pembro), interferon, and thyroxine can cause various side effects, including hair loss as a potential adverse effect.\n",
      "Processing with text only...\n"
     ]
    },
    {
     "name": "stderr",
     "output_type": "stream",
     "text": [
      " 96%|█████████▌| 287/300 [13:51<00:46,  3.59s/it]"
     ]
    },
    {
     "name": "stdout",
     "output_type": "stream",
     "text": [
      "Pembro, also known as Pembrolizumab, is associated with potential adverse effects including a widespread rash that can cover the entire body, although it does not specifically mention affecting freckles.\n",
      "Processing with text only...\n"
     ]
    },
    {
     "name": "stderr",
     "output_type": "stream",
     "text": [
      " 96%|█████████▌| 288/300 [13:53<00:36,  3.04s/it]"
     ]
    },
    {
     "name": "stdout",
     "output_type": "stream",
     "text": [
      "Pembrolizumab is associated with muscle soreness as a physical adverse effect.\n",
      "Processing with text only...\n"
     ]
    },
    {
     "name": "stderr",
     "output_type": "stream",
     "text": [
      " 96%|█████████▋| 289/300 [13:56<00:34,  3.15s/it]"
     ]
    },
    {
     "name": "stdout",
     "output_type": "stream",
     "text": [
      "Ixazomib, also known as Lenalidomide (Revlimid), and Dexamethasone (Dex) can cause physical adverse effects including intestinal side effects.\n",
      "Processing with text only...\n"
     ]
    },
    {
     "name": "stderr",
     "output_type": "stream",
     "text": [
      " 97%|█████████▋| 290/300 [13:58<00:28,  2.87s/it]"
     ]
    },
    {
     "name": "stdout",
     "output_type": "stream",
     "text": [
      "Nivolumab (Opdivo) and steroids may cause serious adverse effects such as breathlessness and tiredness.\n",
      "Processing with text only...\n"
     ]
    },
    {
     "name": "stderr",
     "output_type": "stream",
     "text": [
      " 97%|█████████▋| 291/300 [14:02<00:26,  2.94s/it]"
     ]
    },
    {
     "name": "stdout",
     "output_type": "stream",
     "text": [
      "Letrozole, Arimidex, Exemestane, Tamoxifen, and Femara may cause physical adverse effects such as stiffness, ache, and headaches.\n",
      "Processing with text and images...\n"
     ]
    },
    {
     "name": "stderr",
     "output_type": "stream",
     "text": [
      " 97%|█████████▋| 292/300 [14:08<00:32,  4.06s/it]"
     ]
    },
    {
     "name": "stdout",
     "output_type": "stream",
     "text": [
      "Cabozantinib administration can lead to various adverse effects, including soreness in the mouth, swelling of the feet, cuts on the feet, skin on the legs becoming dry and cracking like leather, swelling of the legs, and red, raw, and bleeding skin on the buttocks and around the anus, as depicted in the accompanying images (a-g).\n",
      "Processing with text only...\n"
     ]
    },
    {
     "name": "stderr",
     "output_type": "stream",
     "text": [
      " 98%|█████████▊| 293/300 [14:10<00:23,  3.42s/it]"
     ]
    },
    {
     "name": "stdout",
     "output_type": "stream",
     "text": [
      "Cabozantinib is associated with various adverse drug reactions, including vomiting as a physical side effect.\n",
      "Processing with text and images...\n"
     ]
    },
    {
     "name": "stderr",
     "output_type": "stream",
     "text": [
      " 98%|█████████▊| 294/300 [14:16<00:24,  4.14s/it]"
     ]
    },
    {
     "name": "stdout",
     "output_type": "stream",
     "text": [
      "The image depicts a person's mouth with visible gum bleeding, possibly due to an adverse effect of lactulose, a medication often used for managing constipation; however, the symptoms could also be related to diprobase and Aveeno, which may cause nausea and burns on the neck as side effects.\n",
      "Processing with text only...\n"
     ]
    },
    {
     "name": "stderr",
     "output_type": "stream",
     "text": [
      " 98%|█████████▊| 295/300 [14:19<00:19,  3.88s/it]"
     ]
    },
    {
     "name": "stdout",
     "output_type": "stream",
     "text": [
      "MST, metoclopramide, lactulose, senna, diprobase, and betnovate can all cause constipation as a side effect of their use.\n",
      "Processing with text only...\n"
     ]
    },
    {
     "name": "stderr",
     "output_type": "stream",
     "text": [
      " 99%|█████████▊| 296/300 [14:21<00:12,  3.19s/it]"
     ]
    },
    {
     "name": "stdout",
     "output_type": "stream",
     "text": [
      "Carboplatin and Taxel may cause hair loss as a significant adverse effect.\n",
      "Processing with text only...\n"
     ]
    },
    {
     "name": "stderr",
     "output_type": "stream",
     "text": [
      " 99%|█████████▉| 297/300 [14:25<00:10,  3.41s/it]"
     ]
    },
    {
     "name": "stdout",
     "output_type": "stream",
     "text": [
      "Carb (a potential abbreviation for carboplatin) and Taxol (paclitaxel) are both chemotherapy agents that can lead to serious adverse effects, including hair loss as a physical manifestation of their treatment.\n",
      "Processing with text only...\n"
     ]
    },
    {
     "name": "stderr",
     "output_type": "stream",
     "text": [
      " 99%|█████████▉| 298/300 [14:27<00:05,  2.99s/it]"
     ]
    },
    {
     "name": "stdout",
     "output_type": "stream",
     "text": [
      "Taxol may cause severe adverse effects including leg pain, numbness in fingers, and numbness in toes.\n",
      "Processing with text only...\n"
     ]
    },
    {
     "name": "stderr",
     "output_type": "stream",
     "text": [
      "100%|█████████▉| 299/300 [14:30<00:03,  3.04s/it]"
     ]
    },
    {
     "name": "stdout",
     "output_type": "stream",
     "text": [
      "Co-codamol, a commonly prescribed medication for pain relief and cough suppression, has been reported to cause discomfort in the lower abdomen as one of its adverse drug reactions.\n",
      "Processing with text only...\n"
     ]
    },
    {
     "name": "stderr",
     "output_type": "stream",
     "text": [
      "100%|██████████| 300/300 [14:34<00:00,  2.91s/it]\n"
     ]
    },
    {
     "name": "stdout",
     "output_type": "stream",
     "text": [
      "Cape and morphine can cause a range of adverse effects, including pain in the scar area, fatigue, dry mouth, indigestion, constipation, muscle weakness in the legs, and dizziness.\n"
     ]
    },
    {
     "name": "stderr",
     "output_type": "stream",
     "text": [
      "  0%|          | 0/300 [00:00<?, ?it/s]"
     ]
    },
    {
     "name": "stdout",
     "output_type": "stream",
     "text": [
      "Processing with text only...\n"
     ]
    },
    {
     "name": "stderr",
     "output_type": "stream",
     "text": [
      "  1%|          | 3/300 [00:03<06:22,  1.29s/it]"
     ]
    },
    {
     "name": "stdout",
     "output_type": "stream",
     "text": [
      "Tamoxifen and aromatase inhibitors, such as those used in the treatment of certain cancers, can lead to non-physical adverse effects like anxiety due to concerns about their potential link to uterine cancer.\n",
      "Processing with text only...\n"
     ]
    },
    {
     "name": "stderr",
     "output_type": "stream",
     "text": [
      "  2%|▏         | 6/300 [00:06<04:46,  1.03it/s]"
     ]
    },
    {
     "name": "stdout",
     "output_type": "stream",
     "text": [
      "Percoset and Taxotere can cause non-physical adverse effects such as terrible night terrors and dizziness.\n",
      "Processing with text only...\n"
     ]
    },
    {
     "name": "stderr",
     "output_type": "stream",
     "text": [
      "  3%|▎         | 8/300 [00:07<04:35,  1.06it/s]"
     ]
    },
    {
     "name": "stdout",
     "output_type": "stream",
     "text": [
      "Augmentin may cause non-physical adverse effects such as depression, frustration, and disappointment.\n",
      "Processing with text and images...\n"
     ]
    },
    {
     "name": "stderr",
     "output_type": "stream",
     "text": [
      "  4%|▍         | 12/300 [00:11<04:11,  1.14it/s]"
     ]
    },
    {
     "name": "stdout",
     "output_type": "stream",
     "text": [
      "The patient, who received antibiotics and applied Aquaphor ointment, experienced non-physical adverse effects such as fear, feelings of isolation, and emotional distress.\n",
      "Processing with text only...\n"
     ]
    },
    {
     "name": "stderr",
     "output_type": "stream",
     "text": [
      "  4%|▍         | 13/300 [00:13<04:57,  1.04s/it]"
     ]
    },
    {
     "name": "stdout",
     "output_type": "stream",
     "text": [
      "Effexor is associated with non-physical adverse effects including depression, cognitive slowing, and spaciness.\n",
      "Processing with text only...\n"
     ]
    },
    {
     "name": "stderr",
     "output_type": "stream",
     "text": [
      "  5%|▌         | 15/300 [00:14<04:31,  1.05it/s]"
     ]
    },
    {
     "name": "stdout",
     "output_type": "stream",
     "text": [
      "Erbitux can cause non-physical adverse effects such as anxiety and fear.\n",
      "Processing with text only...\n"
     ]
    },
    {
     "name": "stderr",
     "output_type": "stream",
     "text": [
      "  6%|▌         | 17/300 [00:17<05:21,  1.14s/it]"
     ]
    },
    {
     "name": "stdout",
     "output_type": "stream",
     "text": [
      "Carboplatin and Taxol can cause patients to experience significant concern and anxiety regarding their cancer diagnosis, which may impact their emotional well-being and overall health outcomes during treatment.\n",
      "Processing with text only...\n"
     ]
    },
    {
     "name": "stderr",
     "output_type": "stream",
     "text": [
      "  6%|▌         | 18/300 [00:22<08:22,  1.78s/it]"
     ]
    },
    {
     "name": "stdout",
     "output_type": "stream",
     "text": [
      "The administration of Avastin, Lecovorin, Fluoracil, Oxy, and Regofenib can lead to significant non-physical adverse reactions such as loneliness, emotional distress, feelings of helplessness, and frustration for some patients.\n",
      "Processing with text only...\n"
     ]
    },
    {
     "name": "stderr",
     "output_type": "stream",
     "text": [
      "  7%|▋         | 20/300 [00:24<07:02,  1.51s/it]"
     ]
    },
    {
     "name": "stdout",
     "output_type": "stream",
     "text": [
      "Rotuxin and morphine may cause non-physical adverse effects such as memory issues and cognitive problems.\n",
      "Processing with text only...\n"
     ]
    },
    {
     "name": "stderr",
     "output_type": "stream",
     "text": [
      "  7%|▋         | 21/300 [00:30<11:07,  2.39s/it]"
     ]
    },
    {
     "name": "stdout",
     "output_type": "stream",
     "text": [
      "Cisplatin, a potent chemotherapy agent used for various cancers, can lead to treatment fatigue, which is a significant non-physical adverse effect experienced by many patients undergoing its treatment regimen. This condition involves extreme exhaustion and often impairs the patient's ability to perform daily activities, significantly affecting their quality of life during and after the treatment period.\n",
      "Processing with text and images...\n"
     ]
    },
    {
     "name": "stderr",
     "output_type": "stream",
     "text": [
      "  7%|▋         | 22/300 [00:38<16:20,  3.53s/it]"
     ]
    },
    {
     "name": "stdout",
     "output_type": "stream",
     "text": [
      "The patient received cisplatin for chemotherapy, experienced upset emotions due to the treatment's side effects, and felt worried about potential long-term health impacts. The topical application of viscous lidocaine relieved some discomfort but did not alleviate their fearful mindset. Additionally, the use of sucralfate aimed to reduce gastrointestinal distress, while Gelclair was administered to manage skin irritations caused by Nivolumab.\n",
      "Processing with text and images...\n"
     ]
    },
    {
     "name": "stderr",
     "output_type": "stream",
     "text": [
      "  8%|▊         | 24/300 [00:41<13:16,  2.88s/it]"
     ]
    },
    {
     "name": "stdout",
     "output_type": "stream",
     "text": [
      "Patients receiving chemotherapy with drugs like Carboplatin and Paclitaxel (Taxol) often experience non-physical adverse effects such as frustration and anxiety about their health and treatment progress.\n",
      "Processing with text only...\n"
     ]
    },
    {
     "name": "stderr",
     "output_type": "stream",
     "text": [
      "  9%|▉         | 28/300 [00:43<07:32,  1.66s/it]"
     ]
    },
    {
     "name": "stdout",
     "output_type": "stream",
     "text": [
      "Decadron can cause non-physical side effects such as feeling fuzzy, experiencing excessive sleepiness, and feeling tired.\n",
      "Processing with text only...\n"
     ]
    },
    {
     "name": "stderr",
     "output_type": "stream",
     "text": [
      " 10%|█         | 30/300 [00:46<07:03,  1.57s/it]"
     ]
    },
    {
     "name": "stdout",
     "output_type": "stream",
     "text": [
      "Anastrozole, commonly used to treat breast cancer, can cause non-physical adverse effects including irritability, among other possible side effects.\n",
      "Processing with text only...\n"
     ]
    },
    {
     "name": "stderr",
     "output_type": "stream",
     "text": [
      " 10%|█         | 31/300 [00:48<07:30,  1.67s/it]"
     ]
    },
    {
     "name": "stdout",
     "output_type": "stream",
     "text": [
      "Paracetamol, tramadol, and oral morphine can cause non-physical adverse effects such as head fog.\n",
      "Processing with text only...\n"
     ]
    },
    {
     "name": "stderr",
     "output_type": "stream",
     "text": [
      " 11%|█         | 32/300 [00:53<09:43,  2.18s/it]"
     ]
    },
    {
     "name": "stdout",
     "output_type": "stream",
     "text": [
      "Tamoxifen, a commonly prescribed anti-estrogen medication used to treat certain types of breast cancer, has been reported to cause non-physical side effects including insomnia, which can significantly impact patients' quality of life by disrupting sleep patterns.\n",
      "Processing with text only...\n"
     ]
    },
    {
     "name": "stderr",
     "output_type": "stream",
     "text": [
      " 13%|█▎        | 39/300 [00:55<03:37,  1.20it/s]"
     ]
    },
    {
     "name": "stdout",
     "output_type": "stream",
     "text": [
      "Patients receiving ipilimumab and nivolumab may experience non-physical adverse effects such as feeling overwhelmed.\n",
      "Processing with text only...\n"
     ]
    },
    {
     "name": "stderr",
     "output_type": "stream",
     "text": [
      " 14%|█▎        | 41/300 [00:58<04:38,  1.07s/it]"
     ]
    },
    {
     "name": "stdout",
     "output_type": "stream",
     "text": [
      "Tamoxifen, a medication commonly used for treating certain types of breast cancer, can sometimes cause non-physical adverse effects such as frustration among patients due to its potential impact on sexual function and mood.\n",
      "Processing with text only...\n"
     ]
    },
    {
     "name": "stderr",
     "output_type": "stream",
     "text": [
      " 14%|█▍        | 42/300 [01:01<05:27,  1.27s/it]"
     ]
    },
    {
     "name": "stdout",
     "output_type": "stream",
     "text": [
      "Zoladex, a medication used to manage certain types of cancer, can cause non-physical adverse effects such as anxiety.\n",
      "Processing with text only...\n"
     ]
    },
    {
     "name": "stderr",
     "output_type": "stream",
     "text": [
      " 14%|█▍        | 43/300 [01:03<05:49,  1.36s/it]"
     ]
    },
    {
     "name": "stdout",
     "output_type": "stream",
     "text": [
      "Zoladex and exemestane may cause non-physical adverse effects such as anxiety.\n",
      "Processing with text only...\n"
     ]
    },
    {
     "name": "stderr",
     "output_type": "stream",
     "text": [
      " 15%|█▍        | 44/300 [01:06<07:39,  1.80s/it]"
     ]
    },
    {
     "name": "stdout",
     "output_type": "stream",
     "text": [
      "Pembrolizumab and Nivolumab, both checkpoint inhibitors used in cancer therapy, may cause non-physical adverse effects including fatigue, often described as feeling \"at half speed.\"\n",
      "Processing with text only...\n"
     ]
    },
    {
     "name": "stderr",
     "output_type": "stream",
     "text": [
      " 15%|█▌        | 45/300 [01:08<07:50,  1.84s/it]"
     ]
    },
    {
     "name": "stdout",
     "output_type": "stream",
     "text": [
      "Nivolumab, a commonly prescribed medication, can cause tiredness as a non-physical adverse effect.\n",
      "Processing with text and images...\n"
     ]
    },
    {
     "name": "stderr",
     "output_type": "stream",
     "text": [
      " 16%|█▌        | 48/300 [01:12<06:17,  1.50s/it]"
     ]
    },
    {
     "name": "stdout",
     "output_type": "stream",
     "text": [
      "Patients undergoing treatment with docetaxel or steroids may experience non-physical adverse effects such as paranoia about cancer cells, which can significantly impact their quality of life during therapy.\n",
      "Processing with text only...\n"
     ]
    },
    {
     "name": "stderr",
     "output_type": "stream",
     "text": [
      " 17%|█▋        | 50/300 [01:14<06:07,  1.47s/it]"
     ]
    },
    {
     "name": "stdout",
     "output_type": "stream",
     "text": [
      "Docetaxel, Filgrastim, and Herceptin can all cause feelings of being floored or overwhelmed as non-physical adverse reactions.\n",
      "Processing with text only...\n"
     ]
    },
    {
     "name": "stderr",
     "output_type": "stream",
     "text": [
      " 17%|█▋        | 51/300 [01:17<07:03,  1.70s/it]"
     ]
    },
    {
     "name": "stdout",
     "output_type": "stream",
     "text": [
      "Letrozole and Ribociclib, both used for cancer treatment, can cause non-physical side effects such as tears and emotional distress.\n",
      "Processing with text only...\n"
     ]
    },
    {
     "name": "stderr",
     "output_type": "stream",
     "text": [
      " 17%|█▋        | 52/300 [01:20<08:25,  2.04s/it]"
     ]
    },
    {
     "name": "stdout",
     "output_type": "stream",
     "text": [
      "A patient using a steroid cream and antihistamines reported experiencing non-physical adverse effects, specifically feeling emotionally distressed by the inability to celebrate certain events and crying due to severe itching.\n",
      "Processing with text only...\n"
     ]
    },
    {
     "name": "stderr",
     "output_type": "stream",
     "text": [
      " 19%|█▉        | 57/300 [01:23<04:31,  1.12s/it]"
     ]
    },
    {
     "name": "stdout",
     "output_type": "stream",
     "text": [
      "Anti-sickness medications and steroids can sometimes lead to non-physical adverse effects such as tiredness and a sense of being unwell.\n",
      "Processing with text and images...\n"
     ]
    },
    {
     "name": "stderr",
     "output_type": "stream",
     "text": [
      " 20%|██        | 60/300 [01:25<04:01,  1.01s/it]"
     ]
    },
    {
     "name": "stdout",
     "output_type": "stream",
     "text": [
      "Zoladex can cause stress as a non-physical adverse effect, impacting the patient's mental well-being.\n",
      "Processing with text only...\n"
     ]
    },
    {
     "name": "stderr",
     "output_type": "stream",
     "text": [
      " 21%|██        | 62/300 [01:27<03:57,  1.00it/s]"
     ]
    },
    {
     "name": "stdout",
     "output_type": "stream",
     "text": [
      "The patient receiving Folfox therapy may experience non-physical adverse effects such as extra sensitivity to certain stimuli.\n",
      "Processing with text only...\n"
     ]
    },
    {
     "name": "stderr",
     "output_type": "stream",
     "text": [
      " 23%|██▎       | 68/300 [01:37<05:12,  1.35s/it]"
     ]
    },
    {
     "name": "stdout",
     "output_type": "stream",
     "text": [
      "Epirubicin, cyclophosphamide, docetaxel, and zoledronic acid are chemotherapy drugs that may cause a range of non-physical adverse effects including feeling extremely emotional, fluctuations between being positive and negative, which can occur alongside more common side effects such as those from steroids and anti-sickness tablets. Paracetamol, also known as acetaminophen, and filgrastin, an immunotherapy agent, do not typically produce these emotional fluctuations as primary side effects but are prescribed to manage other symptoms related to the underlying condition.\n",
      "Processing with text only...\n"
     ]
    },
    {
     "name": "stderr",
     "output_type": "stream",
     "text": [
      " 23%|██▎       | 70/300 [01:39<04:43,  1.23s/it]"
     ]
    },
    {
     "name": "stdout",
     "output_type": "stream",
     "text": [
      "Tagrisso may cause non-physical adverse effects such as feeling nervy.\n",
      "Processing with text only...\n"
     ]
    },
    {
     "name": "stderr",
     "output_type": "stream",
     "text": [
      " 26%|██▋       | 79/300 [01:42<02:48,  1.31it/s]"
     ]
    },
    {
     "name": "stdout",
     "output_type": "stream",
     "text": [
      "Oromorph, a medication prescribed for pain management, may also lead to non-physical adverse effects such as feeling more positive or optimistic, which can impact a patient's psychological well-being positively.\n",
      "Processing with text only...\n"
     ]
    },
    {
     "name": "stderr",
     "output_type": "stream",
     "text": [
      " 28%|██▊       | 83/300 [01:45<02:41,  1.34it/s]"
     ]
    },
    {
     "name": "stdout",
     "output_type": "stream",
     "text": [
      "Letrozole, Exemestane, and Loratadine can cause non-physical adverse effects such as feeling down and experiencing desperation.\n",
      "Processing with text only...\n"
     ]
    },
    {
     "name": "stderr",
     "output_type": "stream",
     "text": [
      " 28%|██▊       | 84/300 [01:52<04:34,  1.27s/it]"
     ]
    },
    {
     "name": "stdout",
     "output_type": "stream",
     "text": [
      "Exemestane, letrozole, and starflower oil can cause flushing and night sweats as non-physical adverse reactions. Additionally, magnesium and calcium supplements might exacerbate these symptoms, while taking Vitamin D and Vitamin K tablets could potentially alleviate them. Supplements like hemp oil and sage tablets may also interact with these reactions, but their effects are not clearly defined in the available literature.\n",
      "Processing with text only...\n"
     ]
    },
    {
     "name": "stderr",
     "output_type": "stream",
     "text": [
      " 28%|██▊       | 85/300 [01:55<05:07,  1.43s/it]"
     ]
    },
    {
     "name": "stdout",
     "output_type": "stream",
     "text": [
      "Pazopanib, a targeted therapy drug used for certain types of cancer treatment, can lead to non-physical adverse reactions such as worry.\n",
      "Processing with text only...\n"
     ]
    },
    {
     "name": "stderr",
     "output_type": "stream",
     "text": [
      " 29%|██▊       | 86/300 [01:59<06:20,  1.78s/it]"
     ]
    },
    {
     "name": "stdout",
     "output_type": "stream",
     "text": [
      "Sorafenib and Regorafenib, both used as cancer treatments, have been noted to have detrimental effects on patients' positive outlook and mood, impacting their overall mental well-being by reducing their uplifting and optimistic attitudes.\n",
      "Processing with text only...\n"
     ]
    },
    {
     "name": "stderr",
     "output_type": "stream",
     "text": [
      " 29%|██▉       | 87/300 [02:01<06:17,  1.77s/it]"
     ]
    },
    {
     "name": "stdout",
     "output_type": "stream",
     "text": [
      "Zolendronic acid is associated with non-physical adverse effects that include flu-like symptoms.\n",
      "Processing with text and images...\n"
     ]
    },
    {
     "name": "stderr",
     "output_type": "stream",
     "text": [
      " 31%|███       | 92/300 [02:06<04:44,  1.37s/it]"
     ]
    },
    {
     "name": "stdout",
     "output_type": "stream",
     "text": [
      "Docetaxel, Pertuzumab, Trastuzumab, and Denosumab are chemotherapeutic agents used in cancer treatment. While these medications are effective in treating various cancers, they can cause non-physical adverse effects such as shock.\n",
      "Processing with text only...\n"
     ]
    },
    {
     "name": "stderr",
     "output_type": "stream",
     "text": [
      " 32%|███▏      | 95/300 [02:08<03:57,  1.16s/it]"
     ]
    },
    {
     "name": "stdout",
     "output_type": "stream",
     "text": [
      "Keytruda (Pembrolizumab) may cause tiredness as a non-physical adverse effect.\n",
      "Processing with text only...\n"
     ]
    },
    {
     "name": "stderr",
     "output_type": "stream",
     "text": [
      " 32%|███▏      | 96/300 [02:12<05:23,  1.58s/it]"
     ]
    },
    {
     "name": "stdout",
     "output_type": "stream",
     "text": [
      "Paclitaxel, carboplatin, and Niraparib are cancer treatments that can lead to various non-physical adverse effects, including concerns about surgical trauma, worries about infections, and anxiety about potential side effects of the medication.\n",
      "Processing with text only...\n"
     ]
    },
    {
     "name": "stderr",
     "output_type": "stream",
     "text": [
      " 32%|███▏      | 97/300 [02:15<05:44,  1.70s/it]"
     ]
    },
    {
     "name": "stdout",
     "output_type": "stream",
     "text": [
      "Niraparib, a medication used to treat certain cancers, may cause non-physical adverse effects such as insomnia.\n",
      "Processing with text only...\n"
     ]
    },
    {
     "name": "stderr",
     "output_type": "stream",
     "text": [
      " 33%|███▎      | 100/300 [02:17<04:40,  1.40s/it]"
     ]
    },
    {
     "name": "stdout",
     "output_type": "stream",
     "text": [
      "Everolimus may cause non-physical adverse effects such as worrying about potential issues related to hip or pelvis replacement and a lack of optimism regarding these concerns.\n",
      "Processing with text and images...\n"
     ]
    },
    {
     "name": "stderr",
     "output_type": "stream",
     "text": [
      " 35%|███▍      | 104/300 [02:22<04:17,  1.31s/it]"
     ]
    },
    {
     "name": "stdout",
     "output_type": "stream",
     "text": [
      "Ixazomib, Lenalidomide, dexamethasone, and isatuzumab are used in cancer treatment, with anxiety often emerging as a non-physical adverse effect, implying a nerve-wracking experience for patients.\n",
      "Processing with text only...\n"
     ]
    },
    {
     "name": "stderr",
     "output_type": "stream",
     "text": [
      " 35%|███▌      | 106/300 [02:26<04:31,  1.40s/it]"
     ]
    },
    {
     "name": "stdout",
     "output_type": "stream",
     "text": [
      "Patients using Zoladex, Exemestane, and Emla cream may experience non-physical adverse effects such as feelings of being overwhelmed (\"I am a wimp\").\n",
      "Processing with text only...\n"
     ]
    },
    {
     "name": "stderr",
     "output_type": "stream",
     "text": [
      " 36%|███▋      | 109/300 [02:28<03:57,  1.24s/it]"
     ]
    },
    {
     "name": "stdout",
     "output_type": "stream",
     "text": [
      "Patients utilizing Capox, Xelox, or Folfox for cancer treatment may experience non-physical adverse effects such as feeling torn about their treatment options.\n",
      "Processing with text only...\n"
     ]
    },
    {
     "name": "stderr",
     "output_type": "stream",
     "text": [
      " 37%|███▋      | 110/300 [02:31<04:38,  1.46s/it]"
     ]
    },
    {
     "name": "stdout",
     "output_type": "stream",
     "text": [
      "Patients taking Zoladex and Exemestane may experience non-physical adverse effects including anxiety, feelings of being down, and drained of energy.\n",
      "Processing with text only...\n"
     ]
    },
    {
     "name": "stderr",
     "output_type": "stream",
     "text": [
      " 38%|███▊      | 113/300 [02:34<03:50,  1.24s/it]"
     ]
    },
    {
     "name": "stdout",
     "output_type": "stream",
     "text": [
      "Enzalutamide, a medication used for certain types of prostate cancer, may cause non-physical adverse effects such as memory loss.\n",
      "Processing with text only...\n"
     ]
    },
    {
     "name": "stderr",
     "output_type": "stream",
     "text": [
      " 38%|███▊      | 115/300 [02:37<04:07,  1.34s/it]"
     ]
    },
    {
     "name": "stdout",
     "output_type": "stream",
     "text": [
      "Letrozole, a commonly prescribed anti-estrogen medication for hormone-sensitive breast cancer treatment, may cause non-physical adverse effects such as brain fog, impacting cognitive functions.\n",
      "Processing with text only...\n"
     ]
    },
    {
     "name": "stderr",
     "output_type": "stream",
     "text": [
      " 39%|███▊      | 116/300 [02:39<04:33,  1.48s/it]"
     ]
    },
    {
     "name": "stdout",
     "output_type": "stream",
     "text": [
      "Letrazole is associated with non-physical adverse effects such as exhaustion, brain fog, daily crying, and emotional distress.\n",
      "Processing with text only...\n"
     ]
    },
    {
     "name": "stderr",
     "output_type": "stream",
     "text": [
      " 39%|███▉      | 117/300 [02:42<05:22,  1.76s/it]"
     ]
    },
    {
     "name": "stdout",
     "output_type": "stream",
     "text": [
      "Pertuzamab, trastuzumab, Zoledronic acid, and Anastrozole can cause non-physical adverse effects including difficulty walking.\n",
      "Processing with text only...\n"
     ]
    },
    {
     "name": "stderr",
     "output_type": "stream",
     "text": [
      " 39%|███▉      | 118/300 [02:44<05:16,  1.74s/it]"
     ]
    },
    {
     "name": "stdout",
     "output_type": "stream",
     "text": [
      "Anastrozole is associated with non-physical adverse effects such as stress and anxiety.\n",
      "Processing with text only...\n"
     ]
    },
    {
     "name": "stderr",
     "output_type": "stream",
     "text": [
      " 40%|███▉      | 119/300 [02:48<06:34,  2.18s/it]"
     ]
    },
    {
     "name": "stdout",
     "output_type": "stream",
     "text": [
      "Docetaxel, filgrastim, and paracetamol can all cause non-physical adverse effects such as feeling spaced out, which may affect patients' cognitive function and perception of time.\n"
     ]
    },
    {
     "name": "stderr",
     "output_type": "stream",
     "text": [
      " 40%|████      | 120/300 [02:48<05:07,  1.71s/it]"
     ]
    },
    {
     "name": "stdout",
     "output_type": "stream",
     "text": [
      "Processing with text only...\n"
     ]
    },
    {
     "name": "stderr",
     "output_type": "stream",
     "text": [
      " 41%|████▏     | 124/300 [02:52<03:51,  1.31s/it]"
     ]
    },
    {
     "name": "stdout",
     "output_type": "stream",
     "text": [
      "Exemestane and letrozole, two commonly prescribed drugs for hormonal therapy, can lead to non-physical adverse effects such as feelings of being ignored and emotional distress related to the perceived loss of an active lifestyle during treatment.\n",
      "Processing with text only...\n"
     ]
    },
    {
     "name": "stderr",
     "output_type": "stream",
     "text": [
      " 42%|████▏     | 125/300 [02:55<04:45,  1.63s/it]"
     ]
    },
    {
     "name": "stdout",
     "output_type": "stream",
     "text": [
      "Letrozole and anastrozole are both aromatase inhibitors used to treat breast cancer; however, non-physical adverse drug reactions reported include feelings of aging.\n",
      "Processing with text only...\n"
     ]
    },
    {
     "name": "stderr",
     "output_type": "stream",
     "text": [
      " 42%|████▏     | 126/300 [03:02<07:31,  2.60s/it]"
     ]
    },
    {
     "name": "stdout",
     "output_type": "stream",
     "text": [
      "Capecitabine is a chemotherapy drug commonly used in the treatment of various cancers. One of its non-physical adverse effects is that patients may experience feelings of age, or \"feeling old.\" This psychological impact can significantly affect the patient's quality of life, making it important for healthcare providers to address and manage such side effects alongside the primary medical treatments.\n",
      "Processing with text and images...\n"
     ]
    },
    {
     "name": "stderr",
     "output_type": "stream",
     "text": [
      " 45%|████▍     | 134/300 [03:04<02:51,  1.03s/it]"
     ]
    },
    {
     "name": "stdout",
     "output_type": "stream",
     "text": [
      "Zoledex, commonly used for treating osteoporosis, has been reported to affect mental health as a non-physical adverse drug reaction.\n",
      "Processing with text only...\n"
     ]
    },
    {
     "name": "stderr",
     "output_type": "stream",
     "text": [
      " 45%|████▌     | 135/300 [03:06<03:05,  1.13s/it]"
     ]
    },
    {
     "name": "stdout",
     "output_type": "stream",
     "text": [
      "Zoladex and Elma cream are known to cause anxiety as a non-physical adverse effect.\n",
      "Processing with text only...\n"
     ]
    },
    {
     "name": "stderr",
     "output_type": "stream",
     "text": [
      " 47%|████▋     | 142/300 [03:09<01:57,  1.34it/s]"
     ]
    },
    {
     "name": "stdout",
     "output_type": "stream",
     "text": [
      "Patients often worry about the potential negative impacts of medications like FEC, Docetaxel, ibuprofen, and paracetamol on their bodies.\n",
      "Processing with text only...\n"
     ]
    },
    {
     "name": "stderr",
     "output_type": "stream",
     "text": [
      " 48%|████▊     | 143/300 [03:11<02:16,  1.15it/s]"
     ]
    },
    {
     "name": "stdout",
     "output_type": "stream",
     "text": [
      "Docetaxel is associated with non-physical adverse effects, including a general feeling of being unwell.\n",
      "Processing with text only...\n"
     ]
    },
    {
     "name": "stderr",
     "output_type": "stream",
     "text": [
      " 48%|████▊     | 144/300 [03:14<02:50,  1.09s/it]"
     ]
    },
    {
     "name": "stdout",
     "output_type": "stream",
     "text": [
      "Viscotears can sometimes lead to disappointment among patients who expect the product to prevent missed chemotherapy sessions, despite its primary purpose of managing dry eye symptoms.\n",
      "Processing with text only...\n"
     ]
    },
    {
     "name": "stderr",
     "output_type": "stream",
     "text": [
      " 49%|████▊     | 146/300 [03:17<03:05,  1.21s/it]"
     ]
    },
    {
     "name": "stdout",
     "output_type": "stream",
     "text": [
      "Patients taking Zoladex, tamoxifen, and exemestane may experience non-physical adverse effects such as anxiety, which can impact their quality of life.\n",
      "Processing with text and images...\n"
     ]
    },
    {
     "name": "stderr",
     "output_type": "stream",
     "text": [
      " 49%|████▉     | 148/300 [03:34<07:55,  3.13s/it]"
     ]
    },
    {
     "name": "stdout",
     "output_type": "stream",
     "text": [
      "The use of Fec, Docetaxel, ibuprofen, and diclofenac has led to significant non-physical adverse reactions, including feelings of worry about one's health, inability to engage in previous physical activities like running and biking, and a sense of limited mobility.\n",
      "Processing with text only...\n"
     ]
    },
    {
     "name": "stderr",
     "output_type": "stream",
     "text": [
      " 50%|████▉     | 149/300 [03:36<07:43,  3.07s/it]"
     ]
    },
    {
     "name": "stdout",
     "output_type": "stream",
     "text": [
      "Herceptin, Taxo, and Paracetamol may cause fatigue as a non-physical adverse drug reaction.\n",
      "Processing with text only...\n"
     ]
    },
    {
     "name": "stderr",
     "output_type": "stream",
     "text": [
      " 51%|█████     | 152/300 [03:41<06:05,  2.47s/it]"
     ]
    },
    {
     "name": "stdout",
     "output_type": "stream",
     "text": [
      "Alectinib, a targeted therapy for certain types of lung cancer, can cause non-physical side effects such as feelings of being fed up and a sense of pressure to return to work, which may impact patients' quality of life and emotional well-being.\n",
      "Processing with text only...\n"
     ]
    },
    {
     "name": "stderr",
     "output_type": "stream",
     "text": [
      " 51%|█████     | 153/300 [03:44<06:05,  2.49s/it]"
     ]
    },
    {
     "name": "stdout",
     "output_type": "stream",
     "text": [
      "OEPA and COPDAC may cause non-physical adverse effects such as worry about hair appearance.\n",
      "Processing with text only...\n"
     ]
    },
    {
     "name": "stderr",
     "output_type": "stream",
     "text": [
      " 52%|█████▏    | 156/300 [03:47<04:39,  1.94s/it]"
     ]
    },
    {
     "name": "stdout",
     "output_type": "stream",
     "text": [
      "Oxaliplatin and capecitabine can cause non-physical adverse effects such as a lack of interest in food and lethargy.\n",
      "Processing with text only...\n"
     ]
    },
    {
     "name": "stderr",
     "output_type": "stream",
     "text": [
      " 52%|█████▏    | 157/300 [03:49<04:43,  1.98s/it]"
     ]
    },
    {
     "name": "stdout",
     "output_type": "stream",
     "text": [
      "EC and Taxol can cause non-physical adverse effects such as feelings of being down and feelings of upset about appearance.\n",
      "Processing with text only...\n"
     ]
    },
    {
     "name": "stderr",
     "output_type": "stream",
     "text": [
      " 53%|█████▎    | 159/300 [03:54<04:53,  2.08s/it]"
     ]
    },
    {
     "name": "stdout",
     "output_type": "stream",
     "text": [
      "Paclitaxel, Herceptin, and steroids can lead to non-physical adverse effects such as difficulty sleeping and increased appetite, which may require the use of additional medications like antihistamines or stomach pills to manage these side effects effectively.\n",
      "Processing with text only...\n"
     ]
    },
    {
     "name": "stderr",
     "output_type": "stream",
     "text": [
      " 53%|█████▎    | 160/300 [03:57<05:16,  2.26s/it]"
     ]
    },
    {
     "name": "stdout",
     "output_type": "stream",
     "text": [
      "Zoladex, a medication used to manage certain conditions, can cause non-physical adverse effects such as loss of libido, which may affect sexual function and desire.\n",
      "Processing with text only...\n"
     ]
    },
    {
     "name": "stderr",
     "output_type": "stream",
     "text": [
      " 54%|█████▍    | 163/300 [03:59<03:41,  1.61s/it]"
     ]
    },
    {
     "name": "stdout",
     "output_type": "stream",
     "text": [
      "EC and taxol can sometimes lead to non-physical adverse effects such as feelings of being down and feeling stupid for being upset.\n",
      "Processing with text only...\n"
     ]
    },
    {
     "name": "stderr",
     "output_type": "stream",
     "text": [
      " 55%|█████▍    | 164/300 [04:03<04:16,  1.89s/it]"
     ]
    },
    {
     "name": "stdout",
     "output_type": "stream",
     "text": [
      "Paclitaxel, Herceptin, steroids, antihistamines, and stomach pills can cause non-physical adverse effects such as difficulty sleeping and increased appetite.\n",
      "Processing with text only...\n"
     ]
    },
    {
     "name": "stderr",
     "output_type": "stream",
     "text": [
      " 55%|█████▌    | 165/300 [04:05<04:25,  1.97s/it]"
     ]
    },
    {
     "name": "stdout",
     "output_type": "stream",
     "text": [
      "Herceptin, a targeted therapy for certain types of breast cancer, may cause non-physical adverse effects such as panic.\n",
      "Processing with text only...\n"
     ]
    },
    {
     "name": "stderr",
     "output_type": "stream",
     "text": [
      " 55%|█████▌    | 166/300 [04:07<04:22,  1.96s/it]"
     ]
    },
    {
     "name": "stdout",
     "output_type": "stream",
     "text": [
      "Patients taking OXY cap tabs may experience non-physical adverse effects such as feeling dreadful and excessive sleeping.\n",
      "Processing with text only...\n"
     ]
    },
    {
     "name": "stderr",
     "output_type": "stream",
     "text": [
      " 56%|█████▌    | 168/300 [04:10<03:58,  1.81s/it]"
     ]
    },
    {
     "name": "stdout",
     "output_type": "stream",
     "text": [
      "ZOLADEX, a medication commonly used for various conditions, can sometimes cause non-physical adverse effects such as mood swings, grumpiness, and depression in some patients.\n",
      "Processing with text only...\n"
     ]
    },
    {
     "name": "stderr",
     "output_type": "stream",
     "text": [
      " 57%|█████▋    | 170/300 [04:12<03:21,  1.55s/it]"
     ]
    },
    {
     "name": "stdout",
     "output_type": "stream",
     "text": [
      "Letrozole and Palbociclib can both lead to non-physical adverse effects such as fatigue.\n",
      "Processing with text only...\n"
     ]
    },
    {
     "name": "stderr",
     "output_type": "stream",
     "text": [
      " 57%|█████▋    | 171/300 [04:16<04:23,  2.04s/it]"
     ]
    },
    {
     "name": "stdout",
     "output_type": "stream",
     "text": [
      "Taxotere (Paclitaxel) and Avastin can be associated with non-physical adverse effects such as concerns about overall health and wellbeing, as well as feelings of being worse following treatment with these medications.\n",
      "Processing with text only...\n"
     ]
    },
    {
     "name": "stderr",
     "output_type": "stream",
     "text": [
      " 58%|█████▊    | 175/300 [04:20<02:57,  1.42s/it]"
     ]
    },
    {
     "name": "stdout",
     "output_type": "stream",
     "text": [
      "Letrozole may cause non-physical adverse effects such as sleep disturbances, including waking up 3 or 4 times a night, potentially leading to increased anxiety due to these sleep issues.\n",
      "Processing with text only...\n"
     ]
    },
    {
     "name": "stderr",
     "output_type": "stream",
     "text": [
      " 60%|█████▉    | 179/300 [04:23<02:24,  1.19s/it]"
     ]
    },
    {
     "name": "stdout",
     "output_type": "stream",
     "text": [
      "Capecitabine, oxaliplatin, domperidone, and loperamide can cause non-physical adverse effects such as difficulty focusing and a negative impact on mental health.\n",
      "Processing with text only...\n"
     ]
    },
    {
     "name": "stderr",
     "output_type": "stream",
     "text": [
      " 61%|██████    | 183/300 [04:26<01:54,  1.02it/s]"
     ]
    },
    {
     "name": "stdout",
     "output_type": "stream",
     "text": [
      "Docetaxel (Taxol) and capecitabine can cause non-physical adverse effects such as stress and emotional distress.\n",
      "Processing with text and images...\n"
     ]
    },
    {
     "name": "stderr",
     "output_type": "stream",
     "text": [
      " 61%|██████▏   | 184/300 [04:30<02:39,  1.38s/it]"
     ]
    },
    {
     "name": "stdout",
     "output_type": "stream",
     "text": [
      "Patients taking VTD, Velcade, Thalidomide, and dex may experience non-physical adverse effects such as feeling like they're shaking inside, having blurry eyes, experiencing brain fog, and difficulty concentrating.\n",
      "Processing with text only...\n"
     ]
    },
    {
     "name": "stderr",
     "output_type": "stream",
     "text": [
      " 62%|██████▏   | 185/300 [04:33<03:13,  1.69s/it]"
     ]
    },
    {
     "name": "stdout",
     "output_type": "stream",
     "text": [
      "Dabrafenib and Trametinib are associated with non-physical adverse effects such as panic, dark thoughts, feelings of despair, and significant stress about potential permanent impairment.\n",
      "Processing with text only...\n"
     ]
    },
    {
     "name": "stderr",
     "output_type": "stream",
     "text": [
      " 63%|██████▎   | 188/300 [04:39<03:21,  1.80s/it]"
     ]
    },
    {
     "name": "stdout",
     "output_type": "stream",
     "text": [
      "Patients using Pembrolizumab may experience hesitance about discussing their treatment due to concern over potential long-term effects, while some patients might try to remain optimistic despite these worries. Additionally, those taking Prednisolone and Naproxen may also face similar challenges, including difficulty in openly sharing their health concerns with healthcare providers.\n",
      "Processing with text only...\n"
     ]
    },
    {
     "name": "stderr",
     "output_type": "stream",
     "text": [
      " 63%|██████▎   | 190/300 [04:43<03:17,  1.80s/it]"
     ]
    },
    {
     "name": "stdout",
     "output_type": "stream",
     "text": [
      "Folfiri, loperamide, and cetuximab can sometimes cause patients to feel upset due to their appearance and become self-conscious as a result of the drugs affecting their outward look.\n",
      "Processing with text only...\n"
     ]
    },
    {
     "name": "stderr",
     "output_type": "stream",
     "text": [
      " 64%|██████▍   | 192/300 [04:46<03:07,  1.74s/it]"
     ]
    },
    {
     "name": "stdout",
     "output_type": "stream",
     "text": [
      "Cetuximab is known to cause non-physical adverse effects, including fatigue, where patients may feel prone to dropping off for naps due to this side effect.\n",
      "Processing with text only...\n"
     ]
    },
    {
     "name": "stderr",
     "output_type": "stream",
     "text": [
      " 65%|██████▌   | 195/300 [04:48<02:19,  1.33s/it]"
     ]
    },
    {
     "name": "stdout",
     "output_type": "stream",
     "text": [
      "Letrozole is associated with non-physical adverse effects such as chills and hot flushes.\n",
      "Processing with text and images...\n"
     ]
    },
    {
     "name": "stderr",
     "output_type": "stream",
     "text": [
      " 67%|██████▋   | 201/300 [04:52<01:41,  1.02s/it]"
     ]
    },
    {
     "name": "stdout",
     "output_type": "stream",
     "text": [
      "Patients using the drugs letrozole (brands Cipla, Accord, Sandoz) and exemestane (brand Femara, Teva) may experience non-physical adverse effects such as headaches and dizziness.\n",
      "Processing with text only...\n"
     ]
    },
    {
     "name": "stderr",
     "output_type": "stream",
     "text": [
      " 68%|██████▊   | 203/300 [04:55<01:42,  1.06s/it]"
     ]
    },
    {
     "name": "stdout",
     "output_type": "stream",
     "text": [
      "Prednisone and methotrexate can lead to non-physical adverse effects such as insomnia and feeling trapped in a cycle.\n",
      "Processing with text only...\n"
     ]
    },
    {
     "name": "stderr",
     "output_type": "stream",
     "text": [
      " 68%|██████▊   | 204/300 [04:58<02:08,  1.34s/it]"
     ]
    },
    {
     "name": "stdout",
     "output_type": "stream",
     "text": [
      "Letrozole and Anastrozole, commonly used anti-estrogen drugs for treating breast cancer, can cause significant emotional distress, leading to feelings of misery among some patients.\n",
      "Processing with text only...\n"
     ]
    },
    {
     "name": "stderr",
     "output_type": "stream",
     "text": [
      " 68%|██████▊   | 205/300 [05:01<02:34,  1.63s/it]"
     ]
    },
    {
     "name": "stdout",
     "output_type": "stream",
     "text": [
      "Letrozole is a commonly prescribed anti-estrogen medication, and patients often exhibit a strong determination to continue treatment despite experiencing non-physical adverse effects associated with its use.\n",
      "Processing with text only...\n"
     ]
    },
    {
     "name": "stderr",
     "output_type": "stream",
     "text": [
      " 69%|██████▉   | 208/300 [05:04<02:06,  1.38s/it]"
     ]
    },
    {
     "name": "stdout",
     "output_type": "stream",
     "text": [
      "Levothyroxine, a thyroid hormone replacement medication, can lead to non-physical adverse effects such as difficulty with thought process and an inability to think clearly.\n",
      "Processing with text and images...\n"
     ]
    },
    {
     "name": "stderr",
     "output_type": "stream",
     "text": [
      " 70%|██████▉   | 209/300 [05:08<02:30,  1.65s/it]"
     ]
    },
    {
     "name": "stdout",
     "output_type": "stream",
     "text": [
      "Cisplatin, a chemotherapy agent, can cause non-physical adverse effects such as a feeling of choking and emotional distress due to the situation.\n",
      "Processing with text and images...\n"
     ]
    },
    {
     "name": "stderr",
     "output_type": "stream",
     "text": [
      " 70%|███████   | 210/300 [05:10<02:45,  1.84s/it]"
     ]
    },
    {
     "name": "stdout",
     "output_type": "stream",
     "text": [
      "Herceptin, a medication used for treating certain types of breast cancer, may cause non-physical adverse effects such as nervousness.\n",
      "Processing with text only...\n"
     ]
    },
    {
     "name": "stderr",
     "output_type": "stream",
     "text": [
      " 70%|███████   | 211/300 [05:13<02:55,  1.97s/it]"
     ]
    },
    {
     "name": "stdout",
     "output_type": "stream",
     "text": [
      "Dexamethasone and Zofran can cause non-physical adverse effects such as trepidation and feelings of hopelessness.\n",
      "Processing with text only...\n"
     ]
    },
    {
     "name": "stderr",
     "output_type": "stream",
     "text": [
      " 71%|███████   | 212/300 [05:16<03:25,  2.34s/it]"
     ]
    },
    {
     "name": "stdout",
     "output_type": "stream",
     "text": [
      "Femara, a medication used to treat certain types of cancer, can cause non-physical adverse effects such as fatigue, which may impact daily activities and quality of life for patients taking this treatment.\n",
      "Processing with text only...\n"
     ]
    },
    {
     "name": "stderr",
     "output_type": "stream",
     "text": [
      " 71%|███████▏  | 214/300 [05:19<02:54,  2.03s/it]"
     ]
    },
    {
     "name": "stdout",
     "output_type": "stream",
     "text": [
      "Letrozole, a commonly prescribed medication, can lead to non-physical adverse effects including anxiety attacks and memory issues, which may require patient monitoring and support during treatment.\n",
      "Processing with text only...\n"
     ]
    },
    {
     "name": "stderr",
     "output_type": "stream",
     "text": [
      " 73%|███████▎  | 218/300 [05:22<01:47,  1.31s/it]"
     ]
    },
    {
     "name": "stdout",
     "output_type": "stream",
     "text": [
      "Rituximab can lead to non-physical adverse effects such as feelings of abandonment and frustration over the lack of support from the consultant.\n",
      "Processing with text only...\n"
     ]
    },
    {
     "name": "stderr",
     "output_type": "stream",
     "text": [
      " 73%|███████▎  | 219/300 [05:25<02:03,  1.53s/it]"
     ]
    },
    {
     "name": "stdout",
     "output_type": "stream",
     "text": [
      "Rituximab is associated with non-physical adverse effects including fatigue, low energy levels, stress, and a feeling of being old.\n",
      "Processing with text only...\n"
     ]
    },
    {
     "name": "stderr",
     "output_type": "stream",
     "text": [
      " 75%|███████▍  | 224/300 [05:27<01:11,  1.06it/s]"
     ]
    },
    {
     "name": "stdout",
     "output_type": "stream",
     "text": [
      "Letrozole and Domperidone can cause non-physical adverse effects such as irritability and difficulty functioning.\n",
      "Processing with text only...\n"
     ]
    },
    {
     "name": "stderr",
     "output_type": "stream",
     "text": [
      " 76%|███████▌  | 227/300 [05:31<01:14,  1.03s/it]"
     ]
    },
    {
     "name": "stdout",
     "output_type": "stream",
     "text": [
      "Letrozole and anastrozole can sometimes lead to non-physical adverse effects such as frustration and emotional strain, as implied by the words \"awful\" and \"frustrating.\"\n",
      "Processing with text only...\n"
     ]
    },
    {
     "name": "stderr",
     "output_type": "stream",
     "text": [
      " 76%|███████▋  | 229/300 [05:34<01:23,  1.18s/it]"
     ]
    },
    {
     "name": "stdout",
     "output_type": "stream",
     "text": [
      "Tamoxifen is a medication used for various medical treatments, but it may also cause non-physical side effects such as feeling down and experiencing stress.\n",
      "Processing with text only...\n"
     ]
    },
    {
     "name": "stderr",
     "output_type": "stream",
     "text": [
      " 77%|███████▋  | 232/300 [05:40<01:38,  1.45s/it]"
     ]
    },
    {
     "name": "stdout",
     "output_type": "stream",
     "text": [
      "Pembrolizumab, marketed as Keytruda, is a monoclonal antibody used to treat various cancers by blocking the programmed cell death protein-1 (PD-L1) receptor on cancer cells. However, patients may experience non-physical adverse effects such as agitation as part of the side effects profile associated with this medication.\n",
      "Processing with text only...\n"
     ]
    },
    {
     "name": "stderr",
     "output_type": "stream",
     "text": [
      " 78%|███████▊  | 233/300 [05:43<01:49,  1.63s/it]"
     ]
    },
    {
     "name": "stdout",
     "output_type": "stream",
     "text": [
      "Tamoxifen, anastrozole, and aspirin may cause concern among patients due to potential stomach problems as non-physical adverse drug reactions.\n",
      "Processing with text only...\n"
     ]
    },
    {
     "name": "stderr",
     "output_type": "stream",
     "text": [
      " 80%|███████▉  | 239/300 [05:47<01:11,  1.17s/it]"
     ]
    },
    {
     "name": "stdout",
     "output_type": "stream",
     "text": [
      "Afatinib and Osimertinib are commonly prescribed drugs for managing certain types of cancer. While these medications effectively treat their respective conditions, non-physical side effects such as tiredness may occur, affecting patients' overall well-being and quality of life.\n",
      "Processing with text only...\n"
     ]
    },
    {
     "name": "stderr",
     "output_type": "stream",
     "text": [
      " 80%|████████  | 240/300 [05:49<01:15,  1.26s/it]"
     ]
    },
    {
     "name": "stdout",
     "output_type": "stream",
     "text": [
      "Pembro and steroid use can sometimes lead to non-physical side effects such as disappointment and confusion in patients.\n",
      "Processing with text only...\n"
     ]
    },
    {
     "name": "stderr",
     "output_type": "stream",
     "text": [
      " 80%|████████  | 241/300 [05:54<01:41,  1.72s/it]"
     ]
    },
    {
     "name": "stdout",
     "output_type": "stream",
     "text": [
      "Tamoxifen and Letrozole, two commonly used medications for managing hormone-related conditions, can sometimes lead to non-physical adverse effects including panic attacks and extreme anxiety, which may impact patients' overall well-being and require careful monitoring by healthcare providers.\n",
      "Processing with text only...\n"
     ]
    },
    {
     "name": "stderr",
     "output_type": "stream",
     "text": [
      " 81%|████████  | 243/300 [05:56<01:23,  1.46s/it]"
     ]
    },
    {
     "name": "stdout",
     "output_type": "stream",
     "text": [
      "Sorafenib is associated with non-physical adverse effects, including nervousness.\n",
      "Processing with text only...\n"
     ]
    },
    {
     "name": "stderr",
     "output_type": "stream",
     "text": [
      " 81%|████████▏ | 244/300 [05:58<01:31,  1.63s/it]"
     ]
    },
    {
     "name": "stdout",
     "output_type": "stream",
     "text": [
      "Sorafenib is associated with non-physical adverse effects such as hope, which can impact patients' outlook and overall well-being.\n",
      "Processing with text only...\n"
     ]
    },
    {
     "name": "stderr",
     "output_type": "stream",
     "text": [
      " 83%|████████▎ | 250/300 [06:00<00:44,  1.13it/s]"
     ]
    },
    {
     "name": "stdout",
     "output_type": "stream",
     "text": [
      "Tagrisso, Loperamide, and paracetamol can sometimes cause non-physical adverse effects such as frustration.\n",
      "Processing with text only...\n"
     ]
    },
    {
     "name": "stderr",
     "output_type": "stream",
     "text": [
      " 85%|████████▍ | 254/300 [06:05<00:44,  1.03it/s]"
     ]
    },
    {
     "name": "stdout",
     "output_type": "stream",
     "text": [
      "Pembrolizumab (Keytruda) and epacadostat are both immunotherapy agents used to treat various cancers; however, some patients may experience non-physical adverse effects such as feeling nervously anxious about upcoming follow-up statistics.\n",
      "Processing with text only...\n"
     ]
    },
    {
     "name": "stderr",
     "output_type": "stream",
     "text": [
      " 85%|████████▌ | 255/300 [06:06<00:47,  1.06s/it]"
     ]
    },
    {
     "name": "stdout",
     "output_type": "stream",
     "text": [
      "Dab experienced relief after the treatment break, indicating improvement in their non-physical adverse effects.\n",
      "Processing with text only...\n"
     ]
    },
    {
     "name": "stderr",
     "output_type": "stream",
     "text": [
      " 87%|████████▋ | 260/300 [06:11<00:39,  1.02it/s]"
     ]
    },
    {
     "name": "stdout",
     "output_type": "stream",
     "text": [
      "Accord (Letrozole), manufactured by Cipla, Activis, Teva, Manx, and Femera, can sometimes cause non-physical adverse effects such as brain fog, emotional reactions, and feelings of unhappiness.\n",
      "Processing with text only...\n"
     ]
    },
    {
     "name": "stderr",
     "output_type": "stream",
     "text": [
      " 87%|████████▋ | 261/300 [06:13<00:45,  1.16s/it]"
     ]
    },
    {
     "name": "stdout",
     "output_type": "stream",
     "text": [
      "Letrozole, also known as Norvatis Uk Femara, is associated with non-physical adverse effects such as nervousness.\n",
      "Processing with text only...\n"
     ]
    },
    {
     "name": "stderr",
     "output_type": "stream",
     "text": [
      " 91%|█████████ | 272/300 [06:19<00:21,  1.31it/s]"
     ]
    },
    {
     "name": "stdout",
     "output_type": "stream",
     "text": [
      "Patients taking Femara may experience non-physical adverse effects such as being awake at night, which can impact sleep quality. Additionally, those consuming glucosamine and cod liver oil might also face similar issues, while individuals supplementing with vitamin D should be aware that it could similarly disrupt their sleep patterns, leading to awakenings during the night.\n",
      "Processing with text only...\n"
     ]
    },
    {
     "name": "stderr",
     "output_type": "stream",
     "text": [
      " 91%|█████████ | 273/300 [06:24<00:27,  1.02s/it]"
     ]
    },
    {
     "name": "stdout",
     "output_type": "stream",
     "text": [
      "Femara (Famatinib) and Letrozole are both medications commonly used in cancer treatment; however, they can sometimes cause non-physical adverse effects such as low mood and a tendency toward experiencing meltdowns.\n",
      "Processing with text only...\n"
     ]
    },
    {
     "name": "stderr",
     "output_type": "stream",
     "text": [
      " 91%|█████████▏| 274/300 [06:25<00:28,  1.08s/it]"
     ]
    },
    {
     "name": "stdout",
     "output_type": "stream",
     "text": [
      "Zolendronic Acid may cause non-physical adverse effects such as fearfulness.\n",
      "Processing with text only...\n"
     ]
    },
    {
     "name": "stderr",
     "output_type": "stream",
     "text": [
      " 92%|█████████▏| 275/300 [06:28<00:31,  1.24s/it]"
     ]
    },
    {
     "name": "stdout",
     "output_type": "stream",
     "text": [
      "Letrozole and Sertraline, both commonly prescribed medications, can cause anxiety as a non-physical adverse reaction.\n",
      "Processing with text only...\n"
     ]
    },
    {
     "name": "stderr",
     "output_type": "stream",
     "text": [
      " 92%|█████████▏| 277/300 [06:30<00:27,  1.21s/it]"
     ]
    },
    {
     "name": "stdout",
     "output_type": "stream",
     "text": [
      "Anastrozole, Exemestane, and Everolimus may cause non-physical adverse effects such as anxiety.\n",
      "Processing with text only...\n"
     ]
    },
    {
     "name": "stderr",
     "output_type": "stream",
     "text": [
      " 93%|█████████▎| 280/300 [06:31<00:18,  1.05it/s]"
     ]
    },
    {
     "name": "stdout",
     "output_type": "stream",
     "text": [
      "Palbo can cause emotional distress related to appearance due to hair thinning.\n",
      "Processing with text only...\n"
     ]
    },
    {
     "name": "stderr",
     "output_type": "stream",
     "text": [
      " 95%|█████████▍| 284/300 [06:34<00:13,  1.16it/s]"
     ]
    },
    {
     "name": "stdout",
     "output_type": "stream",
     "text": [
      "Paracetamol, morphine, codeine, ibuprofen, and tramadol can lead to non-physical adverse effects such as frustration and difficulty sleeping.\n",
      "Processing with text only...\n"
     ]
    },
    {
     "name": "stderr",
     "output_type": "stream",
     "text": [
      " 95%|█████████▌| 286/300 [06:37<00:14,  1.00s/it]"
     ]
    },
    {
     "name": "stdout",
     "output_type": "stream",
     "text": [
      "Pembrolizumab (pembro), interferon, and thyroxine can all cause non-physical adverse effects such as worry and anxiety about appearance.\n",
      "Processing with text only...\n"
     ]
    },
    {
     "name": "stderr",
     "output_type": "stream",
     "text": [
      " 96%|█████████▋| 289/300 [06:39<00:09,  1.14it/s]"
     ]
    },
    {
     "name": "stdout",
     "output_type": "stream",
     "text": [
      "Ixazomib, Revlimid, and Dex are medications that may cause hypersensitivity reactions.\n",
      "Processing with text only...\n"
     ]
    },
    {
     "name": "stderr",
     "output_type": "stream",
     "text": [
      " 97%|█████████▋| 291/300 [06:44<00:11,  1.24s/it]"
     ]
    },
    {
     "name": "stdout",
     "output_type": "stream",
     "text": [
      "Letrozole, Arimidex, Exemestane, Tamoxifen, and Femara are medications commonly used to treat breast cancer. These drugs may cause various side effects, including insomnia, which is a common non-physical adverse reaction associated with their use.\n",
      "Processing with text only...\n"
     ]
    },
    {
     "name": "stderr",
     "output_type": "stream",
     "text": [
      " 99%|█████████▉| 297/300 [06:46<00:02,  1.23it/s]"
     ]
    },
    {
     "name": "stdout",
     "output_type": "stream",
     "text": [
      "Carb and Taxol may cause patients to feel self-conscious, very tired, or exhausted as side effects of their use.\n",
      "Processing with text only...\n"
     ]
    },
    {
     "name": "stderr",
     "output_type": "stream",
     "text": [
      "100%|██████████| 300/300 [06:49<00:00,  1.36s/it]"
     ]
    },
    {
     "name": "stdout",
     "output_type": "stream",
     "text": [
      "Cape and morphine can cause non-physical adverse effects such as mental confusion, making patients feel \"not completely with it.\"\n"
     ]
    },
    {
     "name": "stderr",
     "output_type": "stream",
     "text": [
      "\n"
     ]
    }
   ],
   "source": [
    "df_val['VL_qwen_non_phy_sum_zs'] = ''\n",
    "for index in tqdm(range(0, len(dataset))):\n",
    "    sample = dataset[index]\n",
    "    if sample['non_phy_prompt'] == '' :\n",
    "        continue   \n",
    "    response = generate_response(sample, prompt_type = 'non_phy_prompt')\n",
    "    print(response)\n",
    "    df_val.at[index , 'VL_qwen_non_phy_sum_zs'] = response"
   ]
  },
  {
   "cell_type": "code",
   "execution_count": 40,
   "metadata": {
    "scrolled": true
   },
   "outputs": [
    {
     "data": {
      "text/plain": [
       "(39, 176)"
      ]
     },
     "execution_count": 40,
     "metadata": {},
     "output_type": "execute_result"
    }
   ],
   "source": [
    "sum(df_val['VL_qwen_phy_sum_grpo'] == '') , sum(df_val['VL_qwen_non_phy_sum_grpo'] == '')"
   ]
  },
  {
   "cell_type": "code",
   "execution_count": 13,
   "metadata": {},
   "outputs": [
    {
     "data": {
      "text/plain": [
       "39"
      ]
     },
     "execution_count": 13,
     "metadata": {},
     "output_type": "execute_result"
    }
   ],
   "source": [
    "sum(df_val['VL_qwen_phy_sum_grpo_ckpt_75_bs_4'] == '')"
   ]
  },
  {
   "cell_type": "code",
   "execution_count": 41,
   "metadata": {},
   "outputs": [
    {
     "data": {
      "text/plain": [
       "Index(['Unnamed: 0', 'Links', 'Posts', 'Preprocessed Posts', 'drug_names',\n",
       "       'adverse_effects', 'severity', 'physical_adverse_effects',\n",
       "       'non_physical_adverse_effects', 'side_harmful_effects',\n",
       "       'image_description_with_phyadv', 'phy_summary', 'non_phy_summary',\n",
       "       'VL_qwen_phy_sum_sft', 'VL_qwen_non_phy_sum_sft', 'VL_qwen_phy_sum_zs',\n",
       "       'VL_qwen_non_phy_sum_zs'],\n",
       "      dtype='object')"
      ]
     },
     "execution_count": 41,
     "metadata": {},
     "output_type": "execute_result"
    }
   ],
   "source": [
    "df_val.columns"
   ]
  },
  {
   "cell_type": "code",
   "execution_count": 14,
   "metadata": {},
   "outputs": [],
   "source": [
    "df_val.to_csv('val_VL_medical_qwen_draft_grpo.csv' , index = False)"
   ]
  },
  {
   "cell_type": "code",
   "execution_count": null,
   "metadata": {},
   "outputs": [],
   "source": []
  }
 ],
 "metadata": {
  "accelerator": "GPU",
  "colab": {
   "gpuType": "T4",
   "provenance": []
  },
  "kernelspec": {
   "display_name": "Python3 (ipykernel)",
   "language": "python",
   "name": "python3"
  },
  "language_info": {
   "codemirror_mode": {
    "name": "ipython",
    "version": 3
   },
   "file_extension": ".py",
   "mimetype": "text/x-python",
   "name": "python",
   "nbconvert_exporter": "python",
   "pygments_lexer": "ipython3",
   "version": "3.10.18"
  },
  "widgets": {
   "application/vnd.jupyter.widget-state+json": {
    "012f84dd899e43c6b4b3e299924fff08": {
     "model_module": "@jupyter-widgets/base",
     "model_module_version": "1.2.0",
     "model_name": "LayoutModel",
     "state": {
      "_model_module": "@jupyter-widgets/base",
      "_model_module_version": "1.2.0",
      "_model_name": "LayoutModel",
      "_view_count": null,
      "_view_module": "@jupyter-widgets/base",
      "_view_module_version": "1.2.0",
      "_view_name": "LayoutView",
      "align_content": null,
      "align_items": null,
      "align_self": null,
      "border": null,
      "bottom": null,
      "display": null,
      "flex": null,
      "flex_flow": null,
      "grid_area": null,
      "grid_auto_columns": null,
      "grid_auto_flow": null,
      "grid_auto_rows": null,
      "grid_column": null,
      "grid_gap": null,
      "grid_row": null,
      "grid_template_areas": null,
      "grid_template_columns": null,
      "grid_template_rows": null,
      "height": null,
      "justify_content": null,
      "justify_items": null,
      "left": null,
      "margin": null,
      "max_height": null,
      "max_width": null,
      "min_height": null,
      "min_width": null,
      "object_fit": null,
      "object_position": null,
      "order": null,
      "overflow": null,
      "overflow_x": null,
      "overflow_y": null,
      "padding": null,
      "right": null,
      "top": null,
      "visibility": null,
      "width": null
     }
    },
    "03f7e213c4bf45bf8e392174d6206bed": {
     "model_module": "@jupyter-widgets/controls",
     "model_module_version": "1.5.0",
     "model_name": "ProgressStyleModel",
     "state": {
      "_model_module": "@jupyter-widgets/controls",
      "_model_module_version": "1.5.0",
      "_model_name": "ProgressStyleModel",
      "_view_count": null,
      "_view_module": "@jupyter-widgets/base",
      "_view_module_version": "1.2.0",
      "_view_name": "StyleView",
      "bar_color": null,
      "description_width": ""
     }
    },
    "0988703d75354ea09807cdef56f0b085": {
     "model_module": "@jupyter-widgets/base",
     "model_module_version": "1.2.0",
     "model_name": "LayoutModel",
     "state": {
      "_model_module": "@jupyter-widgets/base",
      "_model_module_version": "1.2.0",
      "_model_name": "LayoutModel",
      "_view_count": null,
      "_view_module": "@jupyter-widgets/base",
      "_view_module_version": "1.2.0",
      "_view_name": "LayoutView",
      "align_content": null,
      "align_items": null,
      "align_self": null,
      "border": null,
      "bottom": null,
      "display": null,
      "flex": null,
      "flex_flow": null,
      "grid_area": null,
      "grid_auto_columns": null,
      "grid_auto_flow": null,
      "grid_auto_rows": null,
      "grid_column": null,
      "grid_gap": null,
      "grid_row": null,
      "grid_template_areas": null,
      "grid_template_columns": null,
      "grid_template_rows": null,
      "height": null,
      "justify_content": null,
      "justify_items": null,
      "left": null,
      "margin": null,
      "max_height": null,
      "max_width": null,
      "min_height": null,
      "min_width": null,
      "object_fit": null,
      "object_position": null,
      "order": null,
      "overflow": null,
      "overflow_x": null,
      "overflow_y": null,
      "padding": null,
      "right": null,
      "top": null,
      "visibility": null,
      "width": null
     }
    },
    "09fdee084ed3487890c936f1807da59d": {
     "model_module": "@jupyter-widgets/controls",
     "model_module_version": "1.5.0",
     "model_name": "DescriptionStyleModel",
     "state": {
      "_model_module": "@jupyter-widgets/controls",
      "_model_module_version": "1.5.0",
      "_model_name": "DescriptionStyleModel",
      "_view_count": null,
      "_view_module": "@jupyter-widgets/base",
      "_view_module_version": "1.2.0",
      "_view_name": "StyleView",
      "description_width": ""
     }
    },
    "0ebce648ad1642d6bded30665c336270": {
     "model_module": "@jupyter-widgets/base",
     "model_module_version": "1.2.0",
     "model_name": "LayoutModel",
     "state": {
      "_model_module": "@jupyter-widgets/base",
      "_model_module_version": "1.2.0",
      "_model_name": "LayoutModel",
      "_view_count": null,
      "_view_module": "@jupyter-widgets/base",
      "_view_module_version": "1.2.0",
      "_view_name": "LayoutView",
      "align_content": null,
      "align_items": null,
      "align_self": null,
      "border": null,
      "bottom": null,
      "display": null,
      "flex": null,
      "flex_flow": null,
      "grid_area": null,
      "grid_auto_columns": null,
      "grid_auto_flow": null,
      "grid_auto_rows": null,
      "grid_column": null,
      "grid_gap": null,
      "grid_row": null,
      "grid_template_areas": null,
      "grid_template_columns": null,
      "grid_template_rows": null,
      "height": null,
      "justify_content": null,
      "justify_items": null,
      "left": null,
      "margin": null,
      "max_height": null,
      "max_width": null,
      "min_height": null,
      "min_width": null,
      "object_fit": null,
      "object_position": null,
      "order": null,
      "overflow": null,
      "overflow_x": null,
      "overflow_y": null,
      "padding": null,
      "right": null,
      "top": null,
      "visibility": null,
      "width": null
     }
    },
    "150674ea5bad4564ba6a76062c6f8b9c": {
     "model_module": "@jupyter-widgets/base",
     "model_module_version": "1.2.0",
     "model_name": "LayoutModel",
     "state": {
      "_model_module": "@jupyter-widgets/base",
      "_model_module_version": "1.2.0",
      "_model_name": "LayoutModel",
      "_view_count": null,
      "_view_module": "@jupyter-widgets/base",
      "_view_module_version": "1.2.0",
      "_view_name": "LayoutView",
      "align_content": null,
      "align_items": null,
      "align_self": null,
      "border": null,
      "bottom": null,
      "display": null,
      "flex": null,
      "flex_flow": null,
      "grid_area": null,
      "grid_auto_columns": null,
      "grid_auto_flow": null,
      "grid_auto_rows": null,
      "grid_column": null,
      "grid_gap": null,
      "grid_row": null,
      "grid_template_areas": null,
      "grid_template_columns": null,
      "grid_template_rows": null,
      "height": null,
      "justify_content": null,
      "justify_items": null,
      "left": null,
      "margin": null,
      "max_height": null,
      "max_width": null,
      "min_height": null,
      "min_width": null,
      "object_fit": null,
      "object_position": null,
      "order": null,
      "overflow": null,
      "overflow_x": null,
      "overflow_y": null,
      "padding": null,
      "right": null,
      "top": null,
      "visibility": null,
      "width": null
     }
    },
    "150943c3b4614433948e25110f97fd0c": {
     "model_module": "@jupyter-widgets/controls",
     "model_module_version": "1.5.0",
     "model_name": "HTMLModel",
     "state": {
      "_dom_classes": [],
      "_model_module": "@jupyter-widgets/controls",
      "_model_module_version": "1.5.0",
      "_model_name": "HTMLModel",
      "_view_count": null,
      "_view_module": "@jupyter-widgets/controls",
      "_view_module_version": "1.5.0",
      "_view_name": "HTMLView",
      "description": "",
      "description_tooltip": null,
      "layout": "IPY_MODEL_531913193da049468d9ebc4e328946cd",
      "placeholder": "​",
      "style": "IPY_MODEL_4e0aabc52603489eaa199670b3290919",
      "value": "<center> <img\nsrc=https://huggingface.co/front/assets/huggingface_logo-noborder.svg\nalt='Hugging Face'> <br> Copy a token from <a\nhref=\"https://huggingface.co/settings/tokens\" target=\"_blank\">your Hugging Face\ntokens page</a> and paste it below. <br> Immediately click login after copying\nyour token or it might be stored in plain text in this notebook file. </center>"
     }
    },
    "2979627c20464e8ea7fca2deed96365e": {
     "model_module": "@jupyter-widgets/controls",
     "model_module_version": "1.5.0",
     "model_name": "ProgressStyleModel",
     "state": {
      "_model_module": "@jupyter-widgets/controls",
      "_model_module_version": "1.5.0",
      "_model_name": "ProgressStyleModel",
      "_view_count": null,
      "_view_module": "@jupyter-widgets/base",
      "_view_module_version": "1.2.0",
      "_view_name": "StyleView",
      "bar_color": null,
      "description_width": ""
     }
    },
    "2ba3b22981804a078e4b97f04df39a1d": {
     "model_module": "@jupyter-widgets/base",
     "model_module_version": "1.2.0",
     "model_name": "LayoutModel",
     "state": {
      "_model_module": "@jupyter-widgets/base",
      "_model_module_version": "1.2.0",
      "_model_name": "LayoutModel",
      "_view_count": null,
      "_view_module": "@jupyter-widgets/base",
      "_view_module_version": "1.2.0",
      "_view_name": "LayoutView",
      "align_content": null,
      "align_items": null,
      "align_self": null,
      "border": null,
      "bottom": null,
      "display": null,
      "flex": null,
      "flex_flow": null,
      "grid_area": null,
      "grid_auto_columns": null,
      "grid_auto_flow": null,
      "grid_auto_rows": null,
      "grid_column": null,
      "grid_gap": null,
      "grid_row": null,
      "grid_template_areas": null,
      "grid_template_columns": null,
      "grid_template_rows": null,
      "height": null,
      "justify_content": null,
      "justify_items": null,
      "left": null,
      "margin": null,
      "max_height": null,
      "max_width": null,
      "min_height": null,
      "min_width": null,
      "object_fit": null,
      "object_position": null,
      "order": null,
      "overflow": null,
      "overflow_x": null,
      "overflow_y": null,
      "padding": null,
      "right": null,
      "top": null,
      "visibility": null,
      "width": null
     }
    },
    "2f3ea53e606a48dc94c7255d107ae53e": {
     "model_module": "@jupyter-widgets/base",
     "model_module_version": "1.2.0",
     "model_name": "LayoutModel",
     "state": {
      "_model_module": "@jupyter-widgets/base",
      "_model_module_version": "1.2.0",
      "_model_name": "LayoutModel",
      "_view_count": null,
      "_view_module": "@jupyter-widgets/base",
      "_view_module_version": "1.2.0",
      "_view_name": "LayoutView",
      "align_content": null,
      "align_items": null,
      "align_self": null,
      "border": null,
      "bottom": null,
      "display": null,
      "flex": null,
      "flex_flow": null,
      "grid_area": null,
      "grid_auto_columns": null,
      "grid_auto_flow": null,
      "grid_auto_rows": null,
      "grid_column": null,
      "grid_gap": null,
      "grid_row": null,
      "grid_template_areas": null,
      "grid_template_columns": null,
      "grid_template_rows": null,
      "height": null,
      "justify_content": null,
      "justify_items": null,
      "left": null,
      "margin": null,
      "max_height": null,
      "max_width": null,
      "min_height": null,
      "min_width": null,
      "object_fit": null,
      "object_position": null,
      "order": null,
      "overflow": null,
      "overflow_x": null,
      "overflow_y": null,
      "padding": null,
      "right": null,
      "top": null,
      "visibility": null,
      "width": null
     }
    },
    "32b6aa88a5ac471f8248d314cf1ccac7": {
     "model_module": "@jupyter-widgets/base",
     "model_module_version": "1.2.0",
     "model_name": "LayoutModel",
     "state": {
      "_model_module": "@jupyter-widgets/base",
      "_model_module_version": "1.2.0",
      "_model_name": "LayoutModel",
      "_view_count": null,
      "_view_module": "@jupyter-widgets/base",
      "_view_module_version": "1.2.0",
      "_view_name": "LayoutView",
      "align_content": null,
      "align_items": null,
      "align_self": null,
      "border": null,
      "bottom": null,
      "display": null,
      "flex": null,
      "flex_flow": null,
      "grid_area": null,
      "grid_auto_columns": null,
      "grid_auto_flow": null,
      "grid_auto_rows": null,
      "grid_column": null,
      "grid_gap": null,
      "grid_row": null,
      "grid_template_areas": null,
      "grid_template_columns": null,
      "grid_template_rows": null,
      "height": null,
      "justify_content": null,
      "justify_items": null,
      "left": null,
      "margin": null,
      "max_height": null,
      "max_width": null,
      "min_height": null,
      "min_width": null,
      "object_fit": null,
      "object_position": null,
      "order": null,
      "overflow": null,
      "overflow_x": null,
      "overflow_y": null,
      "padding": null,
      "right": null,
      "top": null,
      "visibility": null,
      "width": null
     }
    },
    "3668b378478c41cab30c60f9fd93d73f": {
     "model_module": "@jupyter-widgets/controls",
     "model_module_version": "1.5.0",
     "model_name": "DescriptionStyleModel",
     "state": {
      "_model_module": "@jupyter-widgets/controls",
      "_model_module_version": "1.5.0",
      "_model_name": "DescriptionStyleModel",
      "_view_count": null,
      "_view_module": "@jupyter-widgets/base",
      "_view_module_version": "1.2.0",
      "_view_name": "StyleView",
      "description_width": ""
     }
    },
    "36fcb62c8f4d4dcc8fb0f6f287790f91": {
     "model_module": "@jupyter-widgets/controls",
     "model_module_version": "1.5.0",
     "model_name": "ProgressStyleModel",
     "state": {
      "_model_module": "@jupyter-widgets/controls",
      "_model_module_version": "1.5.0",
      "_model_name": "ProgressStyleModel",
      "_view_count": null,
      "_view_module": "@jupyter-widgets/base",
      "_view_module_version": "1.2.0",
      "_view_name": "StyleView",
      "bar_color": null,
      "description_width": ""
     }
    },
    "381c967de4434e7295be41ac341b53ef": {
     "model_module": "@jupyter-widgets/controls",
     "model_module_version": "1.5.0",
     "model_name": "DescriptionStyleModel",
     "state": {
      "_model_module": "@jupyter-widgets/controls",
      "_model_module_version": "1.5.0",
      "_model_name": "DescriptionStyleModel",
      "_view_count": null,
      "_view_module": "@jupyter-widgets/base",
      "_view_module_version": "1.2.0",
      "_view_name": "StyleView",
      "description_width": ""
     }
    },
    "393eff095bca4868bfe26a4eb5dc01fb": {
     "model_module": "@jupyter-widgets/base",
     "model_module_version": "1.2.0",
     "model_name": "LayoutModel",
     "state": {
      "_model_module": "@jupyter-widgets/base",
      "_model_module_version": "1.2.0",
      "_model_name": "LayoutModel",
      "_view_count": null,
      "_view_module": "@jupyter-widgets/base",
      "_view_module_version": "1.2.0",
      "_view_name": "LayoutView",
      "align_content": null,
      "align_items": null,
      "align_self": null,
      "border": null,
      "bottom": null,
      "display": null,
      "flex": null,
      "flex_flow": null,
      "grid_area": null,
      "grid_auto_columns": null,
      "grid_auto_flow": null,
      "grid_auto_rows": null,
      "grid_column": null,
      "grid_gap": null,
      "grid_row": null,
      "grid_template_areas": null,
      "grid_template_columns": null,
      "grid_template_rows": null,
      "height": null,
      "justify_content": null,
      "justify_items": null,
      "left": null,
      "margin": null,
      "max_height": null,
      "max_width": null,
      "min_height": null,
      "min_width": null,
      "object_fit": null,
      "object_position": null,
      "order": null,
      "overflow": null,
      "overflow_x": null,
      "overflow_y": null,
      "padding": null,
      "right": null,
      "top": null,
      "visibility": null,
      "width": null
     }
    },
    "396b873dfc9643428e18dac0adb4decd": {
     "model_module": "@jupyter-widgets/controls",
     "model_module_version": "1.5.0",
     "model_name": "HTMLModel",
     "state": {
      "_dom_classes": [],
      "_model_module": "@jupyter-widgets/controls",
      "_model_module_version": "1.5.0",
      "_model_name": "HTMLModel",
      "_view_count": null,
      "_view_module": "@jupyter-widgets/controls",
      "_view_module_version": "1.5.0",
      "_view_name": "HTMLView",
      "description": "",
      "description_tooltip": null,
      "layout": "IPY_MODEL_93a83c78e5be4f79ba0b0abb56c08584",
      "placeholder": "​",
      "style": "IPY_MODEL_6d1debde5c9e42fdb679f168b1341c08",
      "value": " 8/8 [00:00&lt;00:00, 43.19ba/s]"
     }
    },
    "3b469d00d1fc455d8b565d45ff47f8e7": {
     "model_module": "@jupyter-widgets/base",
     "model_module_version": "1.2.0",
     "model_name": "LayoutModel",
     "state": {
      "_model_module": "@jupyter-widgets/base",
      "_model_module_version": "1.2.0",
      "_model_name": "LayoutModel",
      "_view_count": null,
      "_view_module": "@jupyter-widgets/base",
      "_view_module_version": "1.2.0",
      "_view_name": "LayoutView",
      "align_content": null,
      "align_items": null,
      "align_self": null,
      "border": null,
      "bottom": null,
      "display": null,
      "flex": null,
      "flex_flow": null,
      "grid_area": null,
      "grid_auto_columns": null,
      "grid_auto_flow": null,
      "grid_auto_rows": null,
      "grid_column": null,
      "grid_gap": null,
      "grid_row": null,
      "grid_template_areas": null,
      "grid_template_columns": null,
      "grid_template_rows": null,
      "height": null,
      "justify_content": null,
      "justify_items": null,
      "left": null,
      "margin": null,
      "max_height": null,
      "max_width": null,
      "min_height": null,
      "min_width": null,
      "object_fit": null,
      "object_position": null,
      "order": null,
      "overflow": null,
      "overflow_x": null,
      "overflow_y": null,
      "padding": null,
      "right": null,
      "top": null,
      "visibility": null,
      "width": null
     }
    },
    "3ec1f8f3e002434b9c90d6947f9cd15c": {
     "model_module": "@jupyter-widgets/base",
     "model_module_version": "1.2.0",
     "model_name": "LayoutModel",
     "state": {
      "_model_module": "@jupyter-widgets/base",
      "_model_module_version": "1.2.0",
      "_model_name": "LayoutModel",
      "_view_count": null,
      "_view_module": "@jupyter-widgets/base",
      "_view_module_version": "1.2.0",
      "_view_name": "LayoutView",
      "align_content": null,
      "align_items": null,
      "align_self": null,
      "border": null,
      "bottom": null,
      "display": null,
      "flex": null,
      "flex_flow": null,
      "grid_area": null,
      "grid_auto_columns": null,
      "grid_auto_flow": null,
      "grid_auto_rows": null,
      "grid_column": null,
      "grid_gap": null,
      "grid_row": null,
      "grid_template_areas": null,
      "grid_template_columns": null,
      "grid_template_rows": null,
      "height": null,
      "justify_content": null,
      "justify_items": null,
      "left": null,
      "margin": null,
      "max_height": null,
      "max_width": null,
      "min_height": null,
      "min_width": null,
      "object_fit": null,
      "object_position": null,
      "order": null,
      "overflow": null,
      "overflow_x": null,
      "overflow_y": null,
      "padding": null,
      "right": null,
      "top": null,
      "visibility": null,
      "width": null
     }
    },
    "4480499f789246ad9cd3eef5c0c1373a": {
     "model_module": "@jupyter-widgets/controls",
     "model_module_version": "1.5.0",
     "model_name": "HTMLModel",
     "state": {
      "_dom_classes": [],
      "_model_module": "@jupyter-widgets/controls",
      "_model_module_version": "1.5.0",
      "_model_name": "HTMLModel",
      "_view_count": null,
      "_view_module": "@jupyter-widgets/controls",
      "_view_module_version": "1.5.0",
      "_view_name": "HTMLView",
      "description": "",
      "description_tooltip": null,
      "layout": "IPY_MODEL_f806c80a4d4042ee85b57acde3e2705c",
      "placeholder": "​",
      "style": "IPY_MODEL_918c75fc40074602a721e51044b1b5d5",
      "value": "\n<b>Pro Tip:</b> If you don't already have one, you can create a dedicated\n'notebooks' token with 'write' access, that you can then easily reuse for all\nnotebooks. </center>"
     }
    },
    "4537d4bdbc374ec3ae1e72d830039bf8": {
     "model_module": "@jupyter-widgets/controls",
     "model_module_version": "1.5.0",
     "model_name": "DescriptionStyleModel",
     "state": {
      "_model_module": "@jupyter-widgets/controls",
      "_model_module_version": "1.5.0",
      "_model_name": "DescriptionStyleModel",
      "_view_count": null,
      "_view_module": "@jupyter-widgets/base",
      "_view_module_version": "1.2.0",
      "_view_name": "StyleView",
      "description_width": ""
     }
    },
    "456e1b34519a4fe497caf3e76950c19d": {
     "model_module": "@jupyter-widgets/controls",
     "model_module_version": "1.5.0",
     "model_name": "HTMLModel",
     "state": {
      "_dom_classes": [],
      "_model_module": "@jupyter-widgets/controls",
      "_model_module_version": "1.5.0",
      "_model_name": "HTMLModel",
      "_view_count": null,
      "_view_module": "@jupyter-widgets/controls",
      "_view_module_version": "1.5.0",
      "_view_name": "HTMLView",
      "description": "",
      "description_tooltip": null,
      "layout": "IPY_MODEL_f40e097d045b43cebf83e43eb1d9ee82",
      "placeholder": "​",
      "style": "IPY_MODEL_678c364167b04c62a0d97f060eafd77e",
      "value": "Generating train split: "
     }
    },
    "47292bdefab64bb7aa5ad3231d6c3ced": {
     "model_module": "@jupyter-widgets/base",
     "model_module_version": "1.2.0",
     "model_name": "LayoutModel",
     "state": {
      "_model_module": "@jupyter-widgets/base",
      "_model_module_version": "1.2.0",
      "_model_name": "LayoutModel",
      "_view_count": null,
      "_view_module": "@jupyter-widgets/base",
      "_view_module_version": "1.2.0",
      "_view_name": "LayoutView",
      "align_content": null,
      "align_items": null,
      "align_self": null,
      "border": null,
      "bottom": null,
      "display": null,
      "flex": null,
      "flex_flow": null,
      "grid_area": null,
      "grid_auto_columns": null,
      "grid_auto_flow": null,
      "grid_auto_rows": null,
      "grid_column": null,
      "grid_gap": null,
      "grid_row": null,
      "grid_template_areas": null,
      "grid_template_columns": null,
      "grid_template_rows": null,
      "height": null,
      "justify_content": null,
      "justify_items": null,
      "left": null,
      "margin": null,
      "max_height": null,
      "max_width": null,
      "min_height": null,
      "min_width": null,
      "object_fit": null,
      "object_position": null,
      "order": null,
      "overflow": null,
      "overflow_x": null,
      "overflow_y": null,
      "padding": null,
      "right": null,
      "top": null,
      "visibility": null,
      "width": null
     }
    },
    "47889cc56ded4df2a70033d485baacf4": {
     "model_module": "@jupyter-widgets/controls",
     "model_module_version": "1.5.0",
     "model_name": "HTMLModel",
     "state": {
      "_dom_classes": [],
      "_model_module": "@jupyter-widgets/controls",
      "_model_module_version": "1.5.0",
      "_model_name": "HTMLModel",
      "_view_count": null,
      "_view_module": "@jupyter-widgets/controls",
      "_view_module_version": "1.5.0",
      "_view_name": "HTMLView",
      "description": "",
      "description_tooltip": null,
      "layout": "IPY_MODEL_4ca2a3498d4e43238db5d999f5d93750",
      "placeholder": "​",
      "style": "IPY_MODEL_4aa225797708487b86b08a759cbdf3a4",
      "value": " 735/735 [00:00&lt;00:00, 3864.99 examples/s]"
     }
    },
    "4aa225797708487b86b08a759cbdf3a4": {
     "model_module": "@jupyter-widgets/controls",
     "model_module_version": "1.5.0",
     "model_name": "DescriptionStyleModel",
     "state": {
      "_model_module": "@jupyter-widgets/controls",
      "_model_module_version": "1.5.0",
      "_model_name": "DescriptionStyleModel",
      "_view_count": null,
      "_view_module": "@jupyter-widgets/base",
      "_view_module_version": "1.2.0",
      "_view_name": "StyleView",
      "description_width": ""
     }
    },
    "4ca2a3498d4e43238db5d999f5d93750": {
     "model_module": "@jupyter-widgets/base",
     "model_module_version": "1.2.0",
     "model_name": "LayoutModel",
     "state": {
      "_model_module": "@jupyter-widgets/base",
      "_model_module_version": "1.2.0",
      "_model_name": "LayoutModel",
      "_view_count": null,
      "_view_module": "@jupyter-widgets/base",
      "_view_module_version": "1.2.0",
      "_view_name": "LayoutView",
      "align_content": null,
      "align_items": null,
      "align_self": null,
      "border": null,
      "bottom": null,
      "display": null,
      "flex": null,
      "flex_flow": null,
      "grid_area": null,
      "grid_auto_columns": null,
      "grid_auto_flow": null,
      "grid_auto_rows": null,
      "grid_column": null,
      "grid_gap": null,
      "grid_row": null,
      "grid_template_areas": null,
      "grid_template_columns": null,
      "grid_template_rows": null,
      "height": null,
      "justify_content": null,
      "justify_items": null,
      "left": null,
      "margin": null,
      "max_height": null,
      "max_width": null,
      "min_height": null,
      "min_width": null,
      "object_fit": null,
      "object_position": null,
      "order": null,
      "overflow": null,
      "overflow_x": null,
      "overflow_y": null,
      "padding": null,
      "right": null,
      "top": null,
      "visibility": null,
      "width": null
     }
    },
    "4d99ca810f6f4f10966816beb988d494": {
     "model_module": "@jupyter-widgets/controls",
     "model_module_version": "1.5.0",
     "model_name": "HTMLModel",
     "state": {
      "_dom_classes": [],
      "_model_module": "@jupyter-widgets/controls",
      "_model_module_version": "1.5.0",
      "_model_name": "HTMLModel",
      "_view_count": null,
      "_view_module": "@jupyter-widgets/controls",
      "_view_module_version": "1.5.0",
      "_view_name": "HTMLView",
      "description": "",
      "description_tooltip": null,
      "layout": "IPY_MODEL_150674ea5bad4564ba6a76062c6f8b9c",
      "placeholder": "​",
      "style": "IPY_MODEL_9b4478d529ad4f64b4cb163b7f27f7f6",
      "value": "Map: 100%"
     }
    },
    "4e0aabc52603489eaa199670b3290919": {
     "model_module": "@jupyter-widgets/controls",
     "model_module_version": "1.5.0",
     "model_name": "DescriptionStyleModel",
     "state": {
      "_model_module": "@jupyter-widgets/controls",
      "_model_module_version": "1.5.0",
      "_model_name": "DescriptionStyleModel",
      "_view_count": null,
      "_view_module": "@jupyter-widgets/base",
      "_view_module_version": "1.2.0",
      "_view_name": "StyleView",
      "description_width": ""
     }
    },
    "4fbf92050138413a9646b5498c4df0dd": {
     "model_module": "@jupyter-widgets/controls",
     "model_module_version": "1.5.0",
     "model_name": "ButtonStyleModel",
     "state": {
      "_model_module": "@jupyter-widgets/controls",
      "_model_module_version": "1.5.0",
      "_model_name": "ButtonStyleModel",
      "_view_count": null,
      "_view_module": "@jupyter-widgets/base",
      "_view_module_version": "1.2.0",
      "_view_name": "StyleView",
      "button_color": null,
      "font_weight": ""
     }
    },
    "505fb4cb1cdc4b999214ae2dcd58d727": {
     "model_module": "@jupyter-widgets/base",
     "model_module_version": "1.2.0",
     "model_name": "LayoutModel",
     "state": {
      "_model_module": "@jupyter-widgets/base",
      "_model_module_version": "1.2.0",
      "_model_name": "LayoutModel",
      "_view_count": null,
      "_view_module": "@jupyter-widgets/base",
      "_view_module_version": "1.2.0",
      "_view_name": "LayoutView",
      "align_content": null,
      "align_items": null,
      "align_self": null,
      "border": null,
      "bottom": null,
      "display": null,
      "flex": null,
      "flex_flow": null,
      "grid_area": null,
      "grid_auto_columns": null,
      "grid_auto_flow": null,
      "grid_auto_rows": null,
      "grid_column": null,
      "grid_gap": null,
      "grid_row": null,
      "grid_template_areas": null,
      "grid_template_columns": null,
      "grid_template_rows": null,
      "height": null,
      "justify_content": null,
      "justify_items": null,
      "left": null,
      "margin": null,
      "max_height": null,
      "max_width": null,
      "min_height": null,
      "min_width": null,
      "object_fit": null,
      "object_position": null,
      "order": null,
      "overflow": null,
      "overflow_x": null,
      "overflow_y": null,
      "padding": null,
      "right": null,
      "top": null,
      "visibility": null,
      "width": null
     }
    },
    "531913193da049468d9ebc4e328946cd": {
     "model_module": "@jupyter-widgets/base",
     "model_module_version": "1.2.0",
     "model_name": "LayoutModel",
     "state": {
      "_model_module": "@jupyter-widgets/base",
      "_model_module_version": "1.2.0",
      "_model_name": "LayoutModel",
      "_view_count": null,
      "_view_module": "@jupyter-widgets/base",
      "_view_module_version": "1.2.0",
      "_view_name": "LayoutView",
      "align_content": null,
      "align_items": null,
      "align_self": null,
      "border": null,
      "bottom": null,
      "display": null,
      "flex": null,
      "flex_flow": null,
      "grid_area": null,
      "grid_auto_columns": null,
      "grid_auto_flow": null,
      "grid_auto_rows": null,
      "grid_column": null,
      "grid_gap": null,
      "grid_row": null,
      "grid_template_areas": null,
      "grid_template_columns": null,
      "grid_template_rows": null,
      "height": null,
      "justify_content": null,
      "justify_items": null,
      "left": null,
      "margin": null,
      "max_height": null,
      "max_width": null,
      "min_height": null,
      "min_width": null,
      "object_fit": null,
      "object_position": null,
      "order": null,
      "overflow": null,
      "overflow_x": null,
      "overflow_y": null,
      "padding": null,
      "right": null,
      "top": null,
      "visibility": null,
      "width": null
     }
    },
    "5baaaae43c3c424cb01f43debee1a12d": {
     "model_module": "@jupyter-widgets/controls",
     "model_module_version": "1.5.0",
     "model_name": "HBoxModel",
     "state": {
      "_dom_classes": [],
      "_model_module": "@jupyter-widgets/controls",
      "_model_module_version": "1.5.0",
      "_model_name": "HBoxModel",
      "_view_count": null,
      "_view_module": "@jupyter-widgets/controls",
      "_view_module_version": "1.5.0",
      "_view_name": "HBoxView",
      "box_style": "",
      "children": [
       "IPY_MODEL_80e559948a4b4e17aed3b574976f8bb6",
       "IPY_MODEL_a2eacb9fb4bf4ac5bc0de4dab4fa034d",
       "IPY_MODEL_c73b4a219e334a7aa033b38dca0cf8a4"
      ],
      "layout": "IPY_MODEL_d4ae1e56e98346b8bfea7fe5d15fcf79"
     }
    },
    "5c19d75ad6e544fea88c2bf738d14b1b": {
     "model_module": "@jupyter-widgets/base",
     "model_module_version": "1.2.0",
     "model_name": "LayoutModel",
     "state": {
      "_model_module": "@jupyter-widgets/base",
      "_model_module_version": "1.2.0",
      "_model_name": "LayoutModel",
      "_view_count": null,
      "_view_module": "@jupyter-widgets/base",
      "_view_module_version": "1.2.0",
      "_view_name": "LayoutView",
      "align_content": null,
      "align_items": null,
      "align_self": null,
      "border": null,
      "bottom": null,
      "display": null,
      "flex": null,
      "flex_flow": null,
      "grid_area": null,
      "grid_auto_columns": null,
      "grid_auto_flow": null,
      "grid_auto_rows": null,
      "grid_column": null,
      "grid_gap": null,
      "grid_row": null,
      "grid_template_areas": null,
      "grid_template_columns": null,
      "grid_template_rows": null,
      "height": null,
      "justify_content": null,
      "justify_items": null,
      "left": null,
      "margin": null,
      "max_height": null,
      "max_width": null,
      "min_height": null,
      "min_width": null,
      "object_fit": null,
      "object_position": null,
      "order": null,
      "overflow": null,
      "overflow_x": null,
      "overflow_y": null,
      "padding": null,
      "right": null,
      "top": null,
      "visibility": null,
      "width": null
     }
    },
    "5cb99e80b57141b98f0a6eba908779a4": {
     "model_module": "@jupyter-widgets/base",
     "model_module_version": "1.2.0",
     "model_name": "LayoutModel",
     "state": {
      "_model_module": "@jupyter-widgets/base",
      "_model_module_version": "1.2.0",
      "_model_name": "LayoutModel",
      "_view_count": null,
      "_view_module": "@jupyter-widgets/base",
      "_view_module_version": "1.2.0",
      "_view_name": "LayoutView",
      "align_content": null,
      "align_items": null,
      "align_self": null,
      "border": null,
      "bottom": null,
      "display": null,
      "flex": null,
      "flex_flow": null,
      "grid_area": null,
      "grid_auto_columns": null,
      "grid_auto_flow": null,
      "grid_auto_rows": null,
      "grid_column": null,
      "grid_gap": null,
      "grid_row": null,
      "grid_template_areas": null,
      "grid_template_columns": null,
      "grid_template_rows": null,
      "height": null,
      "justify_content": null,
      "justify_items": null,
      "left": null,
      "margin": null,
      "max_height": null,
      "max_width": null,
      "min_height": null,
      "min_width": null,
      "object_fit": null,
      "object_position": null,
      "order": null,
      "overflow": null,
      "overflow_x": null,
      "overflow_y": null,
      "padding": null,
      "right": null,
      "top": null,
      "visibility": null,
      "width": null
     }
    },
    "609b66ce79d3422f9e5bf6932dace15d": {
     "model_module": "@jupyter-widgets/controls",
     "model_module_version": "1.5.0",
     "model_name": "ProgressStyleModel",
     "state": {
      "_model_module": "@jupyter-widgets/controls",
      "_model_module_version": "1.5.0",
      "_model_name": "ProgressStyleModel",
      "_view_count": null,
      "_view_module": "@jupyter-widgets/base",
      "_view_module_version": "1.2.0",
      "_view_name": "StyleView",
      "bar_color": null,
      "description_width": ""
     }
    },
    "62971c76c73d4ce58794874af5556abc": {
     "model_module": "@jupyter-widgets/controls",
     "model_module_version": "1.5.0",
     "model_name": "HTMLModel",
     "state": {
      "_dom_classes": [],
      "_model_module": "@jupyter-widgets/controls",
      "_model_module_version": "1.5.0",
      "_model_name": "HTMLModel",
      "_view_count": null,
      "_view_module": "@jupyter-widgets/controls",
      "_view_module_version": "1.5.0",
      "_view_name": "HTMLView",
      "description": "",
      "description_tooltip": null,
      "layout": "IPY_MODEL_2f3ea53e606a48dc94c7255d107ae53e",
      "placeholder": "​",
      "style": "IPY_MODEL_643dc63227cc480aa1e52b13b2e6d789",
      "value": " 1/1 [00:05&lt;00:00,  5.55s/it]"
     }
    },
    "643dc63227cc480aa1e52b13b2e6d789": {
     "model_module": "@jupyter-widgets/controls",
     "model_module_version": "1.5.0",
     "model_name": "DescriptionStyleModel",
     "state": {
      "_model_module": "@jupyter-widgets/controls",
      "_model_module_version": "1.5.0",
      "_model_name": "DescriptionStyleModel",
      "_view_count": null,
      "_view_module": "@jupyter-widgets/base",
      "_view_module_version": "1.2.0",
      "_view_name": "StyleView",
      "description_width": ""
     }
    },
    "64516b3731654f099c314ec5a5a60db4": {
     "model_module": "@jupyter-widgets/controls",
     "model_module_version": "1.5.0",
     "model_name": "DescriptionStyleModel",
     "state": {
      "_model_module": "@jupyter-widgets/controls",
      "_model_module_version": "1.5.0",
      "_model_name": "DescriptionStyleModel",
      "_view_count": null,
      "_view_module": "@jupyter-widgets/base",
      "_view_module_version": "1.2.0",
      "_view_name": "StyleView",
      "description_width": ""
     }
    },
    "678c364167b04c62a0d97f060eafd77e": {
     "model_module": "@jupyter-widgets/controls",
     "model_module_version": "1.5.0",
     "model_name": "DescriptionStyleModel",
     "state": {
      "_model_module": "@jupyter-widgets/controls",
      "_model_module_version": "1.5.0",
      "_model_name": "DescriptionStyleModel",
      "_view_count": null,
      "_view_module": "@jupyter-widgets/base",
      "_view_module_version": "1.2.0",
      "_view_name": "StyleView",
      "description_width": ""
     }
    },
    "6d1debde5c9e42fdb679f168b1341c08": {
     "model_module": "@jupyter-widgets/controls",
     "model_module_version": "1.5.0",
     "model_name": "DescriptionStyleModel",
     "state": {
      "_model_module": "@jupyter-widgets/controls",
      "_model_module_version": "1.5.0",
      "_model_name": "DescriptionStyleModel",
      "_view_count": null,
      "_view_module": "@jupyter-widgets/base",
      "_view_module_version": "1.2.0",
      "_view_name": "StyleView",
      "description_width": ""
     }
    },
    "6e0e517537834770985e4c6538981b07": {
     "model_module": "@jupyter-widgets/controls",
     "model_module_version": "1.5.0",
     "model_name": "ProgressStyleModel",
     "state": {
      "_model_module": "@jupyter-widgets/controls",
      "_model_module_version": "1.5.0",
      "_model_name": "ProgressStyleModel",
      "_view_count": null,
      "_view_module": "@jupyter-widgets/base",
      "_view_module_version": "1.2.0",
      "_view_name": "StyleView",
      "bar_color": null,
      "description_width": ""
     }
    },
    "7138e587d2ed425d98ffac3af1e26f5c": {
     "model_module": "@jupyter-widgets/base",
     "model_module_version": "1.2.0",
     "model_name": "LayoutModel",
     "state": {
      "_model_module": "@jupyter-widgets/base",
      "_model_module_version": "1.2.0",
      "_model_name": "LayoutModel",
      "_view_count": null,
      "_view_module": "@jupyter-widgets/base",
      "_view_module_version": "1.2.0",
      "_view_name": "LayoutView",
      "align_content": null,
      "align_items": null,
      "align_self": null,
      "border": null,
      "bottom": null,
      "display": null,
      "flex": null,
      "flex_flow": null,
      "grid_area": null,
      "grid_auto_columns": null,
      "grid_auto_flow": null,
      "grid_auto_rows": null,
      "grid_column": null,
      "grid_gap": null,
      "grid_row": null,
      "grid_template_areas": null,
      "grid_template_columns": null,
      "grid_template_rows": null,
      "height": null,
      "justify_content": null,
      "justify_items": null,
      "left": null,
      "margin": null,
      "max_height": null,
      "max_width": null,
      "min_height": null,
      "min_width": null,
      "object_fit": null,
      "object_position": null,
      "order": null,
      "overflow": null,
      "overflow_x": null,
      "overflow_y": null,
      "padding": null,
      "right": null,
      "top": null,
      "visibility": null,
      "width": null
     }
    },
    "731285a9a2104fb7abad9a41732ce2e4": {
     "model_module": "@jupyter-widgets/controls",
     "model_module_version": "1.5.0",
     "model_name": "ProgressStyleModel",
     "state": {
      "_model_module": "@jupyter-widgets/controls",
      "_model_module_version": "1.5.0",
      "_model_name": "ProgressStyleModel",
      "_view_count": null,
      "_view_module": "@jupyter-widgets/base",
      "_view_module_version": "1.2.0",
      "_view_name": "StyleView",
      "bar_color": null,
      "description_width": ""
     }
    },
    "80e559948a4b4e17aed3b574976f8bb6": {
     "model_module": "@jupyter-widgets/controls",
     "model_module_version": "1.5.0",
     "model_name": "HTMLModel",
     "state": {
      "_dom_classes": [],
      "_model_module": "@jupyter-widgets/controls",
      "_model_module_version": "1.5.0",
      "_model_name": "HTMLModel",
      "_view_count": null,
      "_view_module": "@jupyter-widgets/controls",
      "_view_module_version": "1.5.0",
      "_view_name": "HTMLView",
      "description": "",
      "description_tooltip": null,
      "layout": "IPY_MODEL_32b6aa88a5ac471f8248d314cf1ccac7",
      "placeholder": "​",
      "style": "IPY_MODEL_83791579bc1b4dbba02dbcfb681c32cc",
      "value": "100%"
     }
    },
    "831d8b2dbc16408984f68be2d6af4c0e": {
     "model_module": "@jupyter-widgets/controls",
     "model_module_version": "1.5.0",
     "model_name": "HBoxModel",
     "state": {
      "_dom_classes": [],
      "_model_module": "@jupyter-widgets/controls",
      "_model_module_version": "1.5.0",
      "_model_name": "HBoxModel",
      "_view_count": null,
      "_view_module": "@jupyter-widgets/controls",
      "_view_module_version": "1.5.0",
      "_view_name": "HBoxView",
      "box_style": "",
      "children": [
       "IPY_MODEL_abc2a43f0d6c4e96a39ffb2b6bc02c53",
       "IPY_MODEL_fae1f6653087483dbde3b7a4e21cd1d9",
       "IPY_MODEL_396b873dfc9643428e18dac0adb4decd"
      ],
      "layout": "IPY_MODEL_0ebce648ad1642d6bded30665c336270"
     }
    },
    "83791579bc1b4dbba02dbcfb681c32cc": {
     "model_module": "@jupyter-widgets/controls",
     "model_module_version": "1.5.0",
     "model_name": "DescriptionStyleModel",
     "state": {
      "_model_module": "@jupyter-widgets/controls",
      "_model_module_version": "1.5.0",
      "_model_name": "DescriptionStyleModel",
      "_view_count": null,
      "_view_module": "@jupyter-widgets/base",
      "_view_module_version": "1.2.0",
      "_view_name": "StyleView",
      "description_width": ""
     }
    },
    "83a9358040184b788dfe75c18248232c": {
     "model_module": "@jupyter-widgets/controls",
     "model_module_version": "1.5.0",
     "model_name": "HBoxModel",
     "state": {
      "_dom_classes": [],
      "_model_module": "@jupyter-widgets/controls",
      "_model_module_version": "1.5.0",
      "_model_name": "HBoxModel",
      "_view_count": null,
      "_view_module": "@jupyter-widgets/controls",
      "_view_module_version": "1.5.0",
      "_view_name": "HBoxView",
      "box_style": "",
      "children": [
       "IPY_MODEL_ff1979990f60488ab3a7dd840419c36b",
       "IPY_MODEL_f2281c844a6f496e82b4940d3ae00636",
       "IPY_MODEL_a640fe20d4b9430e93da02e3ef899ef4"
      ],
      "layout": "IPY_MODEL_393eff095bca4868bfe26a4eb5dc01fb"
     }
    },
    "8bcf6571ca6c496aa0198dc1e8fc1274": {
     "model_module": "@jupyter-widgets/controls",
     "model_module_version": "1.5.0",
     "model_name": "HBoxModel",
     "state": {
      "_dom_classes": [],
      "_model_module": "@jupyter-widgets/controls",
      "_model_module_version": "1.5.0",
      "_model_name": "HBoxModel",
      "_view_count": null,
      "_view_module": "@jupyter-widgets/controls",
      "_view_module_version": "1.5.0",
      "_view_name": "HBoxView",
      "box_style": "",
      "children": [
       "IPY_MODEL_456e1b34519a4fe497caf3e76950c19d",
       "IPY_MODEL_dc9ffb7d134241d8b9cfe83ac8d264a2",
       "IPY_MODEL_d89b0cc1daab48d38528c0365339d880"
      ],
      "layout": "IPY_MODEL_99853b8ef9c9410e88425332568d5b1a"
     }
    },
    "918c75fc40074602a721e51044b1b5d5": {
     "model_module": "@jupyter-widgets/controls",
     "model_module_version": "1.5.0",
     "model_name": "DescriptionStyleModel",
     "state": {
      "_model_module": "@jupyter-widgets/controls",
      "_model_module_version": "1.5.0",
      "_model_name": "DescriptionStyleModel",
      "_view_count": null,
      "_view_module": "@jupyter-widgets/base",
      "_view_module_version": "1.2.0",
      "_view_name": "StyleView",
      "description_width": ""
     }
    },
    "93a83c78e5be4f79ba0b0abb56c08584": {
     "model_module": "@jupyter-widgets/base",
     "model_module_version": "1.2.0",
     "model_name": "LayoutModel",
     "state": {
      "_model_module": "@jupyter-widgets/base",
      "_model_module_version": "1.2.0",
      "_model_name": "LayoutModel",
      "_view_count": null,
      "_view_module": "@jupyter-widgets/base",
      "_view_module_version": "1.2.0",
      "_view_name": "LayoutView",
      "align_content": null,
      "align_items": null,
      "align_self": null,
      "border": null,
      "bottom": null,
      "display": null,
      "flex": null,
      "flex_flow": null,
      "grid_area": null,
      "grid_auto_columns": null,
      "grid_auto_flow": null,
      "grid_auto_rows": null,
      "grid_column": null,
      "grid_gap": null,
      "grid_row": null,
      "grid_template_areas": null,
      "grid_template_columns": null,
      "grid_template_rows": null,
      "height": null,
      "justify_content": null,
      "justify_items": null,
      "left": null,
      "margin": null,
      "max_height": null,
      "max_width": null,
      "min_height": null,
      "min_width": null,
      "object_fit": null,
      "object_position": null,
      "order": null,
      "overflow": null,
      "overflow_x": null,
      "overflow_y": null,
      "padding": null,
      "right": null,
      "top": null,
      "visibility": null,
      "width": null
     }
    },
    "93bd4879266b461a8994004dd6a2f2af": {
     "model_module": "@jupyter-widgets/base",
     "model_module_version": "1.2.0",
     "model_name": "LayoutModel",
     "state": {
      "_model_module": "@jupyter-widgets/base",
      "_model_module_version": "1.2.0",
      "_model_name": "LayoutModel",
      "_view_count": null,
      "_view_module": "@jupyter-widgets/base",
      "_view_module_version": "1.2.0",
      "_view_name": "LayoutView",
      "align_content": null,
      "align_items": null,
      "align_self": null,
      "border": null,
      "bottom": null,
      "display": null,
      "flex": null,
      "flex_flow": null,
      "grid_area": null,
      "grid_auto_columns": null,
      "grid_auto_flow": null,
      "grid_auto_rows": null,
      "grid_column": null,
      "grid_gap": null,
      "grid_row": null,
      "grid_template_areas": null,
      "grid_template_columns": null,
      "grid_template_rows": null,
      "height": null,
      "justify_content": null,
      "justify_items": null,
      "left": null,
      "margin": null,
      "max_height": null,
      "max_width": null,
      "min_height": null,
      "min_width": null,
      "object_fit": null,
      "object_position": null,
      "order": null,
      "overflow": null,
      "overflow_x": null,
      "overflow_y": null,
      "padding": null,
      "right": null,
      "top": null,
      "visibility": null,
      "width": null
     }
    },
    "99853b8ef9c9410e88425332568d5b1a": {
     "model_module": "@jupyter-widgets/base",
     "model_module_version": "1.2.0",
     "model_name": "LayoutModel",
     "state": {
      "_model_module": "@jupyter-widgets/base",
      "_model_module_version": "1.2.0",
      "_model_name": "LayoutModel",
      "_view_count": null,
      "_view_module": "@jupyter-widgets/base",
      "_view_module_version": "1.2.0",
      "_view_name": "LayoutView",
      "align_content": null,
      "align_items": null,
      "align_self": null,
      "border": null,
      "bottom": null,
      "display": null,
      "flex": null,
      "flex_flow": null,
      "grid_area": null,
      "grid_auto_columns": null,
      "grid_auto_flow": null,
      "grid_auto_rows": null,
      "grid_column": null,
      "grid_gap": null,
      "grid_row": null,
      "grid_template_areas": null,
      "grid_template_columns": null,
      "grid_template_rows": null,
      "height": null,
      "justify_content": null,
      "justify_items": null,
      "left": null,
      "margin": null,
      "max_height": null,
      "max_width": null,
      "min_height": null,
      "min_width": null,
      "object_fit": null,
      "object_position": null,
      "order": null,
      "overflow": null,
      "overflow_x": null,
      "overflow_y": null,
      "padding": null,
      "right": null,
      "top": null,
      "visibility": null,
      "width": null
     }
    },
    "9b4478d529ad4f64b4cb163b7f27f7f6": {
     "model_module": "@jupyter-widgets/controls",
     "model_module_version": "1.5.0",
     "model_name": "DescriptionStyleModel",
     "state": {
      "_model_module": "@jupyter-widgets/controls",
      "_model_module_version": "1.5.0",
      "_model_name": "DescriptionStyleModel",
      "_view_count": null,
      "_view_module": "@jupyter-widgets/base",
      "_view_module_version": "1.2.0",
      "_view_name": "StyleView",
      "description_width": ""
     }
    },
    "a175c966437f4b089d4ac21d0f1ce829": {
     "model_module": "@jupyter-widgets/controls",
     "model_module_version": "1.5.0",
     "model_name": "DescriptionStyleModel",
     "state": {
      "_model_module": "@jupyter-widgets/controls",
      "_model_module_version": "1.5.0",
      "_model_name": "DescriptionStyleModel",
      "_view_count": null,
      "_view_module": "@jupyter-widgets/base",
      "_view_module_version": "1.2.0",
      "_view_name": "StyleView",
      "description_width": ""
     }
    },
    "a1fb98a52721452f869390c4aacbf0cb": {
     "model_module": "@jupyter-widgets/controls",
     "model_module_version": "1.5.0",
     "model_name": "DescriptionStyleModel",
     "state": {
      "_model_module": "@jupyter-widgets/controls",
      "_model_module_version": "1.5.0",
      "_model_name": "DescriptionStyleModel",
      "_view_count": null,
      "_view_module": "@jupyter-widgets/base",
      "_view_module_version": "1.2.0",
      "_view_name": "StyleView",
      "description_width": ""
     }
    },
    "a2eacb9fb4bf4ac5bc0de4dab4fa034d": {
     "model_module": "@jupyter-widgets/controls",
     "model_module_version": "1.5.0",
     "model_name": "FloatProgressModel",
     "state": {
      "_dom_classes": [],
      "_model_module": "@jupyter-widgets/controls",
      "_model_module_version": "1.5.0",
      "_model_name": "FloatProgressModel",
      "_view_count": null,
      "_view_module": "@jupyter-widgets/controls",
      "_view_module_version": "1.5.0",
      "_view_name": "ProgressView",
      "bar_style": "success",
      "description": "",
      "description_tooltip": null,
      "layout": "IPY_MODEL_e70633d0b31f4284801a15c0f4106c9c",
      "max": 1,
      "min": 0,
      "orientation": "horizontal",
      "style": "IPY_MODEL_609b66ce79d3422f9e5bf6932dace15d",
      "value": 1
     }
    },
    "a3c5f03fe88c4b28b6f603612f57be4d": {
     "model_module": "@jupyter-widgets/controls",
     "model_module_version": "1.5.0",
     "model_name": "HTMLModel",
     "state": {
      "_dom_classes": [],
      "_model_module": "@jupyter-widgets/controls",
      "_model_module_version": "1.5.0",
      "_model_name": "HTMLModel",
      "_view_count": null,
      "_view_module": "@jupyter-widgets/controls",
      "_view_module_version": "1.5.0",
      "_view_name": "HTMLView",
      "description": "",
      "description_tooltip": null,
      "layout": "IPY_MODEL_aaa57206a41744c3aea971f8c4401180",
      "placeholder": "​",
      "style": "IPY_MODEL_3668b378478c41cab30c60f9fd93d73f",
      "value": "Uploading the dataset shards: 100%"
     }
    },
    "a640fe20d4b9430e93da02e3ef899ef4": {
     "model_module": "@jupyter-widgets/controls",
     "model_module_version": "1.5.0",
     "model_name": "HTMLModel",
     "state": {
      "_dom_classes": [],
      "_model_module": "@jupyter-widgets/controls",
      "_model_module_version": "1.5.0",
      "_model_name": "HTMLModel",
      "_view_count": null,
      "_view_module": "@jupyter-widgets/controls",
      "_view_module_version": "1.5.0",
      "_view_name": "HTMLView",
      "description": "",
      "description_tooltip": null,
      "layout": "IPY_MODEL_0988703d75354ea09807cdef56f0b085",
      "placeholder": "​",
      "style": "IPY_MODEL_aa1fe859894d45eaad84239fd5c59d5a",
      "value": " 735/735 [01:50&lt;00:00,  1.02s/ examples]"
     }
    },
    "aa1fe859894d45eaad84239fd5c59d5a": {
     "model_module": "@jupyter-widgets/controls",
     "model_module_version": "1.5.0",
     "model_name": "DescriptionStyleModel",
     "state": {
      "_model_module": "@jupyter-widgets/controls",
      "_model_module_version": "1.5.0",
      "_model_name": "DescriptionStyleModel",
      "_view_count": null,
      "_view_module": "@jupyter-widgets/base",
      "_view_module_version": "1.2.0",
      "_view_name": "StyleView",
      "description_width": ""
     }
    },
    "aaa57206a41744c3aea971f8c4401180": {
     "model_module": "@jupyter-widgets/base",
     "model_module_version": "1.2.0",
     "model_name": "LayoutModel",
     "state": {
      "_model_module": "@jupyter-widgets/base",
      "_model_module_version": "1.2.0",
      "_model_name": "LayoutModel",
      "_view_count": null,
      "_view_module": "@jupyter-widgets/base",
      "_view_module_version": "1.2.0",
      "_view_name": "LayoutView",
      "align_content": null,
      "align_items": null,
      "align_self": null,
      "border": null,
      "bottom": null,
      "display": null,
      "flex": null,
      "flex_flow": null,
      "grid_area": null,
      "grid_auto_columns": null,
      "grid_auto_flow": null,
      "grid_auto_rows": null,
      "grid_column": null,
      "grid_gap": null,
      "grid_row": null,
      "grid_template_areas": null,
      "grid_template_columns": null,
      "grid_template_rows": null,
      "height": null,
      "justify_content": null,
      "justify_items": null,
      "left": null,
      "margin": null,
      "max_height": null,
      "max_width": null,
      "min_height": null,
      "min_width": null,
      "object_fit": null,
      "object_position": null,
      "order": null,
      "overflow": null,
      "overflow_x": null,
      "overflow_y": null,
      "padding": null,
      "right": null,
      "top": null,
      "visibility": null,
      "width": null
     }
    },
    "abc2a43f0d6c4e96a39ffb2b6bc02c53": {
     "model_module": "@jupyter-widgets/controls",
     "model_module_version": "1.5.0",
     "model_name": "HTMLModel",
     "state": {
      "_dom_classes": [],
      "_model_module": "@jupyter-widgets/controls",
      "_model_module_version": "1.5.0",
      "_model_name": "HTMLModel",
      "_view_count": null,
      "_view_module": "@jupyter-widgets/controls",
      "_view_module_version": "1.5.0",
      "_view_name": "HTMLView",
      "description": "",
      "description_tooltip": null,
      "layout": "IPY_MODEL_5c19d75ad6e544fea88c2bf738d14b1b",
      "placeholder": "​",
      "style": "IPY_MODEL_381c967de4434e7295be41ac341b53ef",
      "value": "Creating parquet from Arrow format: 100%"
     }
    },
    "b39f4c78df5543e2860f5b37be576783": {
     "model_module": "@jupyter-widgets/base",
     "model_module_version": "1.2.0",
     "model_name": "LayoutModel",
     "state": {
      "_model_module": "@jupyter-widgets/base",
      "_model_module_version": "1.2.0",
      "_model_name": "LayoutModel",
      "_view_count": null,
      "_view_module": "@jupyter-widgets/base",
      "_view_module_version": "1.2.0",
      "_view_name": "LayoutView",
      "align_content": null,
      "align_items": null,
      "align_self": null,
      "border": null,
      "bottom": null,
      "display": null,
      "flex": null,
      "flex_flow": null,
      "grid_area": null,
      "grid_auto_columns": null,
      "grid_auto_flow": null,
      "grid_auto_rows": null,
      "grid_column": null,
      "grid_gap": null,
      "grid_row": null,
      "grid_template_areas": null,
      "grid_template_columns": null,
      "grid_template_rows": null,
      "height": null,
      "justify_content": null,
      "justify_items": null,
      "left": null,
      "margin": null,
      "max_height": null,
      "max_width": null,
      "min_height": null,
      "min_width": null,
      "object_fit": null,
      "object_position": null,
      "order": null,
      "overflow": null,
      "overflow_x": null,
      "overflow_y": null,
      "padding": null,
      "right": null,
      "top": null,
      "visibility": null,
      "width": null
     }
    },
    "bb2a812b17d84dfcaca0f2083d2ea6e1": {
     "model_module": "@jupyter-widgets/controls",
     "model_module_version": "1.5.0",
     "model_name": "VBoxModel",
     "state": {
      "_dom_classes": [],
      "_model_module": "@jupyter-widgets/controls",
      "_model_module_version": "1.5.0",
      "_model_name": "VBoxModel",
      "_view_count": null,
      "_view_module": "@jupyter-widgets/controls",
      "_view_module_version": "1.5.0",
      "_view_name": "VBoxView",
      "box_style": "",
      "children": [],
      "layout": "IPY_MODEL_cdc20cc958d34476ae73d1dec3e86c93"
     }
    },
    "c5b5d980f5f44705a58df117cd2447ad": {
     "model_module": "@jupyter-widgets/base",
     "model_module_version": "1.2.0",
     "model_name": "LayoutModel",
     "state": {
      "_model_module": "@jupyter-widgets/base",
      "_model_module_version": "1.2.0",
      "_model_name": "LayoutModel",
      "_view_count": null,
      "_view_module": "@jupyter-widgets/base",
      "_view_module_version": "1.2.0",
      "_view_name": "LayoutView",
      "align_content": null,
      "align_items": null,
      "align_self": null,
      "border": null,
      "bottom": null,
      "display": null,
      "flex": null,
      "flex_flow": null,
      "grid_area": null,
      "grid_auto_columns": null,
      "grid_auto_flow": null,
      "grid_auto_rows": null,
      "grid_column": null,
      "grid_gap": null,
      "grid_row": null,
      "grid_template_areas": null,
      "grid_template_columns": null,
      "grid_template_rows": null,
      "height": null,
      "justify_content": null,
      "justify_items": null,
      "left": null,
      "margin": null,
      "max_height": null,
      "max_width": null,
      "min_height": null,
      "min_width": null,
      "object_fit": null,
      "object_position": null,
      "order": null,
      "overflow": null,
      "overflow_x": null,
      "overflow_y": null,
      "padding": null,
      "right": null,
      "top": null,
      "visibility": null,
      "width": null
     }
    },
    "c73b4a219e334a7aa033b38dca0cf8a4": {
     "model_module": "@jupyter-widgets/controls",
     "model_module_version": "1.5.0",
     "model_name": "HTMLModel",
     "state": {
      "_dom_classes": [],
      "_model_module": "@jupyter-widgets/controls",
      "_model_module_version": "1.5.0",
      "_model_name": "HTMLModel",
      "_view_count": null,
      "_view_module": "@jupyter-widgets/controls",
      "_view_module_version": "1.5.0",
      "_view_name": "HTMLView",
      "description": "",
      "description_tooltip": null,
      "layout": "IPY_MODEL_b39f4c78df5543e2860f5b37be576783",
      "placeholder": "​",
      "style": "IPY_MODEL_4537d4bdbc374ec3ae1e72d830039bf8",
      "value": " 1/1 [00:04&lt;00:00,  4.25s/it]"
     }
    },
    "ca46972453bc4342984a32450a78ffbe": {
     "model_module": "@jupyter-widgets/controls",
     "model_module_version": "1.5.0",
     "model_name": "ButtonModel",
     "state": {
      "_dom_classes": [],
      "_model_module": "@jupyter-widgets/controls",
      "_model_module_version": "1.5.0",
      "_model_name": "ButtonModel",
      "_view_count": null,
      "_view_module": "@jupyter-widgets/controls",
      "_view_module_version": "1.5.0",
      "_view_name": "ButtonView",
      "button_style": "",
      "description": "Login",
      "disabled": false,
      "icon": "",
      "layout": "IPY_MODEL_2ba3b22981804a078e4b97f04df39a1d",
      "style": "IPY_MODEL_4fbf92050138413a9646b5498c4df0dd",
      "tooltip": ""
     }
    },
    "cdc20cc958d34476ae73d1dec3e86c93": {
     "model_module": "@jupyter-widgets/base",
     "model_module_version": "1.2.0",
     "model_name": "LayoutModel",
     "state": {
      "_model_module": "@jupyter-widgets/base",
      "_model_module_version": "1.2.0",
      "_model_name": "LayoutModel",
      "_view_count": null,
      "_view_module": "@jupyter-widgets/base",
      "_view_module_version": "1.2.0",
      "_view_name": "LayoutView",
      "align_content": null,
      "align_items": "center",
      "align_self": null,
      "border": null,
      "bottom": null,
      "display": "flex",
      "flex": null,
      "flex_flow": "column",
      "grid_area": null,
      "grid_auto_columns": null,
      "grid_auto_flow": null,
      "grid_auto_rows": null,
      "grid_column": null,
      "grid_gap": null,
      "grid_row": null,
      "grid_template_areas": null,
      "grid_template_columns": null,
      "grid_template_rows": null,
      "height": null,
      "justify_content": null,
      "justify_items": null,
      "left": null,
      "margin": null,
      "max_height": null,
      "max_width": null,
      "min_height": null,
      "min_width": null,
      "object_fit": null,
      "object_position": null,
      "order": null,
      "overflow": null,
      "overflow_x": null,
      "overflow_y": null,
      "padding": null,
      "right": null,
      "top": null,
      "visibility": null,
      "width": "50%"
     }
    },
    "cefd0f75ccbd4035a348e363c181eb37": {
     "model_module": "@jupyter-widgets/controls",
     "model_module_version": "1.5.0",
     "model_name": "PasswordModel",
     "state": {
      "_dom_classes": [],
      "_model_module": "@jupyter-widgets/controls",
      "_model_module_version": "1.5.0",
      "_model_name": "PasswordModel",
      "_view_count": null,
      "_view_module": "@jupyter-widgets/controls",
      "_view_module_version": "1.5.0",
      "_view_name": "PasswordView",
      "continuous_update": true,
      "description": "Token:",
      "description_tooltip": null,
      "disabled": false,
      "layout": "IPY_MODEL_c5b5d980f5f44705a58df117cd2447ad",
      "placeholder": "​",
      "style": "IPY_MODEL_a175c966437f4b089d4ac21d0f1ce829",
      "value": ""
     }
    },
    "cf7406be0a094ce2bf681f08072ec2fb": {
     "model_module": "@jupyter-widgets/controls",
     "model_module_version": "1.5.0",
     "model_name": "FloatProgressModel",
     "state": {
      "_dom_classes": [],
      "_model_module": "@jupyter-widgets/controls",
      "_model_module_version": "1.5.0",
      "_model_name": "FloatProgressModel",
      "_view_count": null,
      "_view_module": "@jupyter-widgets/controls",
      "_view_module_version": "1.5.0",
      "_view_name": "ProgressView",
      "bar_style": "success",
      "description": "",
      "description_tooltip": null,
      "layout": "IPY_MODEL_5cb99e80b57141b98f0a6eba908779a4",
      "max": 1,
      "min": 0,
      "orientation": "horizontal",
      "style": "IPY_MODEL_2979627c20464e8ea7fca2deed96365e",
      "value": 1
     }
    },
    "d4114017ddca4dc9abfd5cc6a859cf3b": {
     "model_module": "@jupyter-widgets/controls",
     "model_module_version": "1.5.0",
     "model_name": "LabelModel",
     "state": {
      "_dom_classes": [],
      "_model_module": "@jupyter-widgets/controls",
      "_model_module_version": "1.5.0",
      "_model_name": "LabelModel",
      "_view_count": null,
      "_view_module": "@jupyter-widgets/controls",
      "_view_module_version": "1.5.0",
      "_view_name": "LabelView",
      "description": "",
      "description_tooltip": null,
      "layout": "IPY_MODEL_47292bdefab64bb7aa5ad3231d6c3ced",
      "placeholder": "​",
      "style": "IPY_MODEL_e1cba836a0274d8382b0ec7d738d5418",
      "value": "Connecting..."
     }
    },
    "d4ae1e56e98346b8bfea7fe5d15fcf79": {
     "model_module": "@jupyter-widgets/base",
     "model_module_version": "1.2.0",
     "model_name": "LayoutModel",
     "state": {
      "_model_module": "@jupyter-widgets/base",
      "_model_module_version": "1.2.0",
      "_model_name": "LayoutModel",
      "_view_count": null,
      "_view_module": "@jupyter-widgets/base",
      "_view_module_version": "1.2.0",
      "_view_name": "LayoutView",
      "align_content": null,
      "align_items": null,
      "align_self": null,
      "border": null,
      "bottom": null,
      "display": null,
      "flex": null,
      "flex_flow": null,
      "grid_area": null,
      "grid_auto_columns": null,
      "grid_auto_flow": null,
      "grid_auto_rows": null,
      "grid_column": null,
      "grid_gap": null,
      "grid_row": null,
      "grid_template_areas": null,
      "grid_template_columns": null,
      "grid_template_rows": null,
      "height": null,
      "justify_content": null,
      "justify_items": null,
      "left": null,
      "margin": null,
      "max_height": null,
      "max_width": null,
      "min_height": null,
      "min_width": null,
      "object_fit": null,
      "object_position": null,
      "order": null,
      "overflow": null,
      "overflow_x": null,
      "overflow_y": null,
      "padding": null,
      "right": null,
      "top": null,
      "visibility": null,
      "width": null
     }
    },
    "d89b0cc1daab48d38528c0365339d880": {
     "model_module": "@jupyter-widgets/controls",
     "model_module_version": "1.5.0",
     "model_name": "HTMLModel",
     "state": {
      "_dom_classes": [],
      "_model_module": "@jupyter-widgets/controls",
      "_model_module_version": "1.5.0",
      "_model_name": "HTMLModel",
      "_view_count": null,
      "_view_module": "@jupyter-widgets/controls",
      "_view_module_version": "1.5.0",
      "_view_name": "HTMLView",
      "description": "",
      "description_tooltip": null,
      "layout": "IPY_MODEL_e6ab0f24faf6468aa5c93c7990451e05",
      "placeholder": "​",
      "style": "IPY_MODEL_09fdee084ed3487890c936f1807da59d",
      "value": " 735/0 [01:18&lt;00:00,  5.87 examples/s]"
     }
    },
    "d9235fcbe51a4286abff5d30385ba51b": {
     "model_module": "@jupyter-widgets/base",
     "model_module_version": "1.2.0",
     "model_name": "LayoutModel",
     "state": {
      "_model_module": "@jupyter-widgets/base",
      "_model_module_version": "1.2.0",
      "_model_name": "LayoutModel",
      "_view_count": null,
      "_view_module": "@jupyter-widgets/base",
      "_view_module_version": "1.2.0",
      "_view_name": "LayoutView",
      "align_content": null,
      "align_items": null,
      "align_self": null,
      "border": null,
      "bottom": null,
      "display": null,
      "flex": null,
      "flex_flow": null,
      "grid_area": null,
      "grid_auto_columns": null,
      "grid_auto_flow": null,
      "grid_auto_rows": null,
      "grid_column": null,
      "grid_gap": null,
      "grid_row": null,
      "grid_template_areas": null,
      "grid_template_columns": null,
      "grid_template_rows": null,
      "height": null,
      "justify_content": null,
      "justify_items": null,
      "left": null,
      "margin": null,
      "max_height": null,
      "max_width": null,
      "min_height": null,
      "min_width": null,
      "object_fit": null,
      "object_position": null,
      "order": null,
      "overflow": null,
      "overflow_x": null,
      "overflow_y": null,
      "padding": null,
      "right": null,
      "top": null,
      "visibility": null,
      "width": null
     }
    },
    "dc9ffb7d134241d8b9cfe83ac8d264a2": {
     "model_module": "@jupyter-widgets/controls",
     "model_module_version": "1.5.0",
     "model_name": "FloatProgressModel",
     "state": {
      "_dom_classes": [],
      "_model_module": "@jupyter-widgets/controls",
      "_model_module_version": "1.5.0",
      "_model_name": "FloatProgressModel",
      "_view_count": null,
      "_view_module": "@jupyter-widgets/controls",
      "_view_module_version": "1.5.0",
      "_view_name": "ProgressView",
      "bar_style": "success",
      "description": "",
      "description_tooltip": null,
      "layout": "IPY_MODEL_f6a96e0f5810429d8eb489a6f3946e6c",
      "max": 1,
      "min": 0,
      "orientation": "horizontal",
      "style": "IPY_MODEL_731285a9a2104fb7abad9a41732ce2e4",
      "value": 1
     }
    },
    "e1cba836a0274d8382b0ec7d738d5418": {
     "model_module": "@jupyter-widgets/controls",
     "model_module_version": "1.5.0",
     "model_name": "DescriptionStyleModel",
     "state": {
      "_model_module": "@jupyter-widgets/controls",
      "_model_module_version": "1.5.0",
      "_model_name": "DescriptionStyleModel",
      "_view_count": null,
      "_view_module": "@jupyter-widgets/base",
      "_view_module_version": "1.2.0",
      "_view_name": "StyleView",
      "description_width": ""
     }
    },
    "e210fd25f7c54dd7be131e7c8e868596": {
     "model_module": "@jupyter-widgets/controls",
     "model_module_version": "1.5.0",
     "model_name": "HBoxModel",
     "state": {
      "_dom_classes": [],
      "_model_module": "@jupyter-widgets/controls",
      "_model_module_version": "1.5.0",
      "_model_name": "HBoxModel",
      "_view_count": null,
      "_view_module": "@jupyter-widgets/controls",
      "_view_module_version": "1.5.0",
      "_view_name": "HBoxView",
      "box_style": "",
      "children": [
       "IPY_MODEL_4d99ca810f6f4f10966816beb988d494",
       "IPY_MODEL_f4f08038b8de49829daaeffeeedb05ab",
       "IPY_MODEL_47889cc56ded4df2a70033d485baacf4"
      ],
      "layout": "IPY_MODEL_012f84dd899e43c6b4b3e299924fff08"
     }
    },
    "e67763e9c52644cca350ac72875b3701": {
     "model_module": "@jupyter-widgets/controls",
     "model_module_version": "1.5.0",
     "model_name": "CheckboxModel",
     "state": {
      "_dom_classes": [],
      "_model_module": "@jupyter-widgets/controls",
      "_model_module_version": "1.5.0",
      "_model_name": "CheckboxModel",
      "_view_count": null,
      "_view_module": "@jupyter-widgets/controls",
      "_view_module_version": "1.5.0",
      "_view_name": "CheckboxView",
      "description": "Add token as git credential?",
      "description_tooltip": null,
      "disabled": false,
      "indent": true,
      "layout": "IPY_MODEL_505fb4cb1cdc4b999214ae2dcd58d727",
      "style": "IPY_MODEL_64516b3731654f099c314ec5a5a60db4",
      "value": true
     }
    },
    "e6ab0f24faf6468aa5c93c7990451e05": {
     "model_module": "@jupyter-widgets/base",
     "model_module_version": "1.2.0",
     "model_name": "LayoutModel",
     "state": {
      "_model_module": "@jupyter-widgets/base",
      "_model_module_version": "1.2.0",
      "_model_name": "LayoutModel",
      "_view_count": null,
      "_view_module": "@jupyter-widgets/base",
      "_view_module_version": "1.2.0",
      "_view_name": "LayoutView",
      "align_content": null,
      "align_items": null,
      "align_self": null,
      "border": null,
      "bottom": null,
      "display": null,
      "flex": null,
      "flex_flow": null,
      "grid_area": null,
      "grid_auto_columns": null,
      "grid_auto_flow": null,
      "grid_auto_rows": null,
      "grid_column": null,
      "grid_gap": null,
      "grid_row": null,
      "grid_template_areas": null,
      "grid_template_columns": null,
      "grid_template_rows": null,
      "height": null,
      "justify_content": null,
      "justify_items": null,
      "left": null,
      "margin": null,
      "max_height": null,
      "max_width": null,
      "min_height": null,
      "min_width": null,
      "object_fit": null,
      "object_position": null,
      "order": null,
      "overflow": null,
      "overflow_x": null,
      "overflow_y": null,
      "padding": null,
      "right": null,
      "top": null,
      "visibility": null,
      "width": null
     }
    },
    "e70633d0b31f4284801a15c0f4106c9c": {
     "model_module": "@jupyter-widgets/base",
     "model_module_version": "1.2.0",
     "model_name": "LayoutModel",
     "state": {
      "_model_module": "@jupyter-widgets/base",
      "_model_module_version": "1.2.0",
      "_model_name": "LayoutModel",
      "_view_count": null,
      "_view_module": "@jupyter-widgets/base",
      "_view_module_version": "1.2.0",
      "_view_name": "LayoutView",
      "align_content": null,
      "align_items": null,
      "align_self": null,
      "border": null,
      "bottom": null,
      "display": null,
      "flex": null,
      "flex_flow": null,
      "grid_area": null,
      "grid_auto_columns": null,
      "grid_auto_flow": null,
      "grid_auto_rows": null,
      "grid_column": null,
      "grid_gap": null,
      "grid_row": null,
      "grid_template_areas": null,
      "grid_template_columns": null,
      "grid_template_rows": null,
      "height": null,
      "justify_content": null,
      "justify_items": null,
      "left": null,
      "margin": null,
      "max_height": null,
      "max_width": null,
      "min_height": null,
      "min_width": null,
      "object_fit": null,
      "object_position": null,
      "order": null,
      "overflow": null,
      "overflow_x": null,
      "overflow_y": null,
      "padding": null,
      "right": null,
      "top": null,
      "visibility": null,
      "width": null
     }
    },
    "ecfdfed0a9864aa9b1dfd320a7a1cb32": {
     "model_module": "@jupyter-widgets/controls",
     "model_module_version": "1.5.0",
     "model_name": "HBoxModel",
     "state": {
      "_dom_classes": [],
      "_model_module": "@jupyter-widgets/controls",
      "_model_module_version": "1.5.0",
      "_model_name": "HBoxModel",
      "_view_count": null,
      "_view_module": "@jupyter-widgets/controls",
      "_view_module_version": "1.5.0",
      "_view_name": "HBoxView",
      "box_style": "",
      "children": [
       "IPY_MODEL_a3c5f03fe88c4b28b6f603612f57be4d",
       "IPY_MODEL_cf7406be0a094ce2bf681f08072ec2fb",
       "IPY_MODEL_62971c76c73d4ce58794874af5556abc"
      ],
      "layout": "IPY_MODEL_3ec1f8f3e002434b9c90d6947f9cd15c"
     }
    },
    "f2281c844a6f496e82b4940d3ae00636": {
     "model_module": "@jupyter-widgets/controls",
     "model_module_version": "1.5.0",
     "model_name": "FloatProgressModel",
     "state": {
      "_dom_classes": [],
      "_model_module": "@jupyter-widgets/controls",
      "_model_module_version": "1.5.0",
      "_model_name": "FloatProgressModel",
      "_view_count": null,
      "_view_module": "@jupyter-widgets/controls",
      "_view_module_version": "1.5.0",
      "_view_name": "ProgressView",
      "bar_style": "success",
      "description": "",
      "description_tooltip": null,
      "layout": "IPY_MODEL_d9235fcbe51a4286abff5d30385ba51b",
      "max": 735,
      "min": 0,
      "orientation": "horizontal",
      "style": "IPY_MODEL_6e0e517537834770985e4c6538981b07",
      "value": 735
     }
    },
    "f40e097d045b43cebf83e43eb1d9ee82": {
     "model_module": "@jupyter-widgets/base",
     "model_module_version": "1.2.0",
     "model_name": "LayoutModel",
     "state": {
      "_model_module": "@jupyter-widgets/base",
      "_model_module_version": "1.2.0",
      "_model_name": "LayoutModel",
      "_view_count": null,
      "_view_module": "@jupyter-widgets/base",
      "_view_module_version": "1.2.0",
      "_view_name": "LayoutView",
      "align_content": null,
      "align_items": null,
      "align_self": null,
      "border": null,
      "bottom": null,
      "display": null,
      "flex": null,
      "flex_flow": null,
      "grid_area": null,
      "grid_auto_columns": null,
      "grid_auto_flow": null,
      "grid_auto_rows": null,
      "grid_column": null,
      "grid_gap": null,
      "grid_row": null,
      "grid_template_areas": null,
      "grid_template_columns": null,
      "grid_template_rows": null,
      "height": null,
      "justify_content": null,
      "justify_items": null,
      "left": null,
      "margin": null,
      "max_height": null,
      "max_width": null,
      "min_height": null,
      "min_width": null,
      "object_fit": null,
      "object_position": null,
      "order": null,
      "overflow": null,
      "overflow_x": null,
      "overflow_y": null,
      "padding": null,
      "right": null,
      "top": null,
      "visibility": null,
      "width": null
     }
    },
    "f4f08038b8de49829daaeffeeedb05ab": {
     "model_module": "@jupyter-widgets/controls",
     "model_module_version": "1.5.0",
     "model_name": "FloatProgressModel",
     "state": {
      "_dom_classes": [],
      "_model_module": "@jupyter-widgets/controls",
      "_model_module_version": "1.5.0",
      "_model_name": "FloatProgressModel",
      "_view_count": null,
      "_view_module": "@jupyter-widgets/controls",
      "_view_module_version": "1.5.0",
      "_view_name": "ProgressView",
      "bar_style": "success",
      "description": "",
      "description_tooltip": null,
      "layout": "IPY_MODEL_3b469d00d1fc455d8b565d45ff47f8e7",
      "max": 735,
      "min": 0,
      "orientation": "horizontal",
      "style": "IPY_MODEL_03f7e213c4bf45bf8e392174d6206bed",
      "value": 735
     }
    },
    "f6a96e0f5810429d8eb489a6f3946e6c": {
     "model_module": "@jupyter-widgets/base",
     "model_module_version": "1.2.0",
     "model_name": "LayoutModel",
     "state": {
      "_model_module": "@jupyter-widgets/base",
      "_model_module_version": "1.2.0",
      "_model_name": "LayoutModel",
      "_view_count": null,
      "_view_module": "@jupyter-widgets/base",
      "_view_module_version": "1.2.0",
      "_view_name": "LayoutView",
      "align_content": null,
      "align_items": null,
      "align_self": null,
      "border": null,
      "bottom": null,
      "display": null,
      "flex": null,
      "flex_flow": null,
      "grid_area": null,
      "grid_auto_columns": null,
      "grid_auto_flow": null,
      "grid_auto_rows": null,
      "grid_column": null,
      "grid_gap": null,
      "grid_row": null,
      "grid_template_areas": null,
      "grid_template_columns": null,
      "grid_template_rows": null,
      "height": null,
      "justify_content": null,
      "justify_items": null,
      "left": null,
      "margin": null,
      "max_height": null,
      "max_width": null,
      "min_height": null,
      "min_width": null,
      "object_fit": null,
      "object_position": null,
      "order": null,
      "overflow": null,
      "overflow_x": null,
      "overflow_y": null,
      "padding": null,
      "right": null,
      "top": null,
      "visibility": null,
      "width": "20px"
     }
    },
    "f806c80a4d4042ee85b57acde3e2705c": {
     "model_module": "@jupyter-widgets/base",
     "model_module_version": "1.2.0",
     "model_name": "LayoutModel",
     "state": {
      "_model_module": "@jupyter-widgets/base",
      "_model_module_version": "1.2.0",
      "_model_name": "LayoutModel",
      "_view_count": null,
      "_view_module": "@jupyter-widgets/base",
      "_view_module_version": "1.2.0",
      "_view_name": "LayoutView",
      "align_content": null,
      "align_items": null,
      "align_self": null,
      "border": null,
      "bottom": null,
      "display": null,
      "flex": null,
      "flex_flow": null,
      "grid_area": null,
      "grid_auto_columns": null,
      "grid_auto_flow": null,
      "grid_auto_rows": null,
      "grid_column": null,
      "grid_gap": null,
      "grid_row": null,
      "grid_template_areas": null,
      "grid_template_columns": null,
      "grid_template_rows": null,
      "height": null,
      "justify_content": null,
      "justify_items": null,
      "left": null,
      "margin": null,
      "max_height": null,
      "max_width": null,
      "min_height": null,
      "min_width": null,
      "object_fit": null,
      "object_position": null,
      "order": null,
      "overflow": null,
      "overflow_x": null,
      "overflow_y": null,
      "padding": null,
      "right": null,
      "top": null,
      "visibility": null,
      "width": null
     }
    },
    "fae1f6653087483dbde3b7a4e21cd1d9": {
     "model_module": "@jupyter-widgets/controls",
     "model_module_version": "1.5.0",
     "model_name": "FloatProgressModel",
     "state": {
      "_dom_classes": [],
      "_model_module": "@jupyter-widgets/controls",
      "_model_module_version": "1.5.0",
      "_model_name": "FloatProgressModel",
      "_view_count": null,
      "_view_module": "@jupyter-widgets/controls",
      "_view_module_version": "1.5.0",
      "_view_name": "ProgressView",
      "bar_style": "success",
      "description": "",
      "description_tooltip": null,
      "layout": "IPY_MODEL_93bd4879266b461a8994004dd6a2f2af",
      "max": 8,
      "min": 0,
      "orientation": "horizontal",
      "style": "IPY_MODEL_36fcb62c8f4d4dcc8fb0f6f287790f91",
      "value": 8
     }
    },
    "ff1979990f60488ab3a7dd840419c36b": {
     "model_module": "@jupyter-widgets/controls",
     "model_module_version": "1.5.0",
     "model_name": "HTMLModel",
     "state": {
      "_dom_classes": [],
      "_model_module": "@jupyter-widgets/controls",
      "_model_module_version": "1.5.0",
      "_model_name": "HTMLModel",
      "_view_count": null,
      "_view_module": "@jupyter-widgets/controls",
      "_view_module_version": "1.5.0",
      "_view_name": "HTMLView",
      "description": "",
      "description_tooltip": null,
      "layout": "IPY_MODEL_7138e587d2ed425d98ffac3af1e26f5c",
      "placeholder": "​",
      "style": "IPY_MODEL_a1fb98a52721452f869390c4aacbf0cb",
      "value": "Map: 100%"
     }
    }
   }
  }
 },
 "nbformat": 4,
 "nbformat_minor": 4
}
